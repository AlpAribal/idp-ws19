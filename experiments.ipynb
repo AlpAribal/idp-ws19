{
 "cells": [
  {
   "cell_type": "code",
   "execution_count": 1,
   "metadata": {},
   "outputs": [],
   "source": [
    "from src import csv_handlers, data_retrieval, string_handlers"
   ]
  },
  {
   "cell_type": "code",
   "execution_count": 14,
   "metadata": {},
   "outputs": [
    {
     "name": "stdout",
     "output_type": "stream",
     "text": [
      "2019-11-16 11:05:26,183 - src.data_retrieval - DEBUG - Number of batches: 51\n"
     ]
    },
    {
     "name": "stderr",
     "output_type": "stream",
     "text": [
      "\r",
      "  0%|          | 0/51 [00:00<?, ?it/s]"
     ]
    },
    {
     "name": "stdout",
     "output_type": "stream",
     "text": [
      "2019-11-16 11:05:30,791 - src.data_retrieval - DEBUG - Generated file will be at `https://files.usaspending.gov/generated_downloads/all_prime_transactions_20191116100530532547.zip`.\n",
      "2019-11-16 11:05:32,041 - src.data_retrieval - DEBUG - Generated file will be at `https://files.usaspending.gov/generated_downloads/all_prime_transactions_20191116100531560273.zip`.\n",
      "2019-11-16 11:05:32,950 - src.data_retrieval - DEBUG - Generated file will be at `https://files.usaspending.gov/generated_downloads/all_prime_transactions_20191116100532754774.zip`.\n",
      "2019-11-16 11:05:33,850 - src.data_retrieval - DEBUG - Generated file will be at `https://files.usaspending.gov/generated_downloads/all_prime_transactions_20191116100533665792.zip`.\n",
      "2019-11-16 11:05:34,728 - src.data_retrieval - DEBUG - Generated file will be at `https://files.usaspending.gov/generated_downloads/all_prime_transactions_20191116100534542376.zip`.\n",
      "2019-11-16 11:05:35,612 - src.data_retrieval - DEBUG - Generated file will be at `https://files.usaspending.gov/generated_downloads/all_prime_transactions_20191116100535417137.zip`.\n",
      "2019-11-16 11:05:36,530 - src.data_retrieval - DEBUG - Generated file will be at `https://files.usaspending.gov/generated_downloads/all_prime_transactions_20191116100536314841.zip`.\n",
      "2019-11-16 11:05:37,410 - src.data_retrieval - DEBUG - Generated file will be at `https://files.usaspending.gov/generated_downloads/all_prime_transactions_20191116100537245726.zip`.\n",
      "2019-11-16 11:05:39,008 - src.data_retrieval - DEBUG - Generated file will be at `https://files.usaspending.gov/generated_downloads/all_prime_transactions_20191116100538788688.zip`.\n",
      "2019-11-16 11:05:39,836 - src.data_retrieval - DEBUG - Generated file will be at `https://files.usaspending.gov/generated_downloads/all_prime_transactions_20191116100539679749.zip`.\n",
      "2019-11-16 11:05:40,733 - src.data_retrieval - DEBUG - Generated file will be at `https://files.usaspending.gov/generated_downloads/all_prime_transactions_20191116100540562904.zip`.\n",
      "2019-11-16 11:05:41,588 - src.data_retrieval - DEBUG - Generated file will be at `https://files.usaspending.gov/generated_downloads/all_prime_transactions_20191116100541427396.zip`.\n",
      "2019-11-16 11:05:42,444 - src.data_retrieval - DEBUG - Generated file will be at `https://files.usaspending.gov/generated_downloads/all_prime_transactions_20191116100542272864.zip`.\n",
      "2019-11-16 11:05:43,717 - src.data_retrieval - DEBUG - Generated file will be at `https://files.usaspending.gov/generated_downloads/all_prime_transactions_20191116100543150803.zip`.\n",
      "2019-11-16 11:05:44,573 - src.data_retrieval - DEBUG - Generated file will be at `https://files.usaspending.gov/generated_downloads/all_prime_transactions_20191116100544409766.zip`.\n",
      "2019-11-16 11:05:45,442 - src.data_retrieval - DEBUG - Generated file will be at `https://files.usaspending.gov/generated_downloads/all_prime_transactions_20191116100545260586.zip`.\n",
      "2019-11-16 11:05:46,338 - src.data_retrieval - DEBUG - Generated file will be at `https://files.usaspending.gov/generated_downloads/all_prime_transactions_20191116100546157267.zip`.\n",
      "2019-11-16 11:05:47,183 - src.data_retrieval - DEBUG - Generated file will be at `https://files.usaspending.gov/generated_downloads/all_prime_transactions_20191116100547006695.zip`.\n",
      "2019-11-16 11:05:48,123 - src.data_retrieval - DEBUG - Generated file will be at `https://files.usaspending.gov/generated_downloads/all_prime_transactions_20191116100547929273.zip`.\n",
      "2019-11-16 11:05:48,979 - src.data_retrieval - DEBUG - Generated file will be at `https://files.usaspending.gov/generated_downloads/all_prime_transactions_20191116100548823348.zip`.\n",
      "2019-11-16 11:05:49,906 - src.data_retrieval - DEBUG - Generated file will be at `https://files.usaspending.gov/generated_downloads/all_prime_transactions_20191116100549739824.zip`.\n",
      "2019-11-16 11:05:50,875 - src.data_retrieval - DEBUG - Generated file will be at `https://files.usaspending.gov/generated_downloads/all_prime_transactions_20191116100550645975.zip`.\n",
      "2019-11-16 11:05:51,743 - src.data_retrieval - DEBUG - Generated file will be at `https://files.usaspending.gov/generated_downloads/all_prime_transactions_20191116100551574462.zip`.\n",
      "2019-11-16 11:05:52,933 - src.data_retrieval - DEBUG - Generated file will be at `https://files.usaspending.gov/generated_downloads/all_prime_transactions_20191116100552473149.zip`.\n",
      "2019-11-16 11:05:53,835 - src.data_retrieval - DEBUG - Generated file will be at `https://files.usaspending.gov/generated_downloads/all_prime_transactions_20191116100553641144.zip`.\n",
      "2019-11-16 11:05:54,724 - src.data_retrieval - DEBUG - Generated file will be at `https://files.usaspending.gov/generated_downloads/all_prime_transactions_20191116100554557760.zip`.\n",
      "2019-11-16 11:05:55,631 - src.data_retrieval - DEBUG - Generated file will be at `https://files.usaspending.gov/generated_downloads/all_prime_transactions_20191116100555428528.zip`.\n",
      "2019-11-16 11:05:56,478 - src.data_retrieval - DEBUG - Generated file will be at `https://files.usaspending.gov/generated_downloads/all_prime_transactions_20191116100556321694.zip`.\n",
      "2019-11-16 11:05:57,429 - src.data_retrieval - DEBUG - Generated file will be at `https://files.usaspending.gov/generated_downloads/all_prime_transactions_20191116100557271204.zip`.\n",
      "2019-11-16 11:05:58,295 - src.data_retrieval - DEBUG - Generated file will be at `https://files.usaspending.gov/generated_downloads/all_prime_transactions_20191116100558126071.zip`.\n",
      "2019-11-16 11:05:59,150 - src.data_retrieval - DEBUG - Generated file will be at `https://files.usaspending.gov/generated_downloads/all_prime_transactions_20191116100558991471.zip`.\n",
      "2019-11-16 11:06:00,021 - src.data_retrieval - DEBUG - Generated file will be at `https://files.usaspending.gov/generated_downloads/all_prime_transactions_20191116100559836856.zip`.\n",
      "2019-11-16 11:06:01,224 - src.data_retrieval - DEBUG - Generated file will be at `https://files.usaspending.gov/generated_downloads/all_prime_transactions_20191116100600729073.zip`.\n",
      "2019-11-16 11:06:02,120 - src.data_retrieval - DEBUG - Generated file will be at `https://files.usaspending.gov/generated_downloads/all_prime_transactions_20191116100601944271.zip`.\n",
      "2019-11-16 11:06:02,993 - src.data_retrieval - DEBUG - Generated file will be at `https://files.usaspending.gov/generated_downloads/all_prime_transactions_20191116100602824976.zip`.\n",
      "2019-11-16 11:06:03,840 - src.data_retrieval - DEBUG - Generated file will be at `https://files.usaspending.gov/generated_downloads/all_prime_transactions_20191116100603676689.zip`.\n",
      "2019-11-16 11:06:04,734 - src.data_retrieval - DEBUG - Generated file will be at `https://files.usaspending.gov/generated_downloads/all_prime_transactions_20191116100604536160.zip`.\n",
      "2019-11-16 11:06:05,834 - src.data_retrieval - DEBUG - Generated file will be at `https://files.usaspending.gov/generated_downloads/all_prime_transactions_20191116100605477884.zip`.\n",
      "2019-11-16 11:06:06,687 - src.data_retrieval - DEBUG - Generated file will be at `https://files.usaspending.gov/generated_downloads/all_prime_transactions_20191116100606518887.zip`.\n",
      "2019-11-16 11:06:07,567 - src.data_retrieval - DEBUG - Generated file will be at `https://files.usaspending.gov/generated_downloads/all_prime_transactions_20191116100607392659.zip`.\n",
      "2019-11-16 11:06:08,483 - src.data_retrieval - DEBUG - Generated file will be at `https://files.usaspending.gov/generated_downloads/all_prime_transactions_20191116100608305239.zip`.\n",
      "2019-11-16 11:06:09,354 - src.data_retrieval - DEBUG - Generated file will be at `https://files.usaspending.gov/generated_downloads/all_prime_transactions_20191116100609175977.zip`.\n",
      "2019-11-16 11:06:10,267 - src.data_retrieval - DEBUG - Generated file will be at `https://files.usaspending.gov/generated_downloads/all_prime_transactions_20191116100610093062.zip`.\n",
      "2019-11-16 11:06:11,188 - src.data_retrieval - DEBUG - Generated file will be at `https://files.usaspending.gov/generated_downloads/all_prime_transactions_20191116100611004055.zip`.\n",
      "2019-11-16 11:06:12,640 - src.data_retrieval - DEBUG - Generated file will be at `https://files.usaspending.gov/generated_downloads/all_prime_transactions_20191116100612474447.zip`.\n",
      "2019-11-16 11:06:13,521 - src.data_retrieval - DEBUG - Generated file will be at `https://files.usaspending.gov/generated_downloads/all_prime_transactions_20191116100613331529.zip`.\n"
     ]
    },
    {
     "name": "stdout",
     "output_type": "stream",
     "text": [
      "2019-11-16 11:06:14,396 - src.data_retrieval - DEBUG - Generated file will be at `https://files.usaspending.gov/generated_downloads/all_prime_transactions_20191116100614225826.zip`.\n",
      "2019-11-16 11:06:15,355 - src.data_retrieval - DEBUG - Generated file will be at `https://files.usaspending.gov/generated_downloads/all_prime_transactions_20191116100615092355.zip`.\n",
      "2019-11-16 11:06:16,320 - src.data_retrieval - DEBUG - Generated file will be at `https://files.usaspending.gov/generated_downloads/all_prime_transactions_20191116100616125677.zip`.\n",
      "2019-11-16 11:06:17,210 - src.data_retrieval - DEBUG - Generated file will be at `https://files.usaspending.gov/generated_downloads/all_prime_transactions_20191116100617035798.zip`.\n",
      "2019-11-16 11:06:18,091 - src.data_retrieval - DEBUG - Generated file will be at `https://files.usaspending.gov/generated_downloads/all_prime_transactions_20191116100617911785.zip`.\n",
      "2019-11-16 11:12:34,709 - src.data_retrieval - DEBUG - `all_prime_transactions_20191116100530532547.zip` is ready, starting download.\n",
      "2019-11-16 11:12:58,488 - src.data_retrieval - DEBUG - Download finished, moving to the next.\n"
     ]
    },
    {
     "name": "stderr",
     "output_type": "stream",
     "text": [
      "\r",
      "  2%|▏         | 1/51 [07:32<6:16:54, 452.29s/it]"
     ]
    },
    {
     "name": "stdout",
     "output_type": "stream",
     "text": [
      "2019-11-16 11:14:20,025 - src.data_retrieval - DEBUG - `all_prime_transactions_20191116100532754774.zip` is ready, starting download.\n",
      "2019-11-16 11:15:49,516 - src.data_retrieval - DEBUG - Download finished, moving to the next.\n"
     ]
    },
    {
     "name": "stderr",
     "output_type": "stream",
     "text": [
      "\r",
      "  4%|▍         | 2/51 [10:23<5:00:27, 367.91s/it]"
     ]
    },
    {
     "name": "stdout",
     "output_type": "stream",
     "text": [
      "2019-11-16 11:15:50,803 - src.data_retrieval - DEBUG - `all_prime_transactions_20191116100534542376.zip` is ready, starting download.\n",
      "2019-11-16 11:16:43,024 - src.data_retrieval - DEBUG - Download finished, moving to the next.\n"
     ]
    },
    {
     "name": "stderr",
     "output_type": "stream",
     "text": [
      "\r",
      "  6%|▌         | 3/51 [11:16<3:38:52, 273.59s/it]"
     ]
    },
    {
     "name": "stdout",
     "output_type": "stream",
     "text": [
      "2019-11-16 11:17:22,718 - src.data_retrieval - DEBUG - `all_prime_transactions_20191116100617911785.zip` is ready, starting download.\n",
      "2019-11-16 11:17:54,402 - src.data_retrieval - DEBUG - Download finished, moving to the next.\n"
     ]
    },
    {
     "name": "stderr",
     "output_type": "stream",
     "text": [
      "\r",
      "  8%|▊         | 4/51 [12:28<2:46:47, 212.93s/it]"
     ]
    },
    {
     "name": "stdout",
     "output_type": "stream",
     "text": [
      "2019-11-16 11:17:56,230 - src.data_retrieval - DEBUG - `all_prime_transactions_20191116100531560273.zip` is ready, starting download.\n",
      "2019-11-16 11:18:38,700 - src.data_retrieval - DEBUG - Download finished, moving to the next.\n"
     ]
    },
    {
     "name": "stderr",
     "output_type": "stream",
     "text": [
      "\r",
      " 10%|▉         | 5/51 [13:12<2:04:27, 162.34s/it]"
     ]
    },
    {
     "name": "stdout",
     "output_type": "stream",
     "text": [
      "2019-11-16 11:19:17,533 - src.data_retrieval - DEBUG - `all_prime_transactions_20191116100533665792.zip` is ready, starting download.\n",
      "2019-11-16 11:19:51,514 - src.data_retrieval - DEBUG - Download finished, moving to the next.\n"
     ]
    },
    {
     "name": "stderr",
     "output_type": "stream",
     "text": [
      "\r",
      " 12%|█▏        | 6/51 [14:25<1:41:36, 135.48s/it]"
     ]
    },
    {
     "name": "stdout",
     "output_type": "stream",
     "text": [
      "2019-11-16 11:25:10,723 - src.data_retrieval - DEBUG - `all_prime_transactions_20191116100535417137.zip` is ready, starting download.\n",
      "2019-11-16 11:25:50,073 - src.data_retrieval - DEBUG - Download finished, moving to the next.\n"
     ]
    },
    {
     "name": "stderr",
     "output_type": "stream",
     "text": [
      "\r",
      " 14%|█▎        | 7/51 [20:23<2:28:25, 202.40s/it]"
     ]
    },
    {
     "name": "stdout",
     "output_type": "stream",
     "text": [
      "2019-11-16 11:26:24,865 - src.data_retrieval - DEBUG - `all_prime_transactions_20191116100536314841.zip` is ready, starting download.\n",
      "2019-11-16 11:27:04,045 - src.data_retrieval - DEBUG - Download finished, moving to the next.\n"
     ]
    },
    {
     "name": "stderr",
     "output_type": "stream",
     "text": [
      "\r",
      " 16%|█▌        | 8/51 [21:37<1:57:26, 163.87s/it]"
     ]
    },
    {
     "name": "stdout",
     "output_type": "stream",
     "text": [
      "2019-11-16 11:27:07,810 - src.data_retrieval - DEBUG - `all_prime_transactions_20191116100542272864.zip` is ready, starting download.\n",
      "2019-11-16 11:27:43,358 - src.data_retrieval - DEBUG - Download finished, moving to the next.\n"
     ]
    },
    {
     "name": "stderr",
     "output_type": "stream",
     "text": [
      "\r",
      " 18%|█▊        | 9/51 [22:17<1:28:33, 126.51s/it]"
     ]
    },
    {
     "name": "stdout",
     "output_type": "stream",
     "text": [
      "2019-11-16 11:28:12,025 - src.data_retrieval - DEBUG - `all_prime_transactions_20191116100537245726.zip` is ready, starting download.\n",
      "2019-11-16 11:29:03,338 - src.data_retrieval - DEBUG - Download finished, moving to the next.\n"
     ]
    },
    {
     "name": "stderr",
     "output_type": "stream",
     "text": [
      "\r",
      " 20%|█▉        | 10/51 [23:37<1:16:54, 112.55s/it]"
     ]
    },
    {
     "name": "stdout",
     "output_type": "stream",
     "text": [
      "2019-11-16 11:29:39,554 - src.data_retrieval - DEBUG - `all_prime_transactions_20191116100541427396.zip` is ready, starting download.\n",
      "2019-11-16 11:30:42,865 - src.data_retrieval - DEBUG - Download finished, moving to the next.\n"
     ]
    },
    {
     "name": "stderr",
     "output_type": "stream",
     "text": [
      "\r",
      " 22%|██▏       | 11/51 [25:16<1:12:25, 108.64s/it]"
     ]
    },
    {
     "name": "stdout",
     "output_type": "stream",
     "text": [
      "2019-11-16 11:31:13,424 - src.data_retrieval - DEBUG - `all_prime_transactions_20191116100617035798.zip` is ready, starting download.\n",
      "2019-11-16 11:32:07,709 - src.data_retrieval - DEBUG - Download finished, moving to the next.\n"
     ]
    },
    {
     "name": "stderr",
     "output_type": "stream",
     "text": [
      "\r",
      " 24%|██▎       | 12/51 [26:41<1:05:58, 101.50s/it]"
     ]
    },
    {
     "name": "stdout",
     "output_type": "stream",
     "text": [
      "2019-11-16 11:32:11,750 - src.data_retrieval - DEBUG - `all_prime_transactions_20191116100543150803.zip` is ready, starting download.\n",
      "2019-11-16 11:33:08,329 - src.data_retrieval - DEBUG - Download finished, moving to the next.\n"
     ]
    },
    {
     "name": "stderr",
     "output_type": "stream",
     "text": [
      "\r",
      " 25%|██▌       | 13/51 [27:42<56:31, 89.24s/it]   "
     ]
    },
    {
     "name": "stdout",
     "output_type": "stream",
     "text": [
      "2019-11-16 11:33:10,588 - src.data_retrieval - DEBUG - `all_prime_transactions_20191116100547006695.zip` is ready, starting download.\n",
      "2019-11-16 11:33:55,482 - src.data_retrieval - DEBUG - Download finished, moving to the next.\n"
     ]
    },
    {
     "name": "stderr",
     "output_type": "stream",
     "text": [
      "\r",
      " 27%|██▋       | 14/51 [28:29<47:14, 76.61s/it]"
     ]
    },
    {
     "name": "stdout",
     "output_type": "stream",
     "text": [
      "2019-11-16 11:33:57,252 - src.data_retrieval - DEBUG - `all_prime_transactions_20191116100548823348.zip` is ready, starting download.\n",
      "2019-11-16 11:34:54,285 - src.data_retrieval - DEBUG - Download finished, moving to the next.\n"
     ]
    },
    {
     "name": "stderr",
     "output_type": "stream",
     "text": [
      "\r",
      " 29%|██▉       | 15/51 [29:28<42:45, 71.27s/it]"
     ]
    },
    {
     "name": "stdout",
     "output_type": "stream",
     "text": [
      "2019-11-16 11:34:57,206 - src.data_retrieval - DEBUG - `all_prime_transactions_20191116100553641144.zip` is ready, starting download.\n",
      "2019-11-16 11:35:43,197 - src.data_retrieval - DEBUG - Download finished, moving to the next.\n"
     ]
    },
    {
     "name": "stderr",
     "output_type": "stream",
     "text": [
      "\r",
      " 31%|███▏      | 16/51 [30:16<37:39, 64.56s/it]"
     ]
    },
    {
     "name": "stdout",
     "output_type": "stream",
     "text": [
      "2019-11-16 11:35:53,240 - src.data_retrieval - DEBUG - `all_prime_transactions_20191116100605477884.zip` is ready, starting download.\n",
      "2019-11-16 11:36:45,982 - src.data_retrieval - DEBUG - Download finished, moving to the next.\n"
     ]
    },
    {
     "name": "stderr",
     "output_type": "stream",
     "text": [
      "\r",
      " 33%|███▎      | 17/51 [31:19<36:16, 64.03s/it]"
     ]
    },
    {
     "name": "stdout",
     "output_type": "stream",
     "text": [
      "2019-11-16 11:36:57,352 - src.data_retrieval - DEBUG - `all_prime_transactions_20191116100544409766.zip` is ready, starting download.\n",
      "2019-11-16 11:37:43,659 - src.data_retrieval - DEBUG - Download finished, moving to the next.\n"
     ]
    },
    {
     "name": "stderr",
     "output_type": "stream",
     "text": [
      "\r",
      " 35%|███▌      | 18/51 [32:17<34:10, 62.12s/it]"
     ]
    },
    {
     "name": "stdout",
     "output_type": "stream",
     "text": [
      "2019-11-16 11:37:44,409 - src.data_retrieval - DEBUG - `all_prime_transactions_20191116100546157267.zip` is ready, starting download.\n",
      "2019-11-16 11:38:26,171 - src.data_retrieval - DEBUG - Download finished, moving to the next.\n"
     ]
    },
    {
     "name": "stderr",
     "output_type": "stream",
     "text": [
      "\r",
      " 37%|███▋      | 19/51 [32:59<29:59, 56.24s/it]"
     ]
    },
    {
     "name": "stdout",
     "output_type": "stream",
     "text": [
      "2019-11-16 11:38:26,932 - src.data_retrieval - DEBUG - `all_prime_transactions_20191116100549739824.zip` is ready, starting download.\n",
      "2019-11-16 11:39:40,656 - src.data_retrieval - DEBUG - Download finished, moving to the next.\n"
     ]
    },
    {
     "name": "stderr",
     "output_type": "stream",
     "text": [
      "\r",
      " 39%|███▉      | 20/51 [34:14<31:53, 61.71s/it]"
     ]
    },
    {
     "name": "stdout",
     "output_type": "stream",
     "text": [
      "2019-11-16 11:39:41,463 - src.data_retrieval - DEBUG - `all_prime_transactions_20191116100551574462.zip` is ready, starting download.\n",
      "2019-11-16 11:40:44,043 - src.data_retrieval - DEBUG - Download finished, moving to the next.\n"
     ]
    },
    {
     "name": "stderr",
     "output_type": "stream",
     "text": [
      "\r",
      " 41%|████      | 21/51 [35:17<31:06, 62.22s/it]"
     ]
    },
    {
     "name": "stdout",
     "output_type": "stream",
     "text": [
      "2019-11-16 11:40:44,785 - src.data_retrieval - DEBUG - `all_prime_transactions_20191116100554557760.zip` is ready, starting download.\n",
      "2019-11-16 11:41:38,386 - src.data_retrieval - DEBUG - Download finished, moving to the next.\n"
     ]
    },
    {
     "name": "stderr",
     "output_type": "stream",
     "text": [
      "\r",
      " 43%|████▎     | 22/51 [36:12<28:55, 59.85s/it]"
     ]
    },
    {
     "name": "stdout",
     "output_type": "stream",
     "text": [
      "2019-11-16 11:41:41,471 - src.data_retrieval - DEBUG - `all_prime_transactions_20191116100558991471.zip` is ready, starting download.\n",
      "2019-11-16 11:42:51,954 - src.data_retrieval - DEBUG - Download finished, moving to the next.\n"
     ]
    },
    {
     "name": "stderr",
     "output_type": "stream",
     "text": [
      "\r",
      " 45%|████▌     | 23/51 [37:25<29:51, 63.97s/it]"
     ]
    },
    {
     "name": "stdout",
     "output_type": "stream",
     "text": [
      "2019-11-16 11:42:52,704 - src.data_retrieval - DEBUG - `all_prime_transactions_20191116100600729073.zip` is ready, starting download.\n",
      "2019-11-16 11:44:00,083 - src.data_retrieval - DEBUG - Download finished, moving to the next.\n"
     ]
    },
    {
     "name": "stderr",
     "output_type": "stream",
     "text": [
      "\r",
      " 47%|████▋     | 24/51 [38:33<29:20, 65.22s/it]"
     ]
    },
    {
     "name": "stdout",
     "output_type": "stream",
     "text": [
      "2019-11-16 11:44:01,598 - src.data_retrieval - DEBUG - `all_prime_transactions_20191116100603676689.zip` is ready, starting download.\n",
      "2019-11-16 11:45:32,601 - src.data_retrieval - DEBUG - Download finished, moving to the next.\n"
     ]
    },
    {
     "name": "stderr",
     "output_type": "stream",
     "text": [
      "\r",
      " 49%|████▉     | 25/51 [40:06<31:48, 73.41s/it]"
     ]
    },
    {
     "name": "stdout",
     "output_type": "stream",
     "text": [
      "2019-11-16 11:45:33,365 - src.data_retrieval - DEBUG - `all_prime_transactions_20191116100606518887.zip` is ready, starting download.\n",
      "2019-11-16 11:46:32,740 - src.data_retrieval - DEBUG - Download finished, moving to the next.\n"
     ]
    },
    {
     "name": "stderr",
     "output_type": "stream",
     "text": [
      "\r",
      " 51%|█████     | 26/51 [41:06<28:55, 69.43s/it]"
     ]
    },
    {
     "name": "stdout",
     "output_type": "stream",
     "text": [
      "2019-11-16 11:46:33,509 - src.data_retrieval - DEBUG - `all_prime_transactions_20191116100608305239.zip` is ready, starting download.\n",
      "2019-11-16 11:47:41,873 - src.data_retrieval - DEBUG - Download finished, moving to the next.\n"
     ]
    },
    {
     "name": "stderr",
     "output_type": "stream",
     "text": [
      "\r",
      " 53%|█████▎    | 27/51 [42:15<27:44, 69.34s/it]"
     ]
    },
    {
     "name": "stdout",
     "output_type": "stream",
     "text": [
      "2019-11-16 11:47:42,632 - src.data_retrieval - DEBUG - `all_prime_transactions_20191116100610093062.zip` is ready, starting download.\n",
      "2019-11-16 11:49:07,458 - src.data_retrieval - DEBUG - Download finished, moving to the next.\n"
     ]
    },
    {
     "name": "stderr",
     "output_type": "stream",
     "text": [
      "\r",
      " 55%|█████▍    | 28/51 [43:41<28:26, 74.21s/it]"
     ]
    },
    {
     "name": "stdout",
     "output_type": "stream",
     "text": [
      "2019-11-16 11:49:08,203 - src.data_retrieval - DEBUG - `all_prime_transactions_20191116100612474447.zip` is ready, starting download.\n",
      "2019-11-16 11:50:11,906 - src.data_retrieval - DEBUG - Download finished, moving to the next.\n"
     ]
    },
    {
     "name": "stderr",
     "output_type": "stream",
     "text": [
      "\r",
      " 57%|█████▋    | 29/51 [44:45<26:08, 71.28s/it]"
     ]
    },
    {
     "name": "stdout",
     "output_type": "stream",
     "text": [
      "2019-11-16 11:50:12,634 - src.data_retrieval - DEBUG - `all_prime_transactions_20191116100614225826.zip` is ready, starting download.\n",
      "2019-11-16 11:51:22,937 - src.data_retrieval - DEBUG - Download finished, moving to the next.\n"
     ]
    },
    {
     "name": "stderr",
     "output_type": "stream",
     "text": [
      "\r",
      " 59%|█████▉    | 30/51 [45:56<24:55, 71.21s/it]"
     ]
    },
    {
     "name": "stdout",
     "output_type": "stream",
     "text": [
      "2019-11-16 11:51:23,695 - src.data_retrieval - DEBUG - `all_prime_transactions_20191116100616125677.zip` is ready, starting download.\n",
      "2019-11-16 11:52:08,222 - src.data_retrieval - DEBUG - Download finished, moving to the next.\n"
     ]
    },
    {
     "name": "stderr",
     "output_type": "stream",
     "text": [
      "\r",
      " 61%|██████    | 31/51 [46:42<21:08, 63.43s/it]"
     ]
    },
    {
     "name": "stdout",
     "output_type": "stream",
     "text": [
      "2019-11-16 11:52:09,948 - src.data_retrieval - DEBUG - `all_prime_transactions_20191116100538788688.zip` is ready, starting download.\n",
      "2019-11-16 11:53:09,899 - src.data_retrieval - DEBUG - Download finished, moving to the next.\n"
     ]
    },
    {
     "name": "stderr",
     "output_type": "stream",
     "text": [
      "\r",
      " 63%|██████▎   | 32/51 [47:43<19:55, 62.90s/it]"
     ]
    },
    {
     "name": "stdout",
     "output_type": "stream",
     "text": [
      "2019-11-16 11:53:10,636 - src.data_retrieval - DEBUG - `all_prime_transactions_20191116100540562904.zip` is ready, starting download.\n",
      "2019-11-16 11:53:59,826 - src.data_retrieval - DEBUG - Download finished, moving to the next.\n"
     ]
    },
    {
     "name": "stderr",
     "output_type": "stream",
     "text": [
      "\r",
      " 65%|██████▍   | 33/51 [48:33<17:42, 59.01s/it]"
     ]
    },
    {
     "name": "stdout",
     "output_type": "stream",
     "text": [
      "2019-11-16 11:54:00,554 - src.data_retrieval - DEBUG - `all_prime_transactions_20191116100547929273.zip` is ready, starting download.\n",
      "2019-11-16 11:54:51,140 - src.data_retrieval - DEBUG - Download finished, moving to the next.\n"
     ]
    },
    {
     "name": "stderr",
     "output_type": "stream",
     "text": [
      "\r",
      " 67%|██████▋   | 34/51 [49:24<16:03, 56.70s/it]"
     ]
    },
    {
     "name": "stdout",
     "output_type": "stream",
     "text": [
      "2019-11-16 11:54:51,901 - src.data_retrieval - DEBUG - `all_prime_transactions_20191116100552473149.zip` is ready, starting download.\n",
      "2019-11-16 11:55:37,690 - src.data_retrieval - DEBUG - Download finished, moving to the next.\n"
     ]
    },
    {
     "name": "stderr",
     "output_type": "stream",
     "text": [
      "\r",
      " 69%|██████▊   | 35/51 [50:11<14:18, 53.66s/it]"
     ]
    },
    {
     "name": "stdout",
     "output_type": "stream",
     "text": [
      "2019-11-16 11:55:38,405 - src.data_retrieval - DEBUG - `all_prime_transactions_20191116100556321694.zip` is ready, starting download.\n",
      "2019-11-16 11:56:55,923 - src.data_retrieval - DEBUG - Download finished, moving to the next.\n"
     ]
    },
    {
     "name": "stderr",
     "output_type": "stream",
     "text": [
      "\r",
      " 71%|███████   | 36/51 [51:29<15:15, 61.03s/it]"
     ]
    },
    {
     "name": "stdout",
     "output_type": "stream",
     "text": [
      "2019-11-16 11:56:56,698 - src.data_retrieval - DEBUG - `all_prime_transactions_20191116100558126071.zip` is ready, starting download.\n",
      "2019-11-16 11:58:14,466 - src.data_retrieval - DEBUG - Download finished, moving to the next.\n"
     ]
    },
    {
     "name": "stderr",
     "output_type": "stream",
     "text": [
      "\r",
      " 73%|███████▎  | 37/51 [52:48<15:27, 66.28s/it]"
     ]
    },
    {
     "name": "stdout",
     "output_type": "stream",
     "text": [
      "2019-11-16 11:58:15,187 - src.data_retrieval - DEBUG - `all_prime_transactions_20191116100601944271.zip` is ready, starting download.\n",
      "2019-11-16 12:00:17,569 - src.data_retrieval - DEBUG - Download finished, moving to the next.\n"
     ]
    },
    {
     "name": "stderr",
     "output_type": "stream",
     "text": [
      "\r",
      " 75%|███████▍  | 38/51 [54:51<18:03, 83.33s/it]"
     ]
    },
    {
     "name": "stdout",
     "output_type": "stream",
     "text": [
      "2019-11-16 12:00:18,345 - src.data_retrieval - DEBUG - `all_prime_transactions_20191116100604536160.zip` is ready, starting download.\n",
      "2019-11-16 12:01:52,851 - src.data_retrieval - DEBUG - Download finished, moving to the next.\n"
     ]
    },
    {
     "name": "stderr",
     "output_type": "stream",
     "text": [
      "\r",
      " 76%|███████▋  | 39/51 [56:26<17:22, 86.92s/it]"
     ]
    },
    {
     "name": "stdout",
     "output_type": "stream",
     "text": [
      "2019-11-16 12:01:53,609 - src.data_retrieval - DEBUG - `all_prime_transactions_20191116100609175977.zip` is ready, starting download.\n",
      "2019-11-16 12:03:05,910 - src.data_retrieval - DEBUG - Download finished, moving to the next.\n"
     ]
    },
    {
     "name": "stderr",
     "output_type": "stream",
     "text": [
      "\r",
      " 78%|███████▊  | 40/51 [57:39<15:10, 82.76s/it]"
     ]
    },
    {
     "name": "stdout",
     "output_type": "stream",
     "text": [
      "2019-11-16 12:03:06,687 - src.data_retrieval - DEBUG - `all_prime_transactions_20191116100613331529.zip` is ready, starting download.\n",
      "2019-11-16 12:04:18,992 - src.data_retrieval - DEBUG - Download finished, moving to the next.\n"
     ]
    },
    {
     "name": "stderr",
     "output_type": "stream",
     "text": [
      "\r",
      " 80%|████████  | 41/51 [58:52<13:18, 79.86s/it]"
     ]
    },
    {
     "name": "stdout",
     "output_type": "stream",
     "text": [
      "2019-11-16 12:04:20,760 - src.data_retrieval - DEBUG - `all_prime_transactions_20191116100539679749.zip` is ready, starting download.\n",
      "2019-11-16 12:05:35,140 - src.data_retrieval - DEBUG - Download finished, moving to the next.\n"
     ]
    },
    {
     "name": "stderr",
     "output_type": "stream",
     "text": [
      "\r",
      " 82%|████████▏ | 42/51 [1:00:08<11:48, 78.74s/it]"
     ]
    },
    {
     "name": "stdout",
     "output_type": "stream",
     "text": [
      "2019-11-16 12:05:35,909 - src.data_retrieval - DEBUG - `all_prime_transactions_20191116100550645975.zip` is ready, starting download.\n",
      "2019-11-16 12:07:20,380 - src.data_retrieval - DEBUG - Download finished, moving to the next.\n"
     ]
    },
    {
     "name": "stderr",
     "output_type": "stream",
     "text": [
      "\r",
      " 84%|████████▍ | 43/51 [1:01:54<11:33, 86.70s/it]"
     ]
    },
    {
     "name": "stdout",
     "output_type": "stream",
     "text": [
      "2019-11-16 12:07:21,271 - src.data_retrieval - DEBUG - `all_prime_transactions_20191116100557271204.zip` is ready, starting download.\n",
      "2019-11-16 12:09:20,432 - src.data_retrieval - DEBUG - Download finished, moving to the next.\n"
     ]
    },
    {
     "name": "stderr",
     "output_type": "stream",
     "text": [
      "\r",
      " 86%|████████▋ | 44/51 [1:03:54<11:16, 96.70s/it]"
     ]
    },
    {
     "name": "stdout",
     "output_type": "stream",
     "text": [
      "2019-11-16 12:09:21,190 - src.data_retrieval - DEBUG - `all_prime_transactions_20191116100602824976.zip` is ready, starting download.\n",
      "2019-11-16 12:16:07,807 - src.data_retrieval - DEBUG - Download finished, moving to the next.\n"
     ]
    },
    {
     "name": "stderr",
     "output_type": "stream",
     "text": [
      "\r",
      " 88%|████████▊ | 45/51 [1:10:41<18:59, 189.90s/it]"
     ]
    },
    {
     "name": "stdout",
     "output_type": "stream",
     "text": [
      "2019-11-16 12:16:08,593 - src.data_retrieval - DEBUG - `all_prime_transactions_20191116100611004055.zip` is ready, starting download.\n",
      "2019-11-16 12:19:24,627 - src.data_retrieval - DEBUG - Download finished, moving to the next.\n"
     ]
    },
    {
     "name": "stderr",
     "output_type": "stream",
     "text": [
      "\r",
      " 90%|█████████ | 46/51 [1:13:58<15:59, 191.98s/it]"
     ]
    },
    {
     "name": "stdout",
     "output_type": "stream",
     "text": [
      "2019-11-16 12:19:26,390 - src.data_retrieval - DEBUG - `all_prime_transactions_20191116100545260586.zip` is ready, starting download.\n",
      "2019-11-16 12:24:08,589 - src.data_retrieval - DEBUG - Download finished, moving to the next.\n"
     ]
    },
    {
     "name": "stderr",
     "output_type": "stream",
     "text": [
      "\r",
      " 92%|█████████▏| 47/51 [1:18:42<14:38, 219.57s/it]"
     ]
    },
    {
     "name": "stdout",
     "output_type": "stream",
     "text": [
      "2019-11-16 12:24:10,150 - src.data_retrieval - DEBUG - `all_prime_transactions_20191116100559836856.zip` is ready, starting download.\n",
      "2019-11-16 12:36:06,401 - src.data_retrieval - DEBUG - Download finished, moving to the next.\n"
     ]
    },
    {
     "name": "stderr",
     "output_type": "stream",
     "text": [
      "\r",
      " 94%|█████████▍| 48/51 [1:30:40<18:27, 369.04s/it]"
     ]
    },
    {
     "name": "stdout",
     "output_type": "stream",
     "text": [
      "2019-11-16 12:36:07,184 - src.data_retrieval - DEBUG - `all_prime_transactions_20191116100615092355.zip` is ready, starting download.\n",
      "2019-11-16 12:42:58,550 - src.data_retrieval - DEBUG - Download finished, moving to the next.\n"
     ]
    },
    {
     "name": "stderr",
     "output_type": "stream",
     "text": [
      "\r",
      " 96%|█████████▌| 49/51 [1:37:32<12:43, 381.98s/it]"
     ]
    },
    {
     "name": "stdout",
     "output_type": "stream",
     "text": [
      "2019-11-16 12:43:00,316 - src.data_retrieval - DEBUG - `all_prime_transactions_20191116100555428528.zip` is ready, starting download.\n",
      "2019-11-16 12:47:31,160 - src.data_retrieval - DEBUG - Download finished, moving to the next.\n"
     ]
    },
    {
     "name": "stderr",
     "output_type": "stream",
     "text": [
      "\r",
      " 98%|█████████▊| 50/51 [1:42:04<05:49, 349.17s/it]"
     ]
    },
    {
     "name": "stdout",
     "output_type": "stream",
     "text": [
      "2019-11-16 12:47:32,886 - src.data_retrieval - DEBUG - `all_prime_transactions_20191116100607392659.zip` is ready, starting download.\n",
      "2019-11-16 12:52:43,237 - src.data_retrieval - DEBUG - Download finished, moving to the next.\n"
     ]
    },
    {
     "name": "stderr",
     "output_type": "stream",
     "text": [
      "\r",
      "100%|██████████| 51/51 [1:47:17<00:00, 338.04s/it]"
     ]
    },
    {
     "name": "stdout",
     "output_type": "stream",
     "text": [
      "2019-11-16 12:52:43,238 - src.data_retrieval - DEBUG - All downloads are completed.\n"
     ]
    }
   ],
   "source": [
    "data_retrieval.download_bulk_in_batches(\"2014-01-01\", \"2018-01-01\", \"data\", award_types=[\"contracts\"])"
   ]
  },
  {
   "cell_type": "code",
   "execution_count": 2,
   "metadata": {
    "scrolled": true
   },
   "outputs": [
    {
     "name": "stdout",
     "output_type": "stream",
     "text": [
      "2019-11-16 15:12:22,488 - src.csv_handlers - DEBUG - Found .zip file: data/all_prime_transactions_20191116100608305239.zip\n",
      "2019-11-16 15:12:22,490 - src.csv_handlers - DEBUG - Found .csv file in zip, opening: all_contracts_prime_transactions_1.csv\n",
      "2019-11-16 15:12:22,491 - src.csv_handlers - DEBUG - Reading file: <zipfile.ZipExtFile name='all_contracts_prime_transactions_1.csv' mode='r' compress_type=deflate>\n"
     ]
    },
    {
     "ename": "KeyboardInterrupt",
     "evalue": "",
     "output_type": "error",
     "traceback": [
      "\u001b[0;31m---------------------------------------------------------------------------\u001b[0m",
      "\u001b[0;31mKeyboardInterrupt\u001b[0m                         Traceback (most recent call last)",
      "\u001b[0;32m<ipython-input-2-903b5acb6549>\u001b[0m in \u001b[0;36m<module>\u001b[0;34m\u001b[0m\n\u001b[0;32m----> 1\u001b[0;31m \u001b[0mcsv_handlers\u001b[0m\u001b[0;34m.\u001b[0m\u001b[0mextract_all_recipients\u001b[0m\u001b[0;34m(\u001b[0m\u001b[0;34m\"data\"\u001b[0m\u001b[0;34m)\u001b[0m\u001b[0;34m\u001b[0m\u001b[0;34m\u001b[0m\u001b[0m\n\u001b[0m",
      "\u001b[0;32m~/projects/idp-ws19/src/csv_handlers.py\u001b[0m in \u001b[0;36mextract_all_recipients\u001b[0;34m(folder_path)\u001b[0m\n\u001b[1;32m     34\u001b[0m                             \u001b[0mlogger\u001b[0m\u001b[0;34m.\u001b[0m\u001b[0mdebug\u001b[0m\u001b[0;34m(\u001b[0m\u001b[0;34mf\"Found .csv file in zip, opening: {file}\"\u001b[0m\u001b[0;34m)\u001b[0m\u001b[0;34m\u001b[0m\u001b[0;34m\u001b[0m\u001b[0m\n\u001b[1;32m     35\u001b[0m                             df_list.append(\n\u001b[0;32m---> 36\u001b[0;31m                                 \u001b[0mget_recipient_data_from_csv\u001b[0m\u001b[0;34m(\u001b[0m\u001b[0mmyzip\u001b[0m\u001b[0;34m.\u001b[0m\u001b[0mopen\u001b[0m\u001b[0;34m(\u001b[0m\u001b[0mfile\u001b[0m\u001b[0;34m)\u001b[0m\u001b[0;34m)\u001b[0m\u001b[0;34m\u001b[0m\u001b[0;34m\u001b[0m\u001b[0m\n\u001b[0m\u001b[1;32m     37\u001b[0m                             )\n\u001b[1;32m     38\u001b[0m             \u001b[0;32melif\u001b[0m \u001b[0mext\u001b[0m \u001b[0;34m==\u001b[0m \u001b[0;34m\".csv\"\u001b[0m\u001b[0;34m:\u001b[0m\u001b[0;34m\u001b[0m\u001b[0;34m\u001b[0m\u001b[0m\n",
      "\u001b[0;32m~/projects/idp-ws19/src/csv_handlers.py\u001b[0m in \u001b[0;36mget_recipient_data_from_csv\u001b[0;34m(fp)\u001b[0m\n\u001b[1;32m     54\u001b[0m \u001b[0;34m\u001b[0m\u001b[0m\n\u001b[1;32m     55\u001b[0m     \u001b[0mlogger\u001b[0m\u001b[0;34m.\u001b[0m\u001b[0mdebug\u001b[0m\u001b[0;34m(\u001b[0m\u001b[0;34mf\"Reading file: {fp}\"\u001b[0m\u001b[0;34m)\u001b[0m\u001b[0;34m\u001b[0m\u001b[0;34m\u001b[0m\u001b[0m\n\u001b[0;32m---> 56\u001b[0;31m     \u001b[0mdata\u001b[0m \u001b[0;34m=\u001b[0m \u001b[0mpd\u001b[0m\u001b[0;34m.\u001b[0m\u001b[0mread_csv\u001b[0m\u001b[0;34m(\u001b[0m\u001b[0mfp\u001b[0m\u001b[0;34m,\u001b[0m \u001b[0mlow_memory\u001b[0m\u001b[0;34m=\u001b[0m\u001b[0;32mFalse\u001b[0m\u001b[0;34m,\u001b[0m \u001b[0musecols\u001b[0m\u001b[0;34m=\u001b[0m\u001b[0;32mlambda\u001b[0m \u001b[0mcol\u001b[0m\u001b[0;34m:\u001b[0m \u001b[0;34m\"recipient\"\u001b[0m \u001b[0;32min\u001b[0m \u001b[0mcol\u001b[0m\u001b[0;34m)\u001b[0m\u001b[0;34m\u001b[0m\u001b[0;34m\u001b[0m\u001b[0m\n\u001b[0m\u001b[1;32m     57\u001b[0m     \u001b[0;32mreturn\u001b[0m \u001b[0mdata\u001b[0m\u001b[0;34m.\u001b[0m\u001b[0mdrop_duplicates\u001b[0m\u001b[0;34m(\u001b[0m\u001b[0;34m)\u001b[0m\u001b[0;34m\u001b[0m\u001b[0;34m\u001b[0m\u001b[0m\n",
      "\u001b[0;32m~/opt/anaconda3/lib/python3.7/site-packages/pandas/io/parsers.py\u001b[0m in \u001b[0;36mparser_f\u001b[0;34m(filepath_or_buffer, sep, delimiter, header, names, index_col, usecols, squeeze, prefix, mangle_dupe_cols, dtype, engine, converters, true_values, false_values, skipinitialspace, skiprows, skipfooter, nrows, na_values, keep_default_na, na_filter, verbose, skip_blank_lines, parse_dates, infer_datetime_format, keep_date_col, date_parser, dayfirst, cache_dates, iterator, chunksize, compression, thousands, decimal, lineterminator, quotechar, quoting, doublequote, escapechar, comment, encoding, dialect, error_bad_lines, warn_bad_lines, delim_whitespace, low_memory, memory_map, float_precision)\u001b[0m\n\u001b[1;32m    683\u001b[0m         )\n\u001b[1;32m    684\u001b[0m \u001b[0;34m\u001b[0m\u001b[0m\n\u001b[0;32m--> 685\u001b[0;31m         \u001b[0;32mreturn\u001b[0m \u001b[0m_read\u001b[0m\u001b[0;34m(\u001b[0m\u001b[0mfilepath_or_buffer\u001b[0m\u001b[0;34m,\u001b[0m \u001b[0mkwds\u001b[0m\u001b[0;34m)\u001b[0m\u001b[0;34m\u001b[0m\u001b[0;34m\u001b[0m\u001b[0m\n\u001b[0m\u001b[1;32m    686\u001b[0m \u001b[0;34m\u001b[0m\u001b[0m\n\u001b[1;32m    687\u001b[0m     \u001b[0mparser_f\u001b[0m\u001b[0;34m.\u001b[0m\u001b[0m__name__\u001b[0m \u001b[0;34m=\u001b[0m \u001b[0mname\u001b[0m\u001b[0;34m\u001b[0m\u001b[0;34m\u001b[0m\u001b[0m\n",
      "\u001b[0;32m~/opt/anaconda3/lib/python3.7/site-packages/pandas/io/parsers.py\u001b[0m in \u001b[0;36m_read\u001b[0;34m(filepath_or_buffer, kwds)\u001b[0m\n\u001b[1;32m    461\u001b[0m \u001b[0;34m\u001b[0m\u001b[0m\n\u001b[1;32m    462\u001b[0m     \u001b[0;32mtry\u001b[0m\u001b[0;34m:\u001b[0m\u001b[0;34m\u001b[0m\u001b[0;34m\u001b[0m\u001b[0m\n\u001b[0;32m--> 463\u001b[0;31m         \u001b[0mdata\u001b[0m \u001b[0;34m=\u001b[0m \u001b[0mparser\u001b[0m\u001b[0;34m.\u001b[0m\u001b[0mread\u001b[0m\u001b[0;34m(\u001b[0m\u001b[0mnrows\u001b[0m\u001b[0;34m)\u001b[0m\u001b[0;34m\u001b[0m\u001b[0;34m\u001b[0m\u001b[0m\n\u001b[0m\u001b[1;32m    464\u001b[0m     \u001b[0;32mfinally\u001b[0m\u001b[0;34m:\u001b[0m\u001b[0;34m\u001b[0m\u001b[0;34m\u001b[0m\u001b[0m\n\u001b[1;32m    465\u001b[0m         \u001b[0mparser\u001b[0m\u001b[0;34m.\u001b[0m\u001b[0mclose\u001b[0m\u001b[0;34m(\u001b[0m\u001b[0;34m)\u001b[0m\u001b[0;34m\u001b[0m\u001b[0;34m\u001b[0m\u001b[0m\n",
      "\u001b[0;32m~/opt/anaconda3/lib/python3.7/site-packages/pandas/io/parsers.py\u001b[0m in \u001b[0;36mread\u001b[0;34m(self, nrows)\u001b[0m\n\u001b[1;32m   1152\u001b[0m     \u001b[0;32mdef\u001b[0m \u001b[0mread\u001b[0m\u001b[0;34m(\u001b[0m\u001b[0mself\u001b[0m\u001b[0;34m,\u001b[0m \u001b[0mnrows\u001b[0m\u001b[0;34m=\u001b[0m\u001b[0;32mNone\u001b[0m\u001b[0;34m)\u001b[0m\u001b[0;34m:\u001b[0m\u001b[0;34m\u001b[0m\u001b[0;34m\u001b[0m\u001b[0m\n\u001b[1;32m   1153\u001b[0m         \u001b[0mnrows\u001b[0m \u001b[0;34m=\u001b[0m \u001b[0m_validate_integer\u001b[0m\u001b[0;34m(\u001b[0m\u001b[0;34m\"nrows\"\u001b[0m\u001b[0;34m,\u001b[0m \u001b[0mnrows\u001b[0m\u001b[0;34m)\u001b[0m\u001b[0;34m\u001b[0m\u001b[0;34m\u001b[0m\u001b[0m\n\u001b[0;32m-> 1154\u001b[0;31m         \u001b[0mret\u001b[0m \u001b[0;34m=\u001b[0m \u001b[0mself\u001b[0m\u001b[0;34m.\u001b[0m\u001b[0m_engine\u001b[0m\u001b[0;34m.\u001b[0m\u001b[0mread\u001b[0m\u001b[0;34m(\u001b[0m\u001b[0mnrows\u001b[0m\u001b[0;34m)\u001b[0m\u001b[0;34m\u001b[0m\u001b[0;34m\u001b[0m\u001b[0m\n\u001b[0m\u001b[1;32m   1155\u001b[0m \u001b[0;34m\u001b[0m\u001b[0m\n\u001b[1;32m   1156\u001b[0m         \u001b[0;31m# May alter columns / col_dict\u001b[0m\u001b[0;34m\u001b[0m\u001b[0;34m\u001b[0m\u001b[0;34m\u001b[0m\u001b[0m\n",
      "\u001b[0;32m~/opt/anaconda3/lib/python3.7/site-packages/pandas/io/parsers.py\u001b[0m in \u001b[0;36mread\u001b[0;34m(self, nrows)\u001b[0m\n\u001b[1;32m   2057\u001b[0m     \u001b[0;32mdef\u001b[0m \u001b[0mread\u001b[0m\u001b[0;34m(\u001b[0m\u001b[0mself\u001b[0m\u001b[0;34m,\u001b[0m \u001b[0mnrows\u001b[0m\u001b[0;34m=\u001b[0m\u001b[0;32mNone\u001b[0m\u001b[0;34m)\u001b[0m\u001b[0;34m:\u001b[0m\u001b[0;34m\u001b[0m\u001b[0;34m\u001b[0m\u001b[0m\n\u001b[1;32m   2058\u001b[0m         \u001b[0;32mtry\u001b[0m\u001b[0;34m:\u001b[0m\u001b[0;34m\u001b[0m\u001b[0;34m\u001b[0m\u001b[0m\n\u001b[0;32m-> 2059\u001b[0;31m             \u001b[0mdata\u001b[0m \u001b[0;34m=\u001b[0m \u001b[0mself\u001b[0m\u001b[0;34m.\u001b[0m\u001b[0m_reader\u001b[0m\u001b[0;34m.\u001b[0m\u001b[0mread\u001b[0m\u001b[0;34m(\u001b[0m\u001b[0mnrows\u001b[0m\u001b[0;34m)\u001b[0m\u001b[0;34m\u001b[0m\u001b[0;34m\u001b[0m\u001b[0m\n\u001b[0m\u001b[1;32m   2060\u001b[0m         \u001b[0;32mexcept\u001b[0m \u001b[0mStopIteration\u001b[0m\u001b[0;34m:\u001b[0m\u001b[0;34m\u001b[0m\u001b[0;34m\u001b[0m\u001b[0m\n\u001b[1;32m   2061\u001b[0m             \u001b[0;32mif\u001b[0m \u001b[0mself\u001b[0m\u001b[0;34m.\u001b[0m\u001b[0m_first_chunk\u001b[0m\u001b[0;34m:\u001b[0m\u001b[0;34m\u001b[0m\u001b[0;34m\u001b[0m\u001b[0m\n",
      "\u001b[0;32mpandas/_libs/parsers.pyx\u001b[0m in \u001b[0;36mpandas._libs.parsers.TextReader.read\u001b[0;34m()\u001b[0m\n",
      "\u001b[0;32mpandas/_libs/parsers.pyx\u001b[0m in \u001b[0;36mpandas._libs.parsers.TextReader._read_rows\u001b[0;34m()\u001b[0m\n",
      "\u001b[0;32mpandas/_libs/parsers.pyx\u001b[0m in \u001b[0;36mpandas._libs.parsers.TextReader._convert_column_data\u001b[0;34m()\u001b[0m\n",
      "\u001b[0;32m~/opt/anaconda3/lib/python3.7/site-packages/pandas/core/dtypes/common.py\u001b[0m in \u001b[0;36mis_extension_array_dtype\u001b[0;34m(arr_or_dtype)\u001b[0m\n\u001b[1;32m   1741\u001b[0m \u001b[0;34m\u001b[0m\u001b[0m\n\u001b[1;32m   1742\u001b[0m \u001b[0;34m\u001b[0m\u001b[0m\n\u001b[0;32m-> 1743\u001b[0;31m \u001b[0;32mdef\u001b[0m \u001b[0mis_extension_array_dtype\u001b[0m\u001b[0;34m(\u001b[0m\u001b[0marr_or_dtype\u001b[0m\u001b[0;34m)\u001b[0m\u001b[0;34m:\u001b[0m\u001b[0;34m\u001b[0m\u001b[0;34m\u001b[0m\u001b[0m\n\u001b[0m\u001b[1;32m   1744\u001b[0m     \"\"\"\n\u001b[1;32m   1745\u001b[0m     \u001b[0mCheck\u001b[0m \u001b[0;32mif\u001b[0m \u001b[0man\u001b[0m \u001b[0mobject\u001b[0m \u001b[0;32mis\u001b[0m \u001b[0ma\u001b[0m \u001b[0mpandas\u001b[0m \u001b[0mextension\u001b[0m \u001b[0marray\u001b[0m \u001b[0mtype\u001b[0m\u001b[0;34m.\u001b[0m\u001b[0;34m\u001b[0m\u001b[0;34m\u001b[0m\u001b[0m\n",
      "\u001b[0;31mKeyboardInterrupt\u001b[0m: "
     ]
    }
   ],
   "source": [
    "csv_handlers.extract_all_recipients(\"data\")"
   ]
  },
  {
   "cell_type": "code",
   "execution_count": 2,
   "metadata": {},
   "outputs": [
    {
     "name": "stdout",
     "output_type": "stream",
     "text": [
      "2019-11-16 15:17:12,320 - src.csv_handlers - DEBUG - Reading file: data/all_recipients.csv\n"
     ]
    }
   ],
   "source": [
    "df = csv_handlers.get_recipient_data_from_csv(\"data/all_recipients.csv\")"
   ]
  },
  {
   "cell_type": "code",
   "execution_count": 3,
   "metadata": {
    "scrolled": true
   },
   "outputs": [
    {
     "data": {
      "text/html": [
       "<div>\n",
       "<style scoped>\n",
       "    .dataframe tbody tr th:only-of-type {\n",
       "        vertical-align: middle;\n",
       "    }\n",
       "\n",
       "    .dataframe tbody tr th {\n",
       "        vertical-align: top;\n",
       "    }\n",
       "\n",
       "    .dataframe thead th {\n",
       "        text-align: right;\n",
       "    }\n",
       "</style>\n",
       "<table border=\"1\" class=\"dataframe\">\n",
       "  <thead>\n",
       "    <tr style=\"text-align: right;\">\n",
       "      <th></th>\n",
       "      <th>recipient_duns</th>\n",
       "      <th>recipient_name</th>\n",
       "      <th>recipient_doing_business_as_name</th>\n",
       "      <th>recipient_parent_name</th>\n",
       "      <th>recipient_parent_duns</th>\n",
       "      <th>recipient_country_code</th>\n",
       "      <th>recipient_country_name</th>\n",
       "      <th>recipient_address_line_1</th>\n",
       "      <th>recipient_address_line_2</th>\n",
       "      <th>recipient_city_name</th>\n",
       "      <th>recipient_state_code</th>\n",
       "      <th>recipient_state_name</th>\n",
       "      <th>recipient_zip_4_code</th>\n",
       "      <th>recipient_congressional_district</th>\n",
       "      <th>recipient_phone_number</th>\n",
       "      <th>recipient_fax_number</th>\n",
       "    </tr>\n",
       "  </thead>\n",
       "  <tbody>\n",
       "    <tr>\n",
       "      <td>0</td>\n",
       "      <td>3197803</td>\n",
       "      <td>L C IND INCORPORATED (6307)</td>\n",
       "      <td>NaN</td>\n",
       "      <td>LC INDUSTRIES  INC.</td>\n",
       "      <td>3197803.0</td>\n",
       "      <td>USA</td>\n",
       "      <td>UNITED STATES</td>\n",
       "      <td>4500 EMPEROR BLVD</td>\n",
       "      <td>NaN</td>\n",
       "      <td>DURHAM</td>\n",
       "      <td>NC</td>\n",
       "      <td>NORTH CAROLINA</td>\n",
       "      <td>277038420</td>\n",
       "      <td>4.0</td>\n",
       "      <td>9195968277</td>\n",
       "      <td>9199415195</td>\n",
       "    </tr>\n",
       "    <tr>\n",
       "      <td>1</td>\n",
       "      <td>134345169</td>\n",
       "      <td>HERNDON PRODUCTS, LLC</td>\n",
       "      <td>NaN</td>\n",
       "      <td>HERNDON PRODUCTS  LLC</td>\n",
       "      <td>80097712.0</td>\n",
       "      <td>USA</td>\n",
       "      <td>UNITED STATES</td>\n",
       "      <td>3801 LLOYD KING DR</td>\n",
       "      <td>NaN</td>\n",
       "      <td>O FALLON</td>\n",
       "      <td>MO</td>\n",
       "      <td>MISSOURI</td>\n",
       "      <td>633682224</td>\n",
       "      <td>2.0</td>\n",
       "      <td>3147397400</td>\n",
       "      <td>3147395344</td>\n",
       "    </tr>\n",
       "    <tr>\n",
       "      <td>2</td>\n",
       "      <td>60605883</td>\n",
       "      <td>ROCKWELL COLLINS, INC.</td>\n",
       "      <td>NaN</td>\n",
       "      <td>ROCKWELL COLLINS  INC.</td>\n",
       "      <td>962960589.0</td>\n",
       "      <td>USA</td>\n",
       "      <td>UNITED STATES</td>\n",
       "      <td>400 COLLINS RD NE</td>\n",
       "      <td>NaN</td>\n",
       "      <td>CEDAR RAPIDS</td>\n",
       "      <td>IA</td>\n",
       "      <td>IOWA</td>\n",
       "      <td>524980505</td>\n",
       "      <td>1.0</td>\n",
       "      <td>3192655467</td>\n",
       "      <td>3192951787</td>\n",
       "    </tr>\n",
       "    <tr>\n",
       "      <td>3</td>\n",
       "      <td>877936518</td>\n",
       "      <td>DELL MARKETING L.P.</td>\n",
       "      <td>NaN</td>\n",
       "      <td>DENALI HOLDING INC</td>\n",
       "      <td>601839660.0</td>\n",
       "      <td>USA</td>\n",
       "      <td>UNITED STATES</td>\n",
       "      <td>ONE DELL WAY</td>\n",
       "      <td>NaN</td>\n",
       "      <td>ROUND ROCK</td>\n",
       "      <td>TX</td>\n",
       "      <td>TEXAS</td>\n",
       "      <td>786820001</td>\n",
       "      <td>31.0</td>\n",
       "      <td>5127230669</td>\n",
       "      <td>5122834810</td>\n",
       "    </tr>\n",
       "    <tr>\n",
       "      <td>4</td>\n",
       "      <td>809919038</td>\n",
       "      <td>STAG ENTERPRISE, INC.</td>\n",
       "      <td>NaN</td>\n",
       "      <td>STAG ENTERPRISE  INC.</td>\n",
       "      <td>809919038.0</td>\n",
       "      <td>USA</td>\n",
       "      <td>UNITED STATES</td>\n",
       "      <td>383 WILBANKS DR</td>\n",
       "      <td>NaN</td>\n",
       "      <td>BALL GROUND</td>\n",
       "      <td>GA</td>\n",
       "      <td>GEORGIA</td>\n",
       "      <td>301076002</td>\n",
       "      <td>11.0</td>\n",
       "      <td>7707208888</td>\n",
       "      <td>7707208887</td>\n",
       "    </tr>\n",
       "  </tbody>\n",
       "</table>\n",
       "</div>"
      ],
      "text/plain": [
       "  recipient_duns               recipient_name  \\\n",
       "0        3197803  L C IND INCORPORATED (6307)   \n",
       "1      134345169        HERNDON PRODUCTS, LLC   \n",
       "2       60605883       ROCKWELL COLLINS, INC.   \n",
       "3      877936518          DELL MARKETING L.P.   \n",
       "4      809919038        STAG ENTERPRISE, INC.   \n",
       "\n",
       "  recipient_doing_business_as_name   recipient_parent_name  \\\n",
       "0                              NaN     LC INDUSTRIES  INC.   \n",
       "1                              NaN   HERNDON PRODUCTS  LLC   \n",
       "2                              NaN  ROCKWELL COLLINS  INC.   \n",
       "3                              NaN      DENALI HOLDING INC   \n",
       "4                              NaN   STAG ENTERPRISE  INC.   \n",
       "\n",
       "  recipient_parent_duns recipient_country_code recipient_country_name  \\\n",
       "0             3197803.0                    USA          UNITED STATES   \n",
       "1            80097712.0                    USA          UNITED STATES   \n",
       "2           962960589.0                    USA          UNITED STATES   \n",
       "3           601839660.0                    USA          UNITED STATES   \n",
       "4           809919038.0                    USA          UNITED STATES   \n",
       "\n",
       "  recipient_address_line_1 recipient_address_line_2 recipient_city_name  \\\n",
       "0        4500 EMPEROR BLVD                      NaN              DURHAM   \n",
       "1       3801 LLOYD KING DR                      NaN            O FALLON   \n",
       "2        400 COLLINS RD NE                      NaN        CEDAR RAPIDS   \n",
       "3             ONE DELL WAY                      NaN          ROUND ROCK   \n",
       "4          383 WILBANKS DR                      NaN         BALL GROUND   \n",
       "\n",
       "  recipient_state_code recipient_state_name recipient_zip_4_code  \\\n",
       "0                   NC       NORTH CAROLINA            277038420   \n",
       "1                   MO             MISSOURI            633682224   \n",
       "2                   IA                 IOWA            524980505   \n",
       "3                   TX                TEXAS            786820001   \n",
       "4                   GA              GEORGIA            301076002   \n",
       "\n",
       "  recipient_congressional_district recipient_phone_number recipient_fax_number  \n",
       "0                              4.0             9195968277           9199415195  \n",
       "1                              2.0             3147397400           3147395344  \n",
       "2                              1.0             3192655467           3192951787  \n",
       "3                             31.0             5127230669           5122834810  \n",
       "4                             11.0             7707208888           7707208887  "
      ]
     },
     "execution_count": 3,
     "metadata": {},
     "output_type": "execute_result"
    }
   ],
   "source": [
    "df.head() # 897974 rows"
   ]
  },
  {
   "cell_type": "code",
   "execution_count": 4,
   "metadata": {},
   "outputs": [
    {
     "data": {
      "text/plain": [
       "recipient_duns                           2\n",
       "recipient_name                         108\n",
       "recipient_doing_business_as_name    859307\n",
       "recipient_parent_name                 7260\n",
       "recipient_parent_duns                 4153\n",
       "recipient_country_code                 175\n",
       "recipient_country_name              266360\n",
       "recipient_address_line_1               484\n",
       "recipient_address_line_2            889735\n",
       "recipient_city_name                    328\n",
       "recipient_state_code                 43951\n",
       "recipient_state_name                263572\n",
       "recipient_zip_4_code                  8361\n",
       "recipient_congressional_district    275751\n",
       "recipient_phone_number              115839\n",
       "recipient_fax_number                201552\n",
       "dtype: int64"
      ]
     },
     "execution_count": 4,
     "metadata": {},
     "output_type": "execute_result"
    }
   ],
   "source": [
    "df.isnull().sum()"
   ]
  },
  {
   "cell_type": "code",
   "execution_count": 5,
   "metadata": {},
   "outputs": [],
   "source": [
    "df['recipient_name'] = df['recipient_name'].combine_first(df['recipient_parent_name'])\n",
    "df['recipient_parent_name'] = df['recipient_parent_name'].combine_first(df['recipient_name'])\n",
    "# after the combination of recipient and recipient_parent names drop the still null rows\n",
    "df = df[~ df.recipient_name.isnull()]"
   ]
  },
  {
   "cell_type": "code",
   "execution_count": 6,
   "metadata": {},
   "outputs": [
    {
     "data": {
      "text/plain": [
       "recipient_duns                           1\n",
       "recipient_name                           0\n",
       "recipient_doing_business_as_name    859291\n",
       "recipient_parent_name                    0\n",
       "recipient_parent_duns                 4149\n",
       "recipient_country_code                 174\n",
       "recipient_country_name              266344\n",
       "recipient_address_line_1               476\n",
       "recipient_address_line_2            889719\n",
       "recipient_city_name                    321\n",
       "recipient_state_code                 43935\n",
       "recipient_state_name                263570\n",
       "recipient_zip_4_code                  8353\n",
       "recipient_congressional_district    275735\n",
       "recipient_phone_number              115823\n",
       "recipient_fax_number                201536\n",
       "dtype: int64"
      ]
     },
     "execution_count": 6,
     "metadata": {},
     "output_type": "execute_result"
    }
   ],
   "source": [
    "df.isnull().sum()"
   ]
  },
  {
   "cell_type": "code",
   "execution_count": 7,
   "metadata": {},
   "outputs": [
    {
     "data": {
      "text/plain": [
       "258855"
      ]
     },
     "execution_count": 7,
     "metadata": {},
     "output_type": "execute_result"
    }
   ],
   "source": [
    "len(df.recipient_name.unique())"
   ]
  },
  {
   "cell_type": "code",
   "execution_count": 8,
   "metadata": {},
   "outputs": [
    {
     "data": {
      "text/plain": [
       "277775"
      ]
     },
     "execution_count": 8,
     "metadata": {},
     "output_type": "execute_result"
    }
   ],
   "source": [
    "len(df.recipient_parent_name.unique())"
   ]
  },
  {
   "cell_type": "code",
   "execution_count": 9,
   "metadata": {},
   "outputs": [],
   "source": [
    "df.recipient_name = string_handlers.get_cleaned_series(df.recipient_name)\n",
    "df.recipient_parent_name = string_handlers.get_cleaned_series(df.recipient_parent_name)"
   ]
  },
  {
   "cell_type": "code",
   "execution_count": 10,
   "metadata": {},
   "outputs": [
    {
     "data": {
      "text/plain": [
       "250886"
      ]
     },
     "execution_count": 10,
     "metadata": {},
     "output_type": "execute_result"
    }
   ],
   "source": [
    "len(df.recipient_name.unique())"
   ]
  },
  {
   "cell_type": "code",
   "execution_count": 11,
   "metadata": {},
   "outputs": [
    {
     "data": {
      "text/plain": [
       "230728"
      ]
     },
     "execution_count": 11,
     "metadata": {},
     "output_type": "execute_result"
    }
   ],
   "source": [
    "len(df.recipient_parent_name.unique())"
   ]
  },
  {
   "cell_type": "code",
   "execution_count": 12,
   "metadata": {},
   "outputs": [],
   "source": [
    "# only leaves strings and some space\n",
    "df.recipient_name = string_handlers.get_better_cleaned_series(df.recipient_name)\n",
    "df.recipient_parent_name = string_handlers.get_better_cleaned_series(df.recipient_parent_name)"
   ]
  },
  {
   "cell_type": "code",
   "execution_count": 13,
   "metadata": {},
   "outputs": [
    {
     "data": {
      "text/plain": [
       "249600"
      ]
     },
     "execution_count": 13,
     "metadata": {},
     "output_type": "execute_result"
    }
   ],
   "source": [
    "len(df.recipient_name.unique())"
   ]
  },
  {
   "cell_type": "code",
   "execution_count": 14,
   "metadata": {},
   "outputs": [
    {
     "data": {
      "text/plain": [
       "230242"
      ]
     },
     "execution_count": 14,
     "metadata": {},
     "output_type": "execute_result"
    }
   ],
   "source": [
    "len(df.recipient_parent_name.unique())"
   ]
  },
  {
   "cell_type": "code",
   "execution_count": 15,
   "metadata": {},
   "outputs": [
    {
     "data": {
      "text/html": [
       "<div>\n",
       "<style scoped>\n",
       "    .dataframe tbody tr th:only-of-type {\n",
       "        vertical-align: middle;\n",
       "    }\n",
       "\n",
       "    .dataframe tbody tr th {\n",
       "        vertical-align: top;\n",
       "    }\n",
       "\n",
       "    .dataframe thead th {\n",
       "        text-align: right;\n",
       "    }\n",
       "</style>\n",
       "<table border=\"1\" class=\"dataframe\">\n",
       "  <thead>\n",
       "    <tr style=\"text-align: right;\">\n",
       "      <th></th>\n",
       "      <th>recipient_duns</th>\n",
       "      <th>recipient_name</th>\n",
       "      <th>recipient_doing_business_as_name</th>\n",
       "      <th>recipient_parent_name</th>\n",
       "      <th>recipient_parent_duns</th>\n",
       "      <th>recipient_country_code</th>\n",
       "      <th>recipient_country_name</th>\n",
       "      <th>recipient_address_line_1</th>\n",
       "      <th>recipient_address_line_2</th>\n",
       "      <th>recipient_city_name</th>\n",
       "      <th>recipient_state_code</th>\n",
       "      <th>recipient_state_name</th>\n",
       "      <th>recipient_zip_4_code</th>\n",
       "      <th>recipient_congressional_district</th>\n",
       "      <th>recipient_phone_number</th>\n",
       "      <th>recipient_fax_number</th>\n",
       "    </tr>\n",
       "  </thead>\n",
       "  <tbody>\n",
       "    <tr>\n",
       "      <td>0</td>\n",
       "      <td>3197803</td>\n",
       "      <td>L C IND INCORPORATED</td>\n",
       "      <td>NaN</td>\n",
       "      <td>LC INDUSTRIES INC</td>\n",
       "      <td>3197803.0</td>\n",
       "      <td>USA</td>\n",
       "      <td>UNITED STATES</td>\n",
       "      <td>4500 EMPEROR BLVD</td>\n",
       "      <td>NaN</td>\n",
       "      <td>DURHAM</td>\n",
       "      <td>NC</td>\n",
       "      <td>NORTH CAROLINA</td>\n",
       "      <td>277038420</td>\n",
       "      <td>4.0</td>\n",
       "      <td>9195968277</td>\n",
       "      <td>9199415195</td>\n",
       "    </tr>\n",
       "    <tr>\n",
       "      <td>1</td>\n",
       "      <td>134345169</td>\n",
       "      <td>HERNDON PRODUCTS LLC</td>\n",
       "      <td>NaN</td>\n",
       "      <td>HERNDON PRODUCTS LLC</td>\n",
       "      <td>80097712.0</td>\n",
       "      <td>USA</td>\n",
       "      <td>UNITED STATES</td>\n",
       "      <td>3801 LLOYD KING DR</td>\n",
       "      <td>NaN</td>\n",
       "      <td>O FALLON</td>\n",
       "      <td>MO</td>\n",
       "      <td>MISSOURI</td>\n",
       "      <td>633682224</td>\n",
       "      <td>2.0</td>\n",
       "      <td>3147397400</td>\n",
       "      <td>3147395344</td>\n",
       "    </tr>\n",
       "    <tr>\n",
       "      <td>2</td>\n",
       "      <td>60605883</td>\n",
       "      <td>ROCKWELL COLLINS INC</td>\n",
       "      <td>NaN</td>\n",
       "      <td>ROCKWELL COLLINS INC</td>\n",
       "      <td>962960589.0</td>\n",
       "      <td>USA</td>\n",
       "      <td>UNITED STATES</td>\n",
       "      <td>400 COLLINS RD NE</td>\n",
       "      <td>NaN</td>\n",
       "      <td>CEDAR RAPIDS</td>\n",
       "      <td>IA</td>\n",
       "      <td>IOWA</td>\n",
       "      <td>524980505</td>\n",
       "      <td>1.0</td>\n",
       "      <td>3192655467</td>\n",
       "      <td>3192951787</td>\n",
       "    </tr>\n",
       "    <tr>\n",
       "      <td>3</td>\n",
       "      <td>877936518</td>\n",
       "      <td>DELL MARKETING LP</td>\n",
       "      <td>NaN</td>\n",
       "      <td>DENALI HOLDING INC</td>\n",
       "      <td>601839660.0</td>\n",
       "      <td>USA</td>\n",
       "      <td>UNITED STATES</td>\n",
       "      <td>ONE DELL WAY</td>\n",
       "      <td>NaN</td>\n",
       "      <td>ROUND ROCK</td>\n",
       "      <td>TX</td>\n",
       "      <td>TEXAS</td>\n",
       "      <td>786820001</td>\n",
       "      <td>31.0</td>\n",
       "      <td>5127230669</td>\n",
       "      <td>5122834810</td>\n",
       "    </tr>\n",
       "    <tr>\n",
       "      <td>4</td>\n",
       "      <td>809919038</td>\n",
       "      <td>STAG ENTERPRISE INC</td>\n",
       "      <td>NaN</td>\n",
       "      <td>STAG ENTERPRISE INC</td>\n",
       "      <td>809919038.0</td>\n",
       "      <td>USA</td>\n",
       "      <td>UNITED STATES</td>\n",
       "      <td>383 WILBANKS DR</td>\n",
       "      <td>NaN</td>\n",
       "      <td>BALL GROUND</td>\n",
       "      <td>GA</td>\n",
       "      <td>GEORGIA</td>\n",
       "      <td>301076002</td>\n",
       "      <td>11.0</td>\n",
       "      <td>7707208888</td>\n",
       "      <td>7707208887</td>\n",
       "    </tr>\n",
       "  </tbody>\n",
       "</table>\n",
       "</div>"
      ],
      "text/plain": [
       "  recipient_duns        recipient_name recipient_doing_business_as_name  \\\n",
       "0        3197803  L C IND INCORPORATED                              NaN   \n",
       "1      134345169  HERNDON PRODUCTS LLC                              NaN   \n",
       "2       60605883  ROCKWELL COLLINS INC                              NaN   \n",
       "3      877936518     DELL MARKETING LP                              NaN   \n",
       "4      809919038   STAG ENTERPRISE INC                              NaN   \n",
       "\n",
       "  recipient_parent_name recipient_parent_duns recipient_country_code  \\\n",
       "0     LC INDUSTRIES INC             3197803.0                    USA   \n",
       "1  HERNDON PRODUCTS LLC            80097712.0                    USA   \n",
       "2  ROCKWELL COLLINS INC           962960589.0                    USA   \n",
       "3    DENALI HOLDING INC           601839660.0                    USA   \n",
       "4   STAG ENTERPRISE INC           809919038.0                    USA   \n",
       "\n",
       "  recipient_country_name recipient_address_line_1 recipient_address_line_2  \\\n",
       "0          UNITED STATES        4500 EMPEROR BLVD                      NaN   \n",
       "1          UNITED STATES       3801 LLOYD KING DR                      NaN   \n",
       "2          UNITED STATES        400 COLLINS RD NE                      NaN   \n",
       "3          UNITED STATES             ONE DELL WAY                      NaN   \n",
       "4          UNITED STATES          383 WILBANKS DR                      NaN   \n",
       "\n",
       "  recipient_city_name recipient_state_code recipient_state_name  \\\n",
       "0              DURHAM                   NC       NORTH CAROLINA   \n",
       "1            O FALLON                   MO             MISSOURI   \n",
       "2        CEDAR RAPIDS                   IA                 IOWA   \n",
       "3          ROUND ROCK                   TX                TEXAS   \n",
       "4         BALL GROUND                   GA              GEORGIA   \n",
       "\n",
       "  recipient_zip_4_code recipient_congressional_district  \\\n",
       "0            277038420                              4.0   \n",
       "1            633682224                              2.0   \n",
       "2            524980505                              1.0   \n",
       "3            786820001                             31.0   \n",
       "4            301076002                             11.0   \n",
       "\n",
       "  recipient_phone_number recipient_fax_number  \n",
       "0             9195968277           9199415195  \n",
       "1             3147397400           3147395344  \n",
       "2             3192655467           3192951787  \n",
       "3             5127230669           5122834810  \n",
       "4             7707208888           7707208887  "
      ]
     },
     "execution_count": 15,
     "metadata": {},
     "output_type": "execute_result"
    }
   ],
   "source": [
    "df.head()"
   ]
  },
  {
   "cell_type": "code",
   "execution_count": 18,
   "metadata": {},
   "outputs": [],
   "source": [
    "parent_counts = df.groupby(['recipient_name'])['recipient_parent_name'].nunique()"
   ]
  },
  {
   "cell_type": "code",
   "execution_count": 19,
   "metadata": {
    "scrolled": false
   },
   "outputs": [
    {
     "data": {
      "text/plain": [
       "recipient_name\n",
       "ARMY AIR FORCE EXCHANGE SERVICE                                       5\n",
       "ARMY UNITED STATES DEPARTMENT OF THE                                  6\n",
       "CANBERRA INDUSTRIES INC                                               6\n",
       "CDW GOVERNMENT LLC                                                    5\n",
       "DELL MARKETING LIMITED PARTNERSHIP                                    5\n",
       "DELL MARKETING LP                                                     6\n",
       "DELL SERVICES FEDERAL GOVERNMENT INC                                  5\n",
       "DEPUY SYNTHES SALES INC                                               6\n",
       "DYNCORP                                                               6\n",
       "DYNCORP INTERNATIONAL LIMITED LIABILITY COMPANY                       5\n",
       "DYNCORP INTERNATIONAL LLC                                             6\n",
       "EATON CORPORATION                                                     6\n",
       "EGG TECHNICAL SERVICES INC                                            5\n",
       "FEDERAL PRISON INDUSTRIES INC                                         7\n",
       "FOSTER MILLER INCORPORATED                                            5\n",
       "FOSTERMILLER INC                                                      5\n",
       "GS INTEGRATED FACILITY SERVICES GMBH                                  5\n",
       "HAMILTON SUNDSTRAND CORPORATION                                       6\n",
       "HANGER PROSTHETICS ORTHOTICS INC                                      8\n",
       "HILTON HOTEL                                                          5\n",
       "HILTON HOTELS CORPORATION                                             7\n",
       "HYATT CORPORATION                                                     6\n",
       "INTERGRAPH GOVERNMENT SOLUTIONS CORPORATION                           5\n",
       "L COMMUNICATIONS CORPORATION                                          9\n",
       "L SERVICES INC                                                        6\n",
       "MARRIOTT LINCOLNSHIRE DTRS LINCOLNSHIRE LIMITED LIABILITY COMPANY     5\n",
       "MISCELLANEOUS FOREIGN AWARDEES                                       14\n",
       "NO DATA FROM D AND B                                                  5\n",
       "NORTHROP GRUMMAN CORPORATION                                          5\n",
       "ORTHOCLINICAL DIAGNOSTICS INC                                         7\n",
       "PEROT SYSTEMS GOVERNMENT SERVI                                        5\n",
       "PEROT SYSTEMS GOVERNMENT SERVICES INCORPORATED                        5\n",
       "POST BUCKLEY SCHUH AND JERNIGAN INCORPORATED                          9\n",
       "QINETIQ NORTH AMERICA INC                                             6\n",
       "R S MEANS COMPANY LLC                                                 5\n",
       "REED ELSEVIER INC                                                     5\n",
       "SPRINT COMMUNICATIONS COMPANY LP                                      7\n",
       "SPX CORPORATION                                                       5\n",
       "THE TITAN CORPORATION                                                 5\n",
       "TITAN SYSTEMS CORPORATION                                             5\n",
       "URS FEDERAL SERVICES INC                                              5\n",
       "URS GROUP INC                                                         5\n",
       "URS GROUP INCORPORATED                                                7\n",
       "URS ITALIA SPA                                                        5\n",
       "URS PROFESSIONAL SOLUTIONS LLC                                        5\n",
       "WEST VALLEY ENVIRONMENTAL SERV                                        5\n",
       "Name: recipient_parent_name, dtype: int64"
      ]
     },
     "execution_count": 19,
     "metadata": {},
     "output_type": "execute_result"
    }
   ],
   "source": [
    "parent_counts[parent_counts >= 5]"
   ]
  },
  {
   "cell_type": "code",
   "execution_count": 20,
   "metadata": {},
   "outputs": [
    {
     "data": {
      "text/plain": [
       "array(['DYNCORP INTERNATIONAL LIMITED LIABILITY COMPANY', 'DYNCORP',\n",
       "       'DYNCORP INTERNATIONAL LLC', 'COMPUTER SCIENCES CORPORATION',\n",
       "       'VERITAS CAPITAL FUND II LP THE', 'CERBERUS CAPITAL MANAGEMENT LP'],\n",
       "      dtype=object)"
      ]
     },
     "execution_count": 20,
     "metadata": {},
     "output_type": "execute_result"
    }
   ],
   "source": [
    "df[df.recipient_name == 'DYNCORP'].recipient_parent_name.unique()\n"
   ]
  },
  {
   "cell_type": "markdown",
   "metadata": {},
   "source": [
    "# Some Analysis on the Data - Frequent words/companies"
   ]
  },
  {
   "cell_type": "code",
   "execution_count": 22,
   "metadata": {},
   "outputs": [],
   "source": [
    "from nltk.probability import FreqDist"
   ]
  },
  {
   "cell_type": "code",
   "execution_count": 23,
   "metadata": {},
   "outputs": [
    {
     "data": {
      "text/plain": [
       "FreqDist({'LOCKHEED MARTIN CORPORATION': 1786, 'RAYTHEON COMPANY': 1090, 'HONEYWELL INTERNATIONAL INC': 829, 'NORTHROP GRUMMAN SYSTEMS CORPORATION': 823, 'L COMMUNICATIONS CORPORATION': 822, 'BOEING COMPANY THE': 720, 'SCIENCE APPLICATIONS INTERNATIONAL CORPORATION': 609, 'URS GROUP INC': 564, 'HANGER PROSTHETICS ORTHOTICS INC': 548, 'COMPUTER SCIENCES CORPORATION': 383, ...})"
      ]
     },
     "execution_count": 23,
     "metadata": {},
     "output_type": "execute_result"
    }
   ],
   "source": [
    "FreqDist(df.recipient_name)"
   ]
  },
  {
   "cell_type": "code",
   "execution_count": 24,
   "metadata": {},
   "outputs": [
    {
     "data": {
      "text/plain": [
       "FreqDist({'LOCKHEED MARTIN CORPORATION': 2648, 'GENERAL DYNAMICS CORPORATION': 1798, 'RAYTHEON COMPANY': 1752, 'L COMMUNICATIONS HOLDINGS INC': 1709, 'NORTHROP GRUMMAN CORPORATION': 1620, 'THE BOEING COMPANY': 1553, 'GOVERNMENT OF THE UNITED STATES': 1436, 'BAE SYSTEMS PLC': 1379, 'HONEYWELL INTERNATIONAL INC': 1355, 'GENERAL ELECTRIC COMPANY': 1156, ...})"
      ]
     },
     "execution_count": 24,
     "metadata": {},
     "output_type": "execute_result"
    }
   ],
   "source": [
    "FreqDist(df.recipient_parent_name)"
   ]
  },
  {
   "cell_type": "code",
   "execution_count": 42,
   "metadata": {},
   "outputs": [],
   "source": [
    "child_tokens = df.recipient_name.str.split()\n",
    "child_tokens = [item for sublist in child_tokens for item in sublist]\n",
    "parent_tokens = df.recipient_parent_name.str.split()\n",
    "parent_tokens = [item for sublist in parent_tokens for item in sublist]"
   ]
  },
  {
   "cell_type": "code",
   "execution_count": 44,
   "metadata": {},
   "outputs": [
    {
     "data": {
      "text/plain": [
       "FreqDist({'INC': 387528, 'LLC': 144472, 'CORPORATION': 51007, 'COMPANY': 46065, 'SERVICES': 45797, 'OF': 39979, 'INCORPORATED': 37397, 'SYSTEMS': 33821, 'AND': 27429, 'GROUP': 23727, ...})"
      ]
     },
     "execution_count": 44,
     "metadata": {},
     "output_type": "execute_result"
    }
   ],
   "source": [
    "FreqDist(child_tokens)"
   ]
  },
  {
   "cell_type": "code",
   "execution_count": 45,
   "metadata": {},
   "outputs": [
    {
     "data": {
      "text/plain": [
       "FreqDist({'INC': 398657, 'LLC': 130527, 'CORPORATION': 62586, 'OF': 40861, 'COMPANY': 40409, 'SERVICES': 38148, 'GROUP': 28211, 'SYSTEMS': 27116, 'CO': 26405, 'THE': 26067, ...})"
      ]
     },
     "execution_count": 45,
     "metadata": {},
     "output_type": "execute_result"
    }
   ],
   "source": [
    "FreqDist(parent_tokens)"
   ]
  },
  {
   "cell_type": "code",
   "execution_count": 46,
   "metadata": {},
   "outputs": [
    {
     "data": {
      "text/plain": [
       "FreqDist({'INC': 786185, 'LLC': 274999, 'CORPORATION': 113593, 'COMPANY': 86474, 'SERVICES': 83945, 'OF': 80840, 'SYSTEMS': 60937, 'INCORPORATED': 53513, 'GROUP': 51938, 'CO': 49911, ...})"
      ]
     },
     "execution_count": 46,
     "metadata": {},
     "output_type": "execute_result"
    }
   ],
   "source": [
    "FreqDist(child_tokens + parent_tokens)"
   ]
  }
 ],
 "metadata": {
  "kernelspec": {
   "display_name": "Python 3",
   "language": "python",
   "name": "python3"
  },
  "language_info": {
   "codemirror_mode": {
    "name": "ipython",
    "version": 3
   },
   "file_extension": ".py",
   "mimetype": "text/x-python",
   "name": "python",
   "nbconvert_exporter": "python",
   "pygments_lexer": "ipython3",
   "version": "3.7.4"
  }
 },
 "nbformat": 4,
 "nbformat_minor": 2
}
