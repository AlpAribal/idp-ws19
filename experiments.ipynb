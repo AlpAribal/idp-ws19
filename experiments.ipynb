{
 "cells": [
  {
   "cell_type": "code",
   "execution_count": 1,
   "metadata": {},
   "outputs": [],
   "source": [
    "from src import csv_handlers, data_retrieval, string_handlers"
   ]
  },
  {
   "cell_type": "code",
   "execution_count": 2,
   "metadata": {},
   "outputs": [
    {
     "name": "stdout",
     "output_type": "stream",
     "text": [
      "2020-01-28 17:33:36,817 - src.data_retrieval - DEBUG - Number of batches: 76\n"
     ]
    },
    {
     "name": "stderr",
     "output_type": "stream",
     "text": [
      "\r",
      "  0%|          | 0/76 [00:00<?, ?it/s]"
     ]
    },
    {
     "name": "stdout",
     "output_type": "stream",
     "text": [
      "2020-01-28 17:33:38,222 - src.data_retrieval - DEBUG - Generated file will be at `https://files.usaspending.gov/generated_downloads/All_PrimeTransactions_2020-01-28_H11M59S05632027.zip`.\n",
      "2020-01-28 17:33:39,018 - src.data_retrieval - DEBUG - Generated file will be at `https://files.usaspending.gov/generated_downloads/All_PrimeTransactions_2020-01-28_H12M03S10091740.zip`.\n",
      "2020-01-28 17:33:39,835 - src.data_retrieval - DEBUG - Generated file will be at `https://files.usaspending.gov/generated_downloads/All_PrimeTransactions_2020-01-28_H12M03S10931592.zip`.\n",
      "2020-01-28 17:33:40,655 - src.data_retrieval - DEBUG - Generated file will be at `https://files.usaspending.gov/generated_downloads/All_PrimeTransactions_2020-01-28_H12M03S11768174.zip`.\n",
      "2020-01-28 17:33:41,477 - src.data_retrieval - DEBUG - Generated file will be at `https://files.usaspending.gov/generated_downloads/All_PrimeTransactions_2020-01-28_H12M03S12603584.zip`.\n",
      "2020-01-28 17:33:42,360 - src.data_retrieval - DEBUG - Generated file will be at `https://files.usaspending.gov/generated_downloads/All_PrimeTransactions_2020-01-28_H12M03S13421697.zip`.\n",
      "2020-01-28 17:33:43,158 - src.data_retrieval - DEBUG - Generated file will be at `https://files.usaspending.gov/generated_downloads/All_PrimeTransactions_2020-01-28_H12M03S14286553.zip`.\n",
      "2020-01-28 17:33:43,978 - src.data_retrieval - DEBUG - Generated file will be at `https://files.usaspending.gov/generated_downloads/All_PrimeTransactions_2020-01-28_H12M03S15114569.zip`.\n",
      "2020-01-28 17:33:44,787 - src.data_retrieval - DEBUG - Generated file will be at `https://files.usaspending.gov/generated_downloads/All_PrimeTransactions_2020-01-28_H12M03S15943151.zip`.\n",
      "2020-01-28 17:33:45,674 - src.data_retrieval - DEBUG - Generated file will be at `https://files.usaspending.gov/generated_downloads/All_PrimeTransactions_2020-01-28_H12M03S16805382.zip`.\n",
      "2020-01-28 17:33:46,505 - src.data_retrieval - DEBUG - Generated file will be at `https://files.usaspending.gov/generated_downloads/All_PrimeTransactions_2020-01-28_H12M03S17645999.zip`.\n",
      "2020-01-28 17:33:47,323 - src.data_retrieval - DEBUG - Generated file will be at `https://files.usaspending.gov/generated_downloads/All_PrimeTransactions_2020-01-28_H12M03S18493024.zip`.\n",
      "2020-01-28 17:33:48,157 - src.data_retrieval - DEBUG - Generated file will be at `https://files.usaspending.gov/generated_downloads/All_PrimeTransactions_2020-01-28_H12M03S19305128.zip`.\n",
      "2020-01-28 17:33:48,963 - src.data_retrieval - DEBUG - Generated file will be at `https://files.usaspending.gov/generated_downloads/All_PrimeTransactions_2020-01-28_H12M03S20143901.zip`.\n",
      "2020-01-28 17:33:49,754 - src.data_retrieval - DEBUG - Generated file will be at `https://files.usaspending.gov/generated_downloads/All_PrimeTransactions_2020-01-28_H12M03S21153111.zip`.\n",
      "2020-01-28 17:33:50,586 - src.data_retrieval - DEBUG - Generated file will be at `https://files.usaspending.gov/generated_downloads/All_PrimeTransactions_2020-01-28_H12M03S22087345.zip`.\n",
      "2020-01-28 17:33:51,430 - src.data_retrieval - DEBUG - Generated file will be at `https://files.usaspending.gov/generated_downloads/All_PrimeTransactions_2020-01-28_H12M03S23141071.zip`.\n",
      "2020-01-28 17:33:52,238 - src.data_retrieval - DEBUG - Generated file will be at `https://files.usaspending.gov/generated_downloads/All_PrimeTransactions_2020-01-28_H12M03S24652532.zip`.\n",
      "2020-01-28 17:33:53,064 - src.data_retrieval - DEBUG - Generated file will be at `https://files.usaspending.gov/generated_downloads/All_PrimeTransactions_2020-01-28_H12M03S25572772.zip`.\n",
      "2020-01-28 17:33:53,861 - src.data_retrieval - DEBUG - Generated file will be at `https://files.usaspending.gov/generated_downloads/All_PrimeTransactions_2020-01-28_H12M03S26383517.zip`.\n",
      "2020-01-28 17:33:54,641 - src.data_retrieval - DEBUG - Generated file will be at `https://files.usaspending.gov/generated_downloads/All_PrimeTransactions_2020-01-28_H12M03S27213448.zip`.\n",
      "2020-01-28 17:33:55,475 - src.data_retrieval - DEBUG - Generated file will be at `https://files.usaspending.gov/generated_downloads/All_PrimeTransactions_2020-01-28_H12M03S28064333.zip`.\n",
      "2020-01-28 17:33:56,332 - src.data_retrieval - DEBUG - Generated file will be at `https://files.usaspending.gov/generated_downloads/All_PrimeTransactions_2020-01-28_H12M03S29014927.zip`.\n",
      "2020-01-28 17:33:57,126 - src.data_retrieval - DEBUG - Generated file will be at `https://files.usaspending.gov/generated_downloads/All_PrimeTransactions_2020-01-28_H12M03S29880392.zip`.\n",
      "2020-01-28 17:33:57,914 - src.data_retrieval - DEBUG - Generated file will be at `https://files.usaspending.gov/generated_downloads/All_PrimeTransactions_2020-01-28_H12M03S30721152.zip`.\n",
      "2020-01-28 17:33:58,717 - src.data_retrieval - DEBUG - Generated file will be at `https://files.usaspending.gov/generated_downloads/All_PrimeTransactions_2020-01-28_H12M03S31586065.zip`.\n",
      "2020-01-28 17:33:59,515 - src.data_retrieval - DEBUG - Generated file will be at `https://files.usaspending.gov/generated_downloads/All_PrimeTransactions_2020-01-28_H12M03S32536378.zip`.\n",
      "2020-01-28 17:34:00,330 - src.data_retrieval - DEBUG - Generated file will be at `https://files.usaspending.gov/generated_downloads/All_PrimeTransactions_2020-01-28_H12M03S33387434.zip`.\n",
      "2020-01-28 17:34:01,133 - src.data_retrieval - DEBUG - Generated file will be at `https://files.usaspending.gov/generated_downloads/All_PrimeTransactions_2020-01-28_H12M03S34249848.zip`.\n",
      "2020-01-28 17:34:01,957 - src.data_retrieval - DEBUG - Generated file will be at `https://files.usaspending.gov/generated_downloads/All_PrimeTransactions_2020-01-28_H12M03S35609004.zip`.\n",
      "2020-01-28 17:34:02,757 - src.data_retrieval - DEBUG - Generated file will be at `https://files.usaspending.gov/generated_downloads/All_PrimeTransactions_2020-01-28_H12M03S36556072.zip`.\n",
      "2020-01-28 17:34:03,547 - src.data_retrieval - DEBUG - Generated file will be at `https://files.usaspending.gov/generated_downloads/All_PrimeTransactions_2020-01-28_H12M03S37447257.zip`.\n",
      "2020-01-28 17:34:04,358 - src.data_retrieval - DEBUG - Generated file will be at `https://files.usaspending.gov/generated_downloads/All_PrimeTransactions_2020-01-28_H12M03S38257465.zip`.\n",
      "2020-01-28 17:34:05,209 - src.data_retrieval - DEBUG - Generated file will be at `https://files.usaspending.gov/generated_downloads/All_PrimeTransactions_2020-01-28_H12M03S39144705.zip`.\n",
      "2020-01-28 17:34:06,034 - src.data_retrieval - DEBUG - Generated file will be at `https://files.usaspending.gov/generated_downloads/All_PrimeTransactions_2020-01-28_H12M03S40098596.zip`.\n",
      "2020-01-28 17:34:06,890 - src.data_retrieval - DEBUG - Generated file will be at `https://files.usaspending.gov/generated_downloads/All_PrimeTransactions_2020-01-28_H12M03S41090722.zip`.\n",
      "2020-01-28 17:34:07,745 - src.data_retrieval - DEBUG - Generated file will be at `https://files.usaspending.gov/generated_downloads/All_PrimeTransactions_2020-01-28_H12M03S41906613.zip`.\n",
      "2020-01-28 17:34:08,612 - src.data_retrieval - DEBUG - Generated file will be at `https://files.usaspending.gov/generated_downloads/All_PrimeTransactions_2020-01-28_H12M03S42754484.zip`.\n",
      "2020-01-28 17:34:09,409 - src.data_retrieval - DEBUG - Generated file will be at `https://files.usaspending.gov/generated_downloads/All_PrimeTransactions_2020-01-28_H12M03S43592288.zip`.\n",
      "2020-01-28 17:34:10,214 - src.data_retrieval - DEBUG - Generated file will be at `https://files.usaspending.gov/generated_downloads/All_PrimeTransactions_2020-01-28_H12M03S44664923.zip`.\n",
      "2020-01-28 17:34:11,047 - src.data_retrieval - DEBUG - Generated file will be at `https://files.usaspending.gov/generated_downloads/All_PrimeTransactions_2020-01-28_H12M03S45504291.zip`.\n",
      "2020-01-28 17:34:11,874 - src.data_retrieval - DEBUG - Generated file will be at `https://files.usaspending.gov/generated_downloads/All_PrimeTransactions_2020-01-28_H12M03S46425494.zip`.\n",
      "2020-01-28 17:34:12,692 - src.data_retrieval - DEBUG - Generated file will be at `https://files.usaspending.gov/generated_downloads/All_PrimeTransactions_2020-01-28_H12M03S47268722.zip`.\n",
      "2020-01-28 17:34:13,523 - src.data_retrieval - DEBUG - Generated file will be at `https://files.usaspending.gov/generated_downloads/All_PrimeTransactions_2020-01-28_H12M03S48084359.zip`.\n"
     ]
    },
    {
     "name": "stdout",
     "output_type": "stream",
     "text": [
      "2020-01-28 17:34:14,318 - src.data_retrieval - DEBUG - Generated file will be at `https://files.usaspending.gov/generated_downloads/All_PrimeTransactions_2020-01-28_H12M03S48925224.zip`.\n",
      "2020-01-28 17:34:15,117 - src.data_retrieval - DEBUG - Generated file will be at `https://files.usaspending.gov/generated_downloads/All_PrimeTransactions_2020-01-28_H12M03S49775472.zip`.\n",
      "2020-01-28 17:34:15,985 - src.data_retrieval - DEBUG - Generated file will be at `https://files.usaspending.gov/generated_downloads/All_PrimeTransactions_2020-01-28_H12M03S50622328.zip`.\n",
      "2020-01-28 17:34:16,838 - src.data_retrieval - DEBUG - Generated file will be at `https://files.usaspending.gov/generated_downloads/All_PrimeTransactions_2020-01-28_H12M03S51494324.zip`.\n",
      "2020-01-28 17:34:17,685 - src.data_retrieval - DEBUG - Generated file will be at `https://files.usaspending.gov/generated_downloads/All_PrimeTransactions_2020-01-28_H12M03S52338111.zip`.\n",
      "2020-01-28 17:34:18,487 - src.data_retrieval - DEBUG - Generated file will be at `https://files.usaspending.gov/generated_downloads/All_PrimeTransactions_2020-01-28_H12M03S53210885.zip`.\n",
      "2020-01-28 17:34:19,279 - src.data_retrieval - DEBUG - Generated file will be at `https://files.usaspending.gov/generated_downloads/All_PrimeTransactions_2020-01-28_H12M03S54033820.zip`.\n",
      "2020-01-28 17:34:20,057 - src.data_retrieval - DEBUG - Generated file will be at `https://files.usaspending.gov/generated_downloads/All_PrimeTransactions_2020-01-28_H12M03S54869455.zip`.\n",
      "2020-01-28 17:34:20,895 - src.data_retrieval - DEBUG - Generated file will be at `https://files.usaspending.gov/generated_downloads/All_PrimeTransactions_2020-01-28_H12M03S55701318.zip`.\n",
      "2020-01-28 17:34:21,709 - src.data_retrieval - DEBUG - Generated file will be at `https://files.usaspending.gov/generated_downloads/All_PrimeTransactions_2020-01-28_H12M03S56547841.zip`.\n",
      "2020-01-28 17:34:22,531 - src.data_retrieval - DEBUG - Generated file will be at `https://files.usaspending.gov/generated_downloads/All_PrimeTransactions_2020-01-28_H12M03S57365601.zip`.\n",
      "2020-01-28 17:34:23,325 - src.data_retrieval - DEBUG - Generated file will be at `https://files.usaspending.gov/generated_downloads/All_PrimeTransactions_2020-01-28_H12M03S58204510.zip`.\n",
      "2020-01-28 17:34:24,116 - src.data_retrieval - DEBUG - Generated file will be at `https://files.usaspending.gov/generated_downloads/All_PrimeTransactions_2020-01-28_H12M03S59004069.zip`.\n",
      "2020-01-28 17:34:24,927 - src.data_retrieval - DEBUG - Generated file will be at `https://files.usaspending.gov/generated_downloads/All_PrimeTransactions_2020-01-28_H12M03S59855808.zip`.\n",
      "2020-01-28 17:34:25,789 - src.data_retrieval - DEBUG - Generated file will be at `https://files.usaspending.gov/generated_downloads/All_PrimeTransactions_2020-01-28_H12M04S00685241.zip`.\n",
      "2020-01-28 17:34:26,649 - src.data_retrieval - DEBUG - Generated file will be at `https://files.usaspending.gov/generated_downloads/All_PrimeTransactions_2020-01-28_H12M04S01514799.zip`.\n",
      "2020-01-28 17:34:27,473 - src.data_retrieval - DEBUG - Generated file will be at `https://files.usaspending.gov/generated_downloads/All_PrimeTransactions_2020-01-28_H12M04S02388527.zip`.\n",
      "2020-01-28 17:34:28,275 - src.data_retrieval - DEBUG - Generated file will be at `https://files.usaspending.gov/generated_downloads/All_PrimeTransactions_2020-01-28_H12M04S03239161.zip`.\n",
      "2020-01-28 17:34:29,082 - src.data_retrieval - DEBUG - Generated file will be at `https://files.usaspending.gov/generated_downloads/All_PrimeTransactions_2020-01-28_H12M04S04167726.zip`.\n",
      "2020-01-28 17:34:29,895 - src.data_retrieval - DEBUG - Generated file will be at `https://files.usaspending.gov/generated_downloads/All_PrimeTransactions_2020-01-28_H12M04S04980949.zip`.\n",
      "2020-01-28 17:34:30,722 - src.data_retrieval - DEBUG - Generated file will be at `https://files.usaspending.gov/generated_downloads/All_PrimeTransactions_2020-01-28_H12M04S05799135.zip`.\n",
      "2020-01-28 17:34:31,558 - src.data_retrieval - DEBUG - Generated file will be at `https://files.usaspending.gov/generated_downloads/All_PrimeTransactions_2020-01-28_H12M04S06688329.zip`.\n",
      "2020-01-28 17:34:32,364 - src.data_retrieval - DEBUG - Generated file will be at `https://files.usaspending.gov/generated_downloads/All_PrimeTransactions_2020-01-28_H12M04S07558752.zip`.\n",
      "2020-01-28 17:34:33,166 - src.data_retrieval - DEBUG - Generated file will be at `https://files.usaspending.gov/generated_downloads/All_PrimeTransactions_2020-01-28_H12M04S08367263.zip`.\n",
      "2020-01-28 17:34:33,958 - src.data_retrieval - DEBUG - Generated file will be at `https://files.usaspending.gov/generated_downloads/All_PrimeTransactions_2020-01-28_H12M04S09556579.zip`.\n",
      "2020-01-28 17:34:34,759 - src.data_retrieval - DEBUG - Generated file will be at `https://files.usaspending.gov/generated_downloads/All_PrimeTransactions_2020-01-28_H12M04S10374745.zip`.\n",
      "2020-01-28 17:34:35,564 - src.data_retrieval - DEBUG - Generated file will be at `https://files.usaspending.gov/generated_downloads/All_PrimeTransactions_2020-01-28_H12M04S11214491.zip`.\n",
      "2020-01-28 17:34:36,395 - src.data_retrieval - DEBUG - Generated file will be at `https://files.usaspending.gov/generated_downloads/All_PrimeTransactions_2020-01-28_H12M04S12034866.zip`.\n",
      "2020-01-28 17:34:37,198 - src.data_retrieval - DEBUG - Generated file will be at `https://files.usaspending.gov/generated_downloads/All_PrimeTransactions_2020-01-28_H12M04S12926329.zip`.\n",
      "2020-01-28 17:34:38,010 - src.data_retrieval - DEBUG - Generated file will be at `https://files.usaspending.gov/generated_downloads/All_PrimeTransactions_2020-01-28_H12M04S14903577.zip`.\n",
      "2020-01-28 17:34:38,812 - src.data_retrieval - DEBUG - Generated file will be at `https://files.usaspending.gov/generated_downloads/All_PrimeTransactions_2020-01-28_H12M04S15763571.zip`.\n",
      "2020-01-28 17:34:39,621 - src.data_retrieval - DEBUG - Generated file will be at `https://files.usaspending.gov/generated_downloads/All_PrimeTransactions_2020-01-28_H12M04S16596313.zip`.\n",
      "2020-01-28 17:34:40,466 - src.data_retrieval - DEBUG - `All_PrimeTransactions_2020-01-28_H11M59S05632027.zip` is ready, starting download.\n",
      "2020-01-28 17:34:46,200 - src.data_retrieval - DEBUG - Download finished, moving to the next.\n"
     ]
    },
    {
     "name": "stderr",
     "output_type": "stream",
     "text": [
      "\r",
      "  1%|▏         | 1/76 [01:09<1:26:42, 69.37s/it]"
     ]
    },
    {
     "name": "stdout",
     "output_type": "stream",
     "text": [
      "2020-01-28 17:34:46,924 - src.data_retrieval - DEBUG - `All_PrimeTransactions_2020-01-28_H12M03S10931592.zip` is ready, starting download.\n",
      "2020-01-28 17:34:53,879 - src.data_retrieval - DEBUG - Download finished, moving to the next.\n"
     ]
    },
    {
     "name": "stderr",
     "output_type": "stream",
     "text": [
      "\r",
      "  3%|▎         | 2/76 [01:17<1:02:43, 50.86s/it]"
     ]
    },
    {
     "name": "stdout",
     "output_type": "stream",
     "text": [
      "2020-01-28 17:34:54,578 - src.data_retrieval - DEBUG - `All_PrimeTransactions_2020-01-28_H12M03S12603584.zip` is ready, starting download.\n",
      "2020-01-28 17:35:01,279 - src.data_retrieval - DEBUG - Download finished, moving to the next.\n"
     ]
    },
    {
     "name": "stderr",
     "output_type": "stream",
     "text": [
      "\r",
      "  4%|▍         | 3/76 [01:24<46:01, 37.82s/it]  "
     ]
    },
    {
     "name": "stdout",
     "output_type": "stream",
     "text": [
      "2020-01-28 17:35:02,005 - src.data_retrieval - DEBUG - `All_PrimeTransactions_2020-01-28_H12M03S14286553.zip` is ready, starting download.\n",
      "2020-01-28 17:35:08,809 - src.data_retrieval - DEBUG - Download finished, moving to the next.\n"
     ]
    },
    {
     "name": "stderr",
     "output_type": "stream",
     "text": [
      "\r",
      "  5%|▌         | 4/76 [01:31<34:28, 28.74s/it]"
     ]
    },
    {
     "name": "stdout",
     "output_type": "stream",
     "text": [
      "2020-01-28 17:35:09,523 - src.data_retrieval - DEBUG - `All_PrimeTransactions_2020-01-28_H12M03S15943151.zip` is ready, starting download.\n",
      "2020-01-28 17:35:18,564 - src.data_retrieval - DEBUG - Download finished, moving to the next.\n"
     ]
    },
    {
     "name": "stderr",
     "output_type": "stream",
     "text": [
      "\r",
      "  7%|▋         | 5/76 [01:41<27:15, 23.04s/it]"
     ]
    },
    {
     "name": "stdout",
     "output_type": "stream",
     "text": [
      "2020-01-28 17:35:19,276 - src.data_retrieval - DEBUG - `All_PrimeTransactions_2020-01-28_H12M03S17645999.zip` is ready, starting download.\n",
      "2020-01-28 17:35:28,317 - src.data_retrieval - DEBUG - Download finished, moving to the next.\n"
     ]
    },
    {
     "name": "stderr",
     "output_type": "stream",
     "text": [
      "\r",
      "  8%|▊         | 6/76 [01:51<22:13, 19.05s/it]"
     ]
    },
    {
     "name": "stdout",
     "output_type": "stream",
     "text": [
      "2020-01-28 17:35:29,014 - src.data_retrieval - DEBUG - `All_PrimeTransactions_2020-01-28_H12M03S19305128.zip` is ready, starting download.\n",
      "2020-01-28 17:35:36,263 - src.data_retrieval - DEBUG - Download finished, moving to the next.\n"
     ]
    },
    {
     "name": "stderr",
     "output_type": "stream",
     "text": [
      "\r",
      "  9%|▉         | 7/76 [01:59<18:04, 15.72s/it]"
     ]
    },
    {
     "name": "stdout",
     "output_type": "stream",
     "text": [
      "2020-01-28 17:35:36,958 - src.data_retrieval - DEBUG - `All_PrimeTransactions_2020-01-28_H12M03S21153111.zip` is ready, starting download.\n",
      "2020-01-28 17:35:46,055 - src.data_retrieval - DEBUG - Download finished, moving to the next.\n"
     ]
    },
    {
     "name": "stderr",
     "output_type": "stream",
     "text": [
      "\r",
      " 11%|█         | 8/76 [02:09<15:48, 13.94s/it]"
     ]
    },
    {
     "name": "stdout",
     "output_type": "stream",
     "text": [
      "2020-01-28 17:35:46,762 - src.data_retrieval - DEBUG - `All_PrimeTransactions_2020-01-28_H12M03S23141071.zip` is ready, starting download.\n",
      "2020-01-28 17:35:55,529 - src.data_retrieval - DEBUG - Download finished, moving to the next.\n"
     ]
    },
    {
     "name": "stderr",
     "output_type": "stream",
     "text": [
      "\r",
      " 12%|█▏        | 9/76 [02:18<14:04, 12.60s/it]"
     ]
    },
    {
     "name": "stdout",
     "output_type": "stream",
     "text": [
      "2020-01-28 17:35:56,258 - src.data_retrieval - DEBUG - `All_PrimeTransactions_2020-01-28_H12M03S25572772.zip` is ready, starting download.\n",
      "2020-01-28 17:36:05,377 - src.data_retrieval - DEBUG - Download finished, moving to the next.\n"
     ]
    },
    {
     "name": "stderr",
     "output_type": "stream",
     "text": [
      "\r",
      " 13%|█▎        | 10/76 [02:28<12:57, 11.78s/it]"
     ]
    },
    {
     "name": "stdout",
     "output_type": "stream",
     "text": [
      "2020-01-28 17:36:06,175 - src.data_retrieval - DEBUG - `All_PrimeTransactions_2020-01-28_H12M03S27213448.zip` is ready, starting download.\n",
      "2020-01-28 17:36:16,525 - src.data_retrieval - DEBUG - Download finished, moving to the next.\n"
     ]
    },
    {
     "name": "stderr",
     "output_type": "stream",
     "text": [
      "\r",
      " 14%|█▍        | 11/76 [02:39<12:33, 11.59s/it]"
     ]
    },
    {
     "name": "stdout",
     "output_type": "stream",
     "text": [
      "2020-01-28 17:36:17,249 - src.data_retrieval - DEBUG - `All_PrimeTransactions_2020-01-28_H12M03S29014927.zip` is ready, starting download.\n",
      "2020-01-28 17:36:25,732 - src.data_retrieval - DEBUG - Download finished, moving to the next.\n"
     ]
    },
    {
     "name": "stderr",
     "output_type": "stream",
     "text": [
      "\r",
      " 16%|█▌        | 12/76 [02:48<11:35, 10.87s/it]"
     ]
    },
    {
     "name": "stdout",
     "output_type": "stream",
     "text": [
      "2020-01-28 17:36:26,427 - src.data_retrieval - DEBUG - `All_PrimeTransactions_2020-01-28_H12M03S30721152.zip` is ready, starting download.\n",
      "2020-01-28 17:36:34,399 - src.data_retrieval - DEBUG - Download finished, moving to the next.\n"
     ]
    },
    {
     "name": "stderr",
     "output_type": "stream",
     "text": [
      "\r",
      " 17%|█▋        | 13/76 [02:57<10:43, 10.21s/it]"
     ]
    },
    {
     "name": "stdout",
     "output_type": "stream",
     "text": [
      "2020-01-28 17:36:35,118 - src.data_retrieval - DEBUG - `All_PrimeTransactions_2020-01-28_H12M03S32536378.zip` is ready, starting download.\n",
      "2020-01-28 17:36:45,514 - src.data_retrieval - DEBUG - Download finished, moving to the next.\n"
     ]
    },
    {
     "name": "stderr",
     "output_type": "stream",
     "text": [
      "\r",
      " 18%|█▊        | 14/76 [03:08<10:49, 10.48s/it]"
     ]
    },
    {
     "name": "stdout",
     "output_type": "stream",
     "text": [
      "2020-01-28 17:36:46,222 - src.data_retrieval - DEBUG - `All_PrimeTransactions_2020-01-28_H12M03S34249848.zip` is ready, starting download.\n",
      "2020-01-28 17:36:56,452 - src.data_retrieval - DEBUG - Download finished, moving to the next.\n"
     ]
    },
    {
     "name": "stderr",
     "output_type": "stream",
     "text": [
      "\r",
      " 20%|█▉        | 15/76 [03:19<10:47, 10.62s/it]"
     ]
    },
    {
     "name": "stdout",
     "output_type": "stream",
     "text": [
      "2020-01-28 17:36:57,182 - src.data_retrieval - DEBUG - `All_PrimeTransactions_2020-01-28_H12M03S36556072.zip` is ready, starting download.\n",
      "2020-01-28 17:37:06,934 - src.data_retrieval - DEBUG - Download finished, moving to the next.\n"
     ]
    },
    {
     "name": "stderr",
     "output_type": "stream",
     "text": [
      "\r",
      " 21%|██        | 16/76 [03:30<10:34, 10.58s/it]"
     ]
    },
    {
     "name": "stdout",
     "output_type": "stream",
     "text": [
      "2020-01-28 17:37:07,641 - src.data_retrieval - DEBUG - `All_PrimeTransactions_2020-01-28_H12M03S38257465.zip` is ready, starting download.\n",
      "2020-01-28 17:37:17,935 - src.data_retrieval - DEBUG - Download finished, moving to the next.\n"
     ]
    },
    {
     "name": "stderr",
     "output_type": "stream",
     "text": [
      "\r",
      " 22%|██▏       | 17/76 [03:41<10:31, 10.70s/it]"
     ]
    },
    {
     "name": "stdout",
     "output_type": "stream",
     "text": [
      "2020-01-28 17:37:18,647 - src.data_retrieval - DEBUG - `All_PrimeTransactions_2020-01-28_H12M03S40098596.zip` is ready, starting download.\n",
      "2020-01-28 17:37:31,700 - src.data_retrieval - DEBUG - Download finished, moving to the next.\n"
     ]
    },
    {
     "name": "stderr",
     "output_type": "stream",
     "text": [
      "\r",
      " 24%|██▎       | 18/76 [03:54<11:14, 11.62s/it]"
     ]
    },
    {
     "name": "stdout",
     "output_type": "stream",
     "text": [
      "2020-01-28 17:37:32,418 - src.data_retrieval - DEBUG - `All_PrimeTransactions_2020-01-28_H12M03S41906613.zip` is ready, starting download.\n",
      "2020-01-28 17:37:40,852 - src.data_retrieval - DEBUG - Download finished, moving to the next.\n"
     ]
    },
    {
     "name": "stderr",
     "output_type": "stream",
     "text": [
      "\r",
      " 25%|██▌       | 19/76 [04:04<10:20, 10.88s/it]"
     ]
    },
    {
     "name": "stdout",
     "output_type": "stream",
     "text": [
      "2020-01-28 17:37:41,550 - src.data_retrieval - DEBUG - `All_PrimeTransactions_2020-01-28_H12M03S43592288.zip` is ready, starting download.\n",
      "2020-01-28 17:38:13,799 - src.data_retrieval - DEBUG - Download finished, moving to the next.\n"
     ]
    },
    {
     "name": "stderr",
     "output_type": "stream",
     "text": [
      "\r",
      " 26%|██▋       | 20/76 [04:36<16:20, 17.50s/it]"
     ]
    },
    {
     "name": "stdout",
     "output_type": "stream",
     "text": [
      "2020-01-28 17:38:14,520 - src.data_retrieval - DEBUG - `All_PrimeTransactions_2020-01-28_H12M03S45504291.zip` is ready, starting download.\n",
      "2020-01-28 17:38:25,939 - src.data_retrieval - DEBUG - Download finished, moving to the next.\n"
     ]
    },
    {
     "name": "stderr",
     "output_type": "stream",
     "text": [
      "\r",
      " 28%|██▊       | 21/76 [04:49<14:34, 15.89s/it]"
     ]
    },
    {
     "name": "stdout",
     "output_type": "stream",
     "text": [
      "2020-01-28 17:38:26,658 - src.data_retrieval - DEBUG - `All_PrimeTransactions_2020-01-28_H12M03S47268722.zip` is ready, starting download.\n",
      "2020-01-28 17:38:38,632 - src.data_retrieval - DEBUG - Download finished, moving to the next.\n"
     ]
    },
    {
     "name": "stderr",
     "output_type": "stream",
     "text": [
      "\r",
      " 29%|██▉       | 22/76 [05:01<13:26, 14.93s/it]"
     ]
    },
    {
     "name": "stdout",
     "output_type": "stream",
     "text": [
      "2020-01-28 17:38:39,336 - src.data_retrieval - DEBUG - `All_PrimeTransactions_2020-01-28_H12M03S48925224.zip` is ready, starting download.\n",
      "2020-01-28 17:38:50,013 - src.data_retrieval - DEBUG - Download finished, moving to the next.\n"
     ]
    },
    {
     "name": "stderr",
     "output_type": "stream",
     "text": [
      "\r",
      " 30%|███       | 23/76 [05:13<12:14, 13.87s/it]"
     ]
    },
    {
     "name": "stdout",
     "output_type": "stream",
     "text": [
      "2020-01-28 17:38:50,761 - src.data_retrieval - DEBUG - `All_PrimeTransactions_2020-01-28_H12M03S50622328.zip` is ready, starting download.\n",
      "2020-01-28 17:39:03,087 - src.data_retrieval - DEBUG - Download finished, moving to the next.\n"
     ]
    },
    {
     "name": "stderr",
     "output_type": "stream",
     "text": [
      "\r",
      " 32%|███▏      | 24/76 [05:26<11:48, 13.63s/it]"
     ]
    },
    {
     "name": "stdout",
     "output_type": "stream",
     "text": [
      "2020-01-28 17:39:03,800 - src.data_retrieval - DEBUG - `All_PrimeTransactions_2020-01-28_H12M03S52338111.zip` is ready, starting download.\n",
      "2020-01-28 17:39:14,426 - src.data_retrieval - DEBUG - Download finished, moving to the next.\n"
     ]
    },
    {
     "name": "stderr",
     "output_type": "stream",
     "text": [
      "\r",
      " 33%|███▎      | 25/76 [05:37<11:00, 12.94s/it]"
     ]
    },
    {
     "name": "stdout",
     "output_type": "stream",
     "text": [
      "2020-01-28 17:39:15,134 - src.data_retrieval - DEBUG - `All_PrimeTransactions_2020-01-28_H12M03S54033820.zip` is ready, starting download.\n",
      "2020-01-28 17:39:24,172 - src.data_retrieval - DEBUG - Download finished, moving to the next.\n"
     ]
    },
    {
     "name": "stderr",
     "output_type": "stream",
     "text": [
      "\r",
      " 34%|███▍      | 26/76 [05:47<09:59, 11.98s/it]"
     ]
    },
    {
     "name": "stdout",
     "output_type": "stream",
     "text": [
      "2020-01-28 17:39:24,880 - src.data_retrieval - DEBUG - `All_PrimeTransactions_2020-01-28_H12M03S55701318.zip` is ready, starting download.\n",
      "2020-01-28 17:39:36,738 - src.data_retrieval - DEBUG - Download finished, moving to the next.\n"
     ]
    },
    {
     "name": "stderr",
     "output_type": "stream",
     "text": [
      "\r",
      " 36%|███▌      | 27/76 [05:59<09:55, 12.16s/it]"
     ]
    },
    {
     "name": "stdout",
     "output_type": "stream",
     "text": [
      "2020-01-28 17:39:37,452 - src.data_retrieval - DEBUG - `All_PrimeTransactions_2020-01-28_H12M03S57365601.zip` is ready, starting download.\n",
      "2020-01-28 17:39:49,145 - src.data_retrieval - DEBUG - Download finished, moving to the next.\n"
     ]
    },
    {
     "name": "stderr",
     "output_type": "stream",
     "text": [
      "\r",
      " 37%|███▋      | 28/76 [06:12<09:47, 12.23s/it]"
     ]
    },
    {
     "name": "stdout",
     "output_type": "stream",
     "text": [
      "2020-01-28 17:39:49,863 - src.data_retrieval - DEBUG - `All_PrimeTransactions_2020-01-28_H12M03S59004069.zip` is ready, starting download.\n",
      "2020-01-28 17:40:00,199 - src.data_retrieval - DEBUG - Download finished, moving to the next.\n"
     ]
    },
    {
     "name": "stderr",
     "output_type": "stream",
     "text": [
      "\r",
      " 38%|███▊      | 29/76 [06:23<09:18, 11.88s/it]"
     ]
    },
    {
     "name": "stdout",
     "output_type": "stream",
     "text": [
      "2020-01-28 17:40:00,904 - src.data_retrieval - DEBUG - `All_PrimeTransactions_2020-01-28_H12M04S00685241.zip` is ready, starting download.\n",
      "2020-01-28 17:40:13,033 - src.data_retrieval - DEBUG - Download finished, moving to the next.\n"
     ]
    },
    {
     "name": "stderr",
     "output_type": "stream",
     "text": [
      "\r",
      " 39%|███▉      | 30/76 [06:36<09:19, 12.17s/it]"
     ]
    },
    {
     "name": "stdout",
     "output_type": "stream",
     "text": [
      "2020-01-28 17:40:13,759 - src.data_retrieval - DEBUG - `All_PrimeTransactions_2020-01-28_H12M04S02388527.zip` is ready, starting download.\n",
      "2020-01-28 17:40:25,087 - src.data_retrieval - DEBUG - Download finished, moving to the next.\n"
     ]
    },
    {
     "name": "stderr",
     "output_type": "stream",
     "text": [
      "\r",
      " 41%|████      | 31/76 [06:48<09:05, 12.13s/it]"
     ]
    },
    {
     "name": "stdout",
     "output_type": "stream",
     "text": [
      "2020-01-28 17:40:25,802 - src.data_retrieval - DEBUG - `All_PrimeTransactions_2020-01-28_H12M04S04167726.zip` is ready, starting download.\n",
      "2020-01-28 17:40:35,905 - src.data_retrieval - DEBUG - Download finished, moving to the next.\n"
     ]
    },
    {
     "name": "stderr",
     "output_type": "stream",
     "text": [
      "\r",
      " 42%|████▏     | 32/76 [06:59<08:36, 11.74s/it]"
     ]
    },
    {
     "name": "stdout",
     "output_type": "stream",
     "text": [
      "2020-01-28 17:40:36,623 - src.data_retrieval - DEBUG - `All_PrimeTransactions_2020-01-28_H12M04S05799135.zip` is ready, starting download.\n",
      "2020-01-28 17:40:50,234 - src.data_retrieval - DEBUG - Download finished, moving to the next.\n"
     ]
    },
    {
     "name": "stderr",
     "output_type": "stream",
     "text": [
      "\r",
      " 43%|████▎     | 33/76 [07:13<08:58, 12.52s/it]"
     ]
    },
    {
     "name": "stdout",
     "output_type": "stream",
     "text": [
      "2020-01-28 17:40:50,943 - src.data_retrieval - DEBUG - `All_PrimeTransactions_2020-01-28_H12M04S07558752.zip` is ready, starting download.\n",
      "2020-01-28 17:41:03,072 - src.data_retrieval - DEBUG - Download finished, moving to the next.\n"
     ]
    },
    {
     "name": "stderr",
     "output_type": "stream",
     "text": [
      "\r",
      " 45%|████▍     | 34/76 [07:26<08:49, 12.61s/it]"
     ]
    },
    {
     "name": "stdout",
     "output_type": "stream",
     "text": [
      "2020-01-28 17:41:03,792 - src.data_retrieval - DEBUG - `All_PrimeTransactions_2020-01-28_H12M04S09556579.zip` is ready, starting download.\n",
      "2020-01-28 17:41:15,245 - src.data_retrieval - DEBUG - Download finished, moving to the next.\n"
     ]
    },
    {
     "name": "stderr",
     "output_type": "stream",
     "text": [
      "\r",
      " 46%|████▌     | 35/76 [07:38<08:31, 12.48s/it]"
     ]
    },
    {
     "name": "stdout",
     "output_type": "stream",
     "text": [
      "2020-01-28 17:41:15,960 - src.data_retrieval - DEBUG - `All_PrimeTransactions_2020-01-28_H12M04S11214491.zip` is ready, starting download.\n",
      "2020-01-28 17:41:28,654 - src.data_retrieval - DEBUG - Download finished, moving to the next.\n"
     ]
    },
    {
     "name": "stderr",
     "output_type": "stream",
     "text": [
      "\r",
      " 47%|████▋     | 36/76 [07:51<08:30, 12.76s/it]"
     ]
    },
    {
     "name": "stdout",
     "output_type": "stream",
     "text": [
      "2020-01-28 17:41:29,370 - src.data_retrieval - DEBUG - `All_PrimeTransactions_2020-01-28_H12M04S12926329.zip` is ready, starting download.\n",
      "2020-01-28 17:41:41,875 - src.data_retrieval - DEBUG - Download finished, moving to the next.\n"
     ]
    },
    {
     "name": "stderr",
     "output_type": "stream",
     "text": [
      "\r",
      " 49%|████▊     | 37/76 [08:05<08:23, 12.90s/it]"
     ]
    },
    {
     "name": "stdout",
     "output_type": "stream",
     "text": [
      "2020-01-28 17:41:42,609 - src.data_retrieval - DEBUG - `All_PrimeTransactions_2020-01-28_H12M04S15763571.zip` is ready, starting download.\n",
      "2020-01-28 17:41:49,031 - src.data_retrieval - DEBUG - Download finished, moving to the next.\n"
     ]
    },
    {
     "name": "stderr",
     "output_type": "stream",
     "text": [
      "\r",
      " 50%|█████     | 38/76 [08:12<07:04, 11.17s/it]"
     ]
    },
    {
     "name": "stdout",
     "output_type": "stream",
     "text": [
      "2020-01-28 17:41:50,751 - src.data_retrieval - DEBUG - `All_PrimeTransactions_2020-01-28_H12M03S10091740.zip` is ready, starting download.\n",
      "2020-01-28 17:41:57,604 - src.data_retrieval - DEBUG - Download finished, moving to the next.\n"
     ]
    },
    {
     "name": "stderr",
     "output_type": "stream",
     "text": [
      "\r",
      " 51%|█████▏    | 39/76 [08:20<06:24, 10.39s/it]"
     ]
    },
    {
     "name": "stdout",
     "output_type": "stream",
     "text": [
      "2020-01-28 17:41:58,303 - src.data_retrieval - DEBUG - `All_PrimeTransactions_2020-01-28_H12M03S13421697.zip` is ready, starting download.\n",
      "2020-01-28 17:42:05,785 - src.data_retrieval - DEBUG - Download finished, moving to the next.\n"
     ]
    },
    {
     "name": "stderr",
     "output_type": "stream",
     "text": [
      "\r",
      " 53%|█████▎    | 40/76 [08:28<05:50,  9.73s/it]"
     ]
    },
    {
     "name": "stdout",
     "output_type": "stream",
     "text": [
      "2020-01-28 17:42:06,488 - src.data_retrieval - DEBUG - `All_PrimeTransactions_2020-01-28_H12M03S16805382.zip` is ready, starting download.\n",
      "2020-01-28 17:42:17,325 - src.data_retrieval - DEBUG - Download finished, moving to the next.\n"
     ]
    },
    {
     "name": "stderr",
     "output_type": "stream",
     "text": [
      "\r",
      " 54%|█████▍    | 41/76 [08:40<05:59, 10.27s/it]"
     ]
    },
    {
     "name": "stdout",
     "output_type": "stream",
     "text": [
      "2020-01-28 17:42:18,035 - src.data_retrieval - DEBUG - `All_PrimeTransactions_2020-01-28_H12M03S20143901.zip` is ready, starting download.\n",
      "2020-01-28 17:42:26,988 - src.data_retrieval - DEBUG - Download finished, moving to the next.\n"
     ]
    },
    {
     "name": "stderr",
     "output_type": "stream",
     "text": [
      "\r",
      " 55%|█████▌    | 42/76 [08:50<05:43, 10.09s/it]"
     ]
    },
    {
     "name": "stdout",
     "output_type": "stream",
     "text": [
      "2020-01-28 17:42:27,705 - src.data_retrieval - DEBUG - `All_PrimeTransactions_2020-01-28_H12M03S24652532.zip` is ready, starting download.\n",
      "2020-01-28 17:42:36,532 - src.data_retrieval - DEBUG - Download finished, moving to the next.\n"
     ]
    },
    {
     "name": "stderr",
     "output_type": "stream",
     "text": [
      "\r",
      " 57%|█████▋    | 43/76 [08:59<05:27,  9.93s/it]"
     ]
    },
    {
     "name": "stdout",
     "output_type": "stream",
     "text": [
      "2020-01-28 17:42:37,257 - src.data_retrieval - DEBUG - `All_PrimeTransactions_2020-01-28_H12M03S28064333.zip` is ready, starting download.\n",
      "2020-01-28 17:42:51,066 - src.data_retrieval - DEBUG - Download finished, moving to the next.\n"
     ]
    },
    {
     "name": "stderr",
     "output_type": "stream",
     "text": [
      "\r",
      " 58%|█████▊    | 44/76 [09:14<06:01, 11.31s/it]"
     ]
    },
    {
     "name": "stdout",
     "output_type": "stream",
     "text": [
      "2020-01-28 17:42:51,770 - src.data_retrieval - DEBUG - `All_PrimeTransactions_2020-01-28_H12M03S31586065.zip` is ready, starting download.\n",
      "2020-01-28 17:42:59,790 - src.data_retrieval - DEBUG - Download finished, moving to the next.\n"
     ]
    },
    {
     "name": "stderr",
     "output_type": "stream",
     "text": [
      "\r",
      " 59%|█████▉    | 45/76 [09:22<05:26, 10.53s/it]"
     ]
    },
    {
     "name": "stdout",
     "output_type": "stream",
     "text": [
      "2020-01-28 17:43:00,511 - src.data_retrieval - DEBUG - `All_PrimeTransactions_2020-01-28_H12M03S35609004.zip` is ready, starting download.\n",
      "2020-01-28 17:43:10,734 - src.data_retrieval - DEBUG - Download finished, moving to the next.\n"
     ]
    },
    {
     "name": "stderr",
     "output_type": "stream",
     "text": [
      "\r",
      " 61%|██████    | 46/76 [09:33<05:19, 10.66s/it]"
     ]
    },
    {
     "name": "stdout",
     "output_type": "stream",
     "text": [
      "2020-01-28 17:43:11,445 - src.data_retrieval - DEBUG - `All_PrimeTransactions_2020-01-28_H12M03S39144705.zip` is ready, starting download.\n",
      "2020-01-28 17:43:23,204 - src.data_retrieval - DEBUG - Download finished, moving to the next.\n"
     ]
    },
    {
     "name": "stderr",
     "output_type": "stream",
     "text": [
      "\r",
      " 62%|██████▏   | 47/76 [09:46<05:24, 11.20s/it]"
     ]
    },
    {
     "name": "stdout",
     "output_type": "stream",
     "text": [
      "2020-01-28 17:43:23,935 - src.data_retrieval - DEBUG - `All_PrimeTransactions_2020-01-28_H12M03S42754484.zip` is ready, starting download.\n",
      "2020-01-28 17:43:31,992 - src.data_retrieval - DEBUG - Download finished, moving to the next.\n"
     ]
    },
    {
     "name": "stderr",
     "output_type": "stream",
     "text": [
      "\r",
      " 63%|██████▎   | 48/76 [09:55<04:53, 10.48s/it]"
     ]
    },
    {
     "name": "stdout",
     "output_type": "stream",
     "text": [
      "2020-01-28 17:43:32,724 - src.data_retrieval - DEBUG - `All_PrimeTransactions_2020-01-28_H12M03S46425494.zip` is ready, starting download.\n",
      "2020-01-28 17:43:42,656 - src.data_retrieval - DEBUG - Download finished, moving to the next.\n"
     ]
    },
    {
     "name": "stderr",
     "output_type": "stream",
     "text": [
      "\r",
      " 64%|██████▍   | 49/76 [10:05<04:44, 10.53s/it]"
     ]
    },
    {
     "name": "stdout",
     "output_type": "stream",
     "text": [
      "2020-01-28 17:43:43,382 - src.data_retrieval - DEBUG - `All_PrimeTransactions_2020-01-28_H12M03S49775472.zip` is ready, starting download.\n",
      "2020-01-28 17:43:54,216 - src.data_retrieval - DEBUG - Download finished, moving to the next.\n"
     ]
    },
    {
     "name": "stderr",
     "output_type": "stream",
     "text": [
      "\r",
      " 66%|██████▌   | 50/76 [10:17<04:41, 10.84s/it]"
     ]
    },
    {
     "name": "stdout",
     "output_type": "stream",
     "text": [
      "2020-01-28 17:43:54,924 - src.data_retrieval - DEBUG - `All_PrimeTransactions_2020-01-28_H12M03S53210885.zip` is ready, starting download.\n",
      "2020-01-28 17:44:06,140 - src.data_retrieval - DEBUG - Download finished, moving to the next.\n"
     ]
    },
    {
     "name": "stderr",
     "output_type": "stream",
     "text": [
      "\r",
      " 67%|██████▋   | 51/76 [10:29<04:39, 11.17s/it]"
     ]
    },
    {
     "name": "stdout",
     "output_type": "stream",
     "text": [
      "2020-01-28 17:44:06,856 - src.data_retrieval - DEBUG - `All_PrimeTransactions_2020-01-28_H12M03S56547841.zip` is ready, starting download.\n",
      "2020-01-28 17:44:18,420 - src.data_retrieval - DEBUG - Download finished, moving to the next.\n"
     ]
    },
    {
     "name": "stderr",
     "output_type": "stream",
     "text": [
      "\r",
      " 68%|██████▊   | 52/76 [10:41<04:36, 11.50s/it]"
     ]
    },
    {
     "name": "stdout",
     "output_type": "stream",
     "text": [
      "2020-01-28 17:44:19,161 - src.data_retrieval - DEBUG - `All_PrimeTransactions_2020-01-28_H12M03S59855808.zip` is ready, starting download.\n",
      "2020-01-28 17:44:30,788 - src.data_retrieval - DEBUG - Download finished, moving to the next.\n"
     ]
    },
    {
     "name": "stderr",
     "output_type": "stream",
     "text": [
      "\r",
      " 70%|██████▉   | 53/76 [10:53<04:30, 11.76s/it]"
     ]
    },
    {
     "name": "stdout",
     "output_type": "stream",
     "text": [
      "2020-01-28 17:44:31,508 - src.data_retrieval - DEBUG - `All_PrimeTransactions_2020-01-28_H12M04S03239161.zip` is ready, starting download.\n",
      "2020-01-28 17:44:42,911 - src.data_retrieval - DEBUG - Download finished, moving to the next.\n"
     ]
    },
    {
     "name": "stderr",
     "output_type": "stream",
     "text": [
      "\r",
      " 71%|███████   | 54/76 [11:06<04:21, 11.87s/it]"
     ]
    },
    {
     "name": "stdout",
     "output_type": "stream",
     "text": [
      "2020-01-28 17:44:43,642 - src.data_retrieval - DEBUG - `All_PrimeTransactions_2020-01-28_H12M04S06688329.zip` is ready, starting download.\n",
      "2020-01-28 17:44:56,871 - src.data_retrieval - DEBUG - Download finished, moving to the next.\n"
     ]
    },
    {
     "name": "stderr",
     "output_type": "stream",
     "text": [
      "\r",
      " 72%|███████▏  | 55/76 [11:20<04:22, 12.50s/it]"
     ]
    },
    {
     "name": "stdout",
     "output_type": "stream",
     "text": [
      "2020-01-28 17:44:57,573 - src.data_retrieval - DEBUG - `All_PrimeTransactions_2020-01-28_H12M04S10374745.zip` is ready, starting download.\n",
      "2020-01-28 17:45:08,601 - src.data_retrieval - DEBUG - Download finished, moving to the next.\n"
     ]
    },
    {
     "name": "stderr",
     "output_type": "stream",
     "text": [
      "\r",
      " 74%|███████▎  | 56/76 [11:31<04:05, 12.27s/it]"
     ]
    },
    {
     "name": "stdout",
     "output_type": "stream",
     "text": [
      "2020-01-28 17:45:09,330 - src.data_retrieval - DEBUG - `All_PrimeTransactions_2020-01-28_H12M04S14903577.zip` is ready, starting download.\n",
      "2020-01-28 17:45:16,018 - src.data_retrieval - DEBUG - Download finished, moving to the next.\n"
     ]
    },
    {
     "name": "stderr",
     "output_type": "stream",
     "text": [
      "\r",
      " 75%|███████▌  | 57/76 [11:39<03:25, 10.81s/it]"
     ]
    },
    {
     "name": "stdout",
     "output_type": "stream",
     "text": [
      "2020-01-28 17:45:17,734 - src.data_retrieval - DEBUG - `All_PrimeTransactions_2020-01-28_H12M03S11768174.zip` is ready, starting download.\n",
      "2020-01-28 17:45:24,487 - src.data_retrieval - DEBUG - Download finished, moving to the next.\n"
     ]
    },
    {
     "name": "stderr",
     "output_type": "stream",
     "text": [
      "\r",
      " 76%|███████▋  | 58/76 [11:47<03:01, 10.11s/it]"
     ]
    },
    {
     "name": "stdout",
     "output_type": "stream",
     "text": [
      "2020-01-28 17:45:25,198 - src.data_retrieval - DEBUG - `All_PrimeTransactions_2020-01-28_H12M03S18493024.zip` is ready, starting download.\n",
      "2020-01-28 17:45:32,987 - src.data_retrieval - DEBUG - Download finished, moving to the next.\n"
     ]
    },
    {
     "name": "stderr",
     "output_type": "stream",
     "text": [
      "\r",
      " 78%|███████▊  | 59/76 [11:56<02:43,  9.63s/it]"
     ]
    },
    {
     "name": "stdout",
     "output_type": "stream",
     "text": [
      "2020-01-28 17:45:33,717 - src.data_retrieval - DEBUG - `All_PrimeTransactions_2020-01-28_H12M03S26383517.zip` is ready, starting download.\n",
      "2020-01-28 17:45:44,133 - src.data_retrieval - DEBUG - Download finished, moving to the next.\n"
     ]
    },
    {
     "name": "stderr",
     "output_type": "stream",
     "text": [
      "\r",
      " 79%|███████▉  | 60/76 [12:07<02:41, 10.08s/it]"
     ]
    },
    {
     "name": "stdout",
     "output_type": "stream",
     "text": [
      "2020-01-28 17:45:44,854 - src.data_retrieval - DEBUG - `All_PrimeTransactions_2020-01-28_H12M03S33387434.zip` is ready, starting download.\n",
      "2020-01-28 17:45:55,097 - src.data_retrieval - DEBUG - Download finished, moving to the next.\n"
     ]
    },
    {
     "name": "stderr",
     "output_type": "stream",
     "text": [
      "\r",
      " 80%|████████  | 61/76 [12:18<02:35, 10.35s/it]"
     ]
    },
    {
     "name": "stdout",
     "output_type": "stream",
     "text": [
      "2020-01-28 17:45:55,806 - src.data_retrieval - DEBUG - `All_PrimeTransactions_2020-01-28_H12M03S41090722.zip` is ready, starting download.\n",
      "2020-01-28 17:46:04,969 - src.data_retrieval - DEBUG - Download finished, moving to the next.\n"
     ]
    },
    {
     "name": "stderr",
     "output_type": "stream",
     "text": [
      "\r",
      " 82%|████████▏ | 62/76 [12:28<02:22, 10.20s/it]"
     ]
    },
    {
     "name": "stdout",
     "output_type": "stream",
     "text": [
      "2020-01-28 17:46:05,688 - src.data_retrieval - DEBUG - `All_PrimeTransactions_2020-01-28_H12M03S48084359.zip` is ready, starting download.\n",
      "2020-01-28 17:46:15,908 - src.data_retrieval - DEBUG - Download finished, moving to the next.\n"
     ]
    },
    {
     "name": "stderr",
     "output_type": "stream",
     "text": [
      "\r",
      " 83%|████████▎ | 63/76 [12:39<02:15, 10.42s/it]"
     ]
    },
    {
     "name": "stdout",
     "output_type": "stream",
     "text": [
      "2020-01-28 17:46:16,623 - src.data_retrieval - DEBUG - `All_PrimeTransactions_2020-01-28_H12M03S54869455.zip` is ready, starting download.\n",
      "2020-01-28 17:46:28,447 - src.data_retrieval - DEBUG - Download finished, moving to the next.\n"
     ]
    },
    {
     "name": "stderr",
     "output_type": "stream",
     "text": [
      "\r",
      " 84%|████████▍ | 64/76 [12:51<02:12, 11.06s/it]"
     ]
    },
    {
     "name": "stdout",
     "output_type": "stream",
     "text": [
      "2020-01-28 17:46:29,169 - src.data_retrieval - DEBUG - `All_PrimeTransactions_2020-01-28_H12M04S01514799.zip` is ready, starting download.\n",
      "2020-01-28 17:46:43,898 - src.data_retrieval - DEBUG - Download finished, moving to the next.\n"
     ]
    },
    {
     "name": "stderr",
     "output_type": "stream",
     "text": [
      "\r",
      " 86%|████████▌ | 65/76 [13:07<02:16, 12.38s/it]"
     ]
    },
    {
     "name": "stdout",
     "output_type": "stream",
     "text": [
      "2020-01-28 17:46:44,615 - src.data_retrieval - DEBUG - `All_PrimeTransactions_2020-01-28_H12M04S08367263.zip` is ready, starting download.\n",
      "2020-01-28 17:46:56,476 - src.data_retrieval - DEBUG - Download finished, moving to the next.\n"
     ]
    },
    {
     "name": "stderr",
     "output_type": "stream",
     "text": [
      "\r",
      " 87%|████████▋ | 66/76 [13:19<02:04, 12.44s/it]"
     ]
    },
    {
     "name": "stdout",
     "output_type": "stream",
     "text": [
      "2020-01-28 17:46:57,194 - src.data_retrieval - DEBUG - `All_PrimeTransactions_2020-01-28_H12M04S16596313.zip` is ready, starting download.\n",
      "2020-01-28 17:47:00,909 - src.data_retrieval - DEBUG - Download finished, moving to the next.\n"
     ]
    },
    {
     "name": "stderr",
     "output_type": "stream",
     "text": [
      "\r",
      " 88%|████████▊ | 67/76 [13:24<01:30, 10.04s/it]"
     ]
    },
    {
     "name": "stdout",
     "output_type": "stream",
     "text": [
      "2020-01-28 17:47:02,652 - src.data_retrieval - DEBUG - `All_PrimeTransactions_2020-01-28_H12M03S15114569.zip` is ready, starting download.\n",
      "2020-01-28 17:47:10,141 - src.data_retrieval - DEBUG - Download finished, moving to the next.\n"
     ]
    },
    {
     "name": "stderr",
     "output_type": "stream",
     "text": [
      "\r",
      " 89%|████████▉ | 68/76 [13:33<01:18,  9.79s/it]"
     ]
    },
    {
     "name": "stdout",
     "output_type": "stream",
     "text": [
      "2020-01-28 17:47:10,874 - src.data_retrieval - DEBUG - `All_PrimeTransactions_2020-01-28_H12M03S29880392.zip` is ready, starting download.\n",
      "2020-01-28 17:47:19,444 - src.data_retrieval - DEBUG - Download finished, moving to the next.\n"
     ]
    },
    {
     "name": "stderr",
     "output_type": "stream",
     "text": [
      "\r",
      " 91%|█████████ | 69/76 [13:42<01:07,  9.65s/it]"
     ]
    },
    {
     "name": "stdout",
     "output_type": "stream",
     "text": [
      "2020-01-28 17:47:20,165 - src.data_retrieval - DEBUG - `All_PrimeTransactions_2020-01-28_H12M03S44664923.zip` is ready, starting download.\n",
      "2020-01-28 17:47:30,266 - src.data_retrieval - DEBUG - Download finished, moving to the next.\n"
     ]
    },
    {
     "name": "stderr",
     "output_type": "stream",
     "text": [
      "\r",
      " 92%|█████████▏| 70/76 [13:53<00:59, 10.00s/it]"
     ]
    },
    {
     "name": "stdout",
     "output_type": "stream",
     "text": [
      "2020-01-28 17:47:30,980 - src.data_retrieval - DEBUG - `All_PrimeTransactions_2020-01-28_H12M03S58204510.zip` is ready, starting download.\n",
      "2020-01-28 17:47:41,868 - src.data_retrieval - DEBUG - Download finished, moving to the next.\n"
     ]
    },
    {
     "name": "stderr",
     "output_type": "stream",
     "text": [
      "\r",
      " 93%|█████████▎| 71/76 [14:05<00:52, 10.48s/it]"
     ]
    },
    {
     "name": "stdout",
     "output_type": "stream",
     "text": [
      "2020-01-28 17:47:42,586 - src.data_retrieval - DEBUG - `All_PrimeTransactions_2020-01-28_H12M04S12034866.zip` is ready, starting download.\n",
      "2020-01-28 17:47:57,359 - src.data_retrieval - DEBUG - Download finished, moving to the next.\n"
     ]
    },
    {
     "name": "stderr",
     "output_type": "stream",
     "text": [
      "\r",
      " 95%|█████████▍| 72/76 [14:20<00:47, 11.98s/it]"
     ]
    },
    {
     "name": "stdout",
     "output_type": "stream",
     "text": [
      "2020-01-28 17:47:59,084 - src.data_retrieval - DEBUG - `All_PrimeTransactions_2020-01-28_H12M03S22087345.zip` is ready, starting download.\n",
      "2020-01-28 17:48:08,878 - src.data_retrieval - DEBUG - Download finished, moving to the next.\n"
     ]
    },
    {
     "name": "stderr",
     "output_type": "stream",
     "text": [
      "\r",
      " 96%|█████████▌| 73/76 [14:32<00:35, 11.84s/it]"
     ]
    },
    {
     "name": "stdout",
     "output_type": "stream",
     "text": [
      "2020-01-28 17:48:09,589 - src.data_retrieval - DEBUG - `All_PrimeTransactions_2020-01-28_H12M03S51494324.zip` is ready, starting download.\n",
      "2020-01-28 17:48:21,366 - src.data_retrieval - DEBUG - Download finished, moving to the next.\n"
     ]
    },
    {
     "name": "stderr",
     "output_type": "stream",
     "text": [
      "\r",
      " 97%|█████████▋| 74/76 [14:44<00:24, 12.04s/it]"
     ]
    },
    {
     "name": "stdout",
     "output_type": "stream",
     "text": [
      "2020-01-28 17:48:23,092 - src.data_retrieval - DEBUG - `All_PrimeTransactions_2020-01-28_H12M03S37447257.zip` is ready, starting download.\n",
      "2020-01-28 17:48:32,575 - src.data_retrieval - DEBUG - Download finished, moving to the next.\n"
     ]
    },
    {
     "name": "stderr",
     "output_type": "stream",
     "text": [
      "\r",
      " 99%|█████████▊| 75/76 [14:55<00:11, 11.79s/it]"
     ]
    },
    {
     "name": "stdout",
     "output_type": "stream",
     "text": [
      "2020-01-28 17:48:34,295 - src.data_retrieval - DEBUG - `All_PrimeTransactions_2020-01-28_H12M04S04980949.zip` is ready, starting download.\n",
      "2020-01-28 17:48:46,274 - src.data_retrieval - DEBUG - Download finished, moving to the next.\n"
     ]
    },
    {
     "name": "stderr",
     "output_type": "stream",
     "text": [
      "\r",
      "100%|██████████| 76/76 [15:09<00:00, 12.36s/it]"
     ]
    },
    {
     "name": "stdout",
     "output_type": "stream",
     "text": [
      "2020-01-28 17:48:46,277 - src.data_retrieval - DEBUG - All downloads are completed.\n"
     ]
    }
   ],
   "source": [
    "data_retrieval.download_bulk_in_batches(\"2014-01-01\", \"2020-01-01\", \"data_full\", award_types=[\"contracts\"])"
   ]
  },
  {
   "cell_type": "code",
   "execution_count": 3,
   "metadata": {
    "scrolled": true
   },
   "outputs": [
    {
     "name": "stdout",
     "output_type": "stream",
     "text": [
      "2020-01-28 17:48:46,293 - src.csv_handlers - DEBUG - Found .zip file: data_full/All_PrimeTransactions_2020-01-28_H12M04S02388527.zip\n",
      "2020-01-28 17:48:46,299 - src.csv_handlers - DEBUG - Found .csv file in zip, opening: All_Contracts_PrimeTransactions_2020-01-28_H12M04S02_1.csv\n",
      "2020-01-28 17:48:46,301 - src.csv_handlers - DEBUG - Reading file: <zipfile.ZipExtFile name='All_Contracts_PrimeTransactions_2020-01-28_H12M04S02_1.csv' mode='r' compress_type=deflate>\n",
      "2020-01-28 17:48:57,715 - src.csv_handlers - DEBUG - Found .zip file: data_full/All_PrimeTransactions_2020-01-28_H12M03S13421697.zip\n",
      "2020-01-28 17:48:57,716 - src.csv_handlers - DEBUG - Found .csv file in zip, opening: All_Contracts_PrimeTransactions_2020-01-28_H12M03S13_1.csv\n",
      "2020-01-28 17:48:57,717 - src.csv_handlers - DEBUG - Reading file: <zipfile.ZipExtFile name='All_Contracts_PrimeTransactions_2020-01-28_H12M03S13_1.csv' mode='r' compress_type=deflate>\n",
      "2020-01-28 17:49:02,431 - src.csv_handlers - DEBUG - Found .zip file: data_full/All_PrimeTransactions_2020-01-28_H12M03S43592288.zip\n",
      "2020-01-28 17:49:02,432 - src.csv_handlers - DEBUG - Found .csv file in zip, opening: All_Contracts_PrimeTransactions_2020-01-28_H12M03S43_1.csv\n",
      "2020-01-28 17:49:02,433 - src.csv_handlers - DEBUG - Reading file: <zipfile.ZipExtFile name='All_Contracts_PrimeTransactions_2020-01-28_H12M03S43_1.csv' mode='r' compress_type=deflate>\n",
      "2020-01-28 17:49:10,813 - src.csv_handlers - DEBUG - Found .zip file: data_full/All_PrimeTransactions_2020-01-28_H12M04S12926329.zip\n",
      "2020-01-28 17:49:10,814 - src.csv_handlers - DEBUG - Found .csv file in zip, opening: All_Contracts_PrimeTransactions_2020-01-28_H12M04S13_1.csv\n",
      "2020-01-28 17:49:10,814 - src.csv_handlers - DEBUG - Reading file: <zipfile.ZipExtFile name='All_Contracts_PrimeTransactions_2020-01-28_H12M04S13_1.csv' mode='r' compress_type=deflate>\n",
      "2020-01-28 17:49:22,660 - src.csv_handlers - DEBUG - Found .zip file: data_full/All_PrimeTransactions_2020-01-28_H12M04S05799135.zip\n",
      "2020-01-28 17:49:22,661 - src.csv_handlers - DEBUG - Found .csv file in zip, opening: All_Contracts_PrimeTransactions_2020-01-28_H12M04S06_1.csv\n",
      "2020-01-28 17:49:22,661 - src.csv_handlers - DEBUG - Reading file: <zipfile.ZipExtFile name='All_Contracts_PrimeTransactions_2020-01-28_H12M04S06_1.csv' mode='r' compress_type=deflate>\n",
      "2020-01-28 17:49:36,067 - src.csv_handlers - DEBUG - Found .zip file: data_full/All_PrimeTransactions_2020-01-28_H12M04S04980949.zip\n",
      "2020-01-28 17:49:36,068 - src.csv_handlers - DEBUG - Found .csv file in zip, opening: All_Contracts_PrimeTransactions_2020-01-28_H12M04S05_1.csv\n",
      "2020-01-28 17:49:36,069 - src.csv_handlers - DEBUG - Reading file: <zipfile.ZipExtFile name='All_Contracts_PrimeTransactions_2020-01-28_H12M04S05_1.csv' mode='r' compress_type=deflate>\n",
      "2020-01-28 17:49:48,219 - src.csv_handlers - DEBUG - Found .zip file: data_full/All_PrimeTransactions_2020-01-28_H12M03S15114569.zip\n",
      "2020-01-28 17:49:48,220 - src.csv_handlers - DEBUG - Found .csv file in zip, opening: All_Contracts_PrimeTransactions_2020-01-28_H12M03S15_1.csv\n",
      "2020-01-28 17:49:48,221 - src.csv_handlers - DEBUG - Reading file: <zipfile.ZipExtFile name='All_Contracts_PrimeTransactions_2020-01-28_H12M03S15_1.csv' mode='r' compress_type=deflate>\n",
      "2020-01-28 17:49:53,718 - src.csv_handlers - DEBUG - Found .zip file: data_full/All_PrimeTransactions_2020-01-28_H12M04S07558752.zip\n",
      "2020-01-28 17:49:53,719 - src.csv_handlers - DEBUG - Found .csv file in zip, opening: All_Contracts_PrimeTransactions_2020-01-28_H12M04S07_1.csv\n",
      "2020-01-28 17:49:53,720 - src.csv_handlers - DEBUG - Reading file: <zipfile.ZipExtFile name='All_Contracts_PrimeTransactions_2020-01-28_H12M04S07_1.csv' mode='r' compress_type=deflate>\n",
      "2020-01-28 17:50:05,811 - src.csv_handlers - DEBUG - Found .zip file: data_full/All_PrimeTransactions_2020-01-28_H12M03S44664923.zip\n",
      "2020-01-28 17:50:05,812 - src.csv_handlers - DEBUG - Found .csv file in zip, opening: All_Contracts_PrimeTransactions_2020-01-28_H12M03S44_1.csv\n",
      "2020-01-28 17:50:05,812 - src.csv_handlers - DEBUG - Reading file: <zipfile.ZipExtFile name='All_Contracts_PrimeTransactions_2020-01-28_H12M03S44_1.csv' mode='r' compress_type=deflate>\n",
      "2020-01-28 17:50:14,892 - src.csv_handlers - DEBUG - Found .zip file: data_full/All_PrimeTransactions_2020-01-28_H12M04S03239161.zip\n",
      "2020-01-28 17:50:14,893 - src.csv_handlers - DEBUG - Found .csv file in zip, opening: All_Contracts_PrimeTransactions_2020-01-28_H12M04S03_1.csv\n",
      "2020-01-28 17:50:14,894 - src.csv_handlers - DEBUG - Reading file: <zipfile.ZipExtFile name='All_Contracts_PrimeTransactions_2020-01-28_H12M04S03_1.csv' mode='r' compress_type=deflate>\n",
      "2020-01-28 17:50:25,971 - src.csv_handlers - DEBUG - Found .zip file: data_full/All_PrimeTransactions_2020-01-28_H12M03S29014927.zip\n",
      "2020-01-28 17:50:25,978 - src.csv_handlers - DEBUG - Found .csv file in zip, opening: All_Contracts_PrimeTransactions_2020-01-28_H12M03S29_1.csv\n",
      "2020-01-28 17:50:25,979 - src.csv_handlers - DEBUG - Reading file: <zipfile.ZipExtFile name='All_Contracts_PrimeTransactions_2020-01-28_H12M03S29_1.csv' mode='r' compress_type=deflate>\n",
      "2020-01-28 17:50:33,299 - src.csv_handlers - DEBUG - Found .zip file: data_full/All_PrimeTransactions_2020-01-28_H12M03S25572772.zip\n",
      "2020-01-28 17:50:33,305 - src.csv_handlers - DEBUG - Found .csv file in zip, opening: All_Contracts_PrimeTransactions_2020-01-28_H12M03S25_1.csv\n",
      "2020-01-28 17:50:33,306 - src.csv_handlers - DEBUG - Reading file: <zipfile.ZipExtFile name='All_Contracts_PrimeTransactions_2020-01-28_H12M03S25_1.csv' mode='r' compress_type=deflate>\n",
      "2020-01-28 17:50:40,590 - src.csv_handlers - DEBUG - Found .zip file: data_full/All_PrimeTransactions_2020-01-28_H12M03S28064333.zip\n",
      "2020-01-28 17:50:40,591 - src.csv_handlers - DEBUG - Found .csv file in zip, opening: All_Contracts_PrimeTransactions_2020-01-28_H12M03S28_1.csv\n",
      "2020-01-28 17:50:40,592 - src.csv_handlers - DEBUG - Reading file: <zipfile.ZipExtFile name='All_Contracts_PrimeTransactions_2020-01-28_H12M03S28_1.csv' mode='r' compress_type=deflate>\n",
      "2020-01-28 17:50:51,606 - src.csv_handlers - DEBUG - Found .zip file: data_full/All_PrimeTransactions_2020-01-28_H12M03S38257465.zip\n",
      "2020-01-28 17:50:51,607 - src.csv_handlers - DEBUG - Found .csv file in zip, opening: All_Contracts_PrimeTransactions_2020-01-28_H12M03S38_1.csv\n",
      "2020-01-28 17:50:51,608 - src.csv_handlers - DEBUG - Reading file: <zipfile.ZipExtFile name='All_Contracts_PrimeTransactions_2020-01-28_H12M03S38_1.csv' mode='r' compress_type=deflate>\n",
      "2020-01-28 17:51:01,361 - src.csv_handlers - DEBUG - Found .zip file: data_full/All_PrimeTransactions_2020-01-28_H12M03S37447257.zip\n",
      "2020-01-28 17:51:01,362 - src.csv_handlers - DEBUG - Found .csv file in zip, opening: All_Contracts_PrimeTransactions_2020-01-28_H12M03S37_1.csv\n",
      "2020-01-28 17:51:01,363 - src.csv_handlers - DEBUG - Reading file: <zipfile.ZipExtFile name='All_Contracts_PrimeTransactions_2020-01-28_H12M03S37_1.csv' mode='r' compress_type=deflate>\n",
      "2020-01-28 17:51:09,776 - src.csv_handlers - DEBUG - Found .zip file: data_full/All_PrimeTransactions_2020-01-28_H12M03S18493024.zip\n",
      "2020-01-28 17:51:09,778 - src.csv_handlers - DEBUG - Found .csv file in zip, opening: All_Contracts_PrimeTransactions_2020-01-28_H12M03S18_1.csv\n",
      "2020-01-28 17:51:09,778 - src.csv_handlers - DEBUG - Reading file: <zipfile.ZipExtFile name='All_Contracts_PrimeTransactions_2020-01-28_H12M03S18_1.csv' mode='r' compress_type=deflate>\n",
      "2020-01-28 17:51:16,384 - src.csv_handlers - DEBUG - Found .zip file: data_full/All_PrimeTransactions_2020-01-28_H12M04S01514799.zip\n",
      "2020-01-28 17:51:16,385 - src.csv_handlers - DEBUG - Found .csv file in zip, opening: All_Contracts_PrimeTransactions_2020-01-28_H12M04S01_1.csv\n",
      "2020-01-28 17:51:16,386 - src.csv_handlers - DEBUG - Reading file: <zipfile.ZipExtFile name='All_Contracts_PrimeTransactions_2020-01-28_H12M04S01_1.csv' mode='r' compress_type=deflate>\n",
      "2020-01-28 17:51:30,251 - src.csv_handlers - DEBUG - Found .zip file: data_full/All_PrimeTransactions_2020-01-28_H12M03S22087345.zip\n",
      "2020-01-28 17:51:30,253 - src.csv_handlers - DEBUG - Found .csv file in zip, opening: All_Contracts_PrimeTransactions_2020-01-28_H12M03S22_1.csv\n",
      "2020-01-28 17:51:30,253 - src.csv_handlers - DEBUG - Reading file: <zipfile.ZipExtFile name='All_Contracts_PrimeTransactions_2020-01-28_H12M03S22_1.csv' mode='r' compress_type=deflate>\n"
     ]
    },
    {
     "name": "stdout",
     "output_type": "stream",
     "text": [
      "2020-01-28 17:51:39,045 - src.csv_handlers - DEBUG - Found .zip file: data_full/All_PrimeTransactions_2020-01-28_H12M03S54869455.zip\n",
      "2020-01-28 17:51:39,046 - src.csv_handlers - DEBUG - Found .csv file in zip, opening: All_Contracts_PrimeTransactions_2020-01-28_H12M03S54_1.csv\n",
      "2020-01-28 17:51:39,046 - src.csv_handlers - DEBUG - Reading file: <zipfile.ZipExtFile name='All_Contracts_PrimeTransactions_2020-01-28_H12M03S54_1.csv' mode='r' compress_type=deflate>\n",
      "2020-01-28 17:51:50,578 - src.csv_handlers - DEBUG - Found .zip file: data_full/All_PrimeTransactions_2020-01-28_H12M03S24652532.zip\n",
      "2020-01-28 17:51:50,580 - src.csv_handlers - DEBUG - Found .csv file in zip, opening: All_Contracts_PrimeTransactions_2020-01-28_H12M03S24_1.csv\n",
      "2020-01-28 17:51:50,581 - src.csv_handlers - DEBUG - Reading file: <zipfile.ZipExtFile name='All_Contracts_PrimeTransactions_2020-01-28_H12M03S24_1.csv' mode='r' compress_type=deflate>\n",
      "2020-01-28 17:51:57,732 - src.csv_handlers - DEBUG - Found .zip file: data_full/All_PrimeTransactions_2020-01-28_H12M03S10091740.zip\n",
      "2020-01-28 17:51:57,734 - src.csv_handlers - DEBUG - Found .csv file in zip, opening: All_Contracts_PrimeTransactions_2020-01-28_H12M03S10_1.csv\n",
      "2020-01-28 17:51:57,734 - src.csv_handlers - DEBUG - Reading file: <zipfile.ZipExtFile name='All_Contracts_PrimeTransactions_2020-01-28_H12M03S10_1.csv' mode='r' compress_type=deflate>\n",
      "2020-01-28 17:52:01,992 - src.csv_handlers - DEBUG - Found .zip file: data_full/All_PrimeTransactions_2020-01-28_H12M03S36556072.zip\n",
      "2020-01-28 17:52:01,998 - src.csv_handlers - DEBUG - Found .csv file in zip, opening: All_Contracts_PrimeTransactions_2020-01-28_H12M03S36_1.csv\n",
      "2020-01-28 17:52:01,999 - src.csv_handlers - DEBUG - Reading file: <zipfile.ZipExtFile name='All_Contracts_PrimeTransactions_2020-01-28_H12M03S36_1.csv' mode='r' compress_type=deflate>\n",
      "2020-01-28 17:52:10,301 - src.csv_handlers - DEBUG - Found .zip file: data_full/All_PrimeTransactions_2020-01-28_H12M03S39144705.zip\n",
      "2020-01-28 17:52:10,302 - src.csv_handlers - DEBUG - Found .csv file in zip, opening: All_Contracts_PrimeTransactions_2020-01-28_H12M03S39_1.csv\n",
      "2020-01-28 17:52:10,303 - src.csv_handlers - DEBUG - Reading file: <zipfile.ZipExtFile name='All_Contracts_PrimeTransactions_2020-01-28_H12M03S39_1.csv' mode='r' compress_type=deflate>\n",
      "2020-01-28 17:52:20,686 - src.csv_handlers - DEBUG - Found .zip file: data_full/All_PrimeTransactions_2020-01-28_H12M03S48925224.zip\n",
      "2020-01-28 17:52:20,693 - src.csv_handlers - DEBUG - Found .csv file in zip, opening: All_Contracts_PrimeTransactions_2020-01-28_H12M03S49_1.csv\n",
      "2020-01-28 17:52:20,694 - src.csv_handlers - DEBUG - Reading file: <zipfile.ZipExtFile name='All_Contracts_PrimeTransactions_2020-01-28_H12M03S49_1.csv' mode='r' compress_type=deflate>\n",
      "2020-01-28 17:52:29,762 - src.csv_handlers - DEBUG - Found .zip file: data_full/All_PrimeTransactions_2020-01-28_H12M03S20143901.zip\n",
      "2020-01-28 17:52:29,763 - src.csv_handlers - DEBUG - Found .csv file in zip, opening: All_Contracts_PrimeTransactions_2020-01-28_H12M03S20_1.csv\n",
      "2020-01-28 17:52:29,764 - src.csv_handlers - DEBUG - Reading file: <zipfile.ZipExtFile name='All_Contracts_PrimeTransactions_2020-01-28_H12M03S20_1.csv' mode='r' compress_type=deflate>\n",
      "2020-01-28 17:52:37,082 - src.csv_handlers - DEBUG - Found .zip file: data_full/All_PrimeTransactions_2020-01-28_H12M03S23141071.zip\n",
      "2020-01-28 17:52:37,088 - src.csv_handlers - DEBUG - Found .csv file in zip, opening: All_Contracts_PrimeTransactions_2020-01-28_H12M03S23_1.csv\n",
      "2020-01-28 17:52:37,090 - src.csv_handlers - DEBUG - Reading file: <zipfile.ZipExtFile name='All_Contracts_PrimeTransactions_2020-01-28_H12M03S23_1.csv' mode='r' compress_type=deflate>\n",
      "2020-01-28 17:52:44,906 - src.csv_handlers - DEBUG - Found .zip file: data_full/All_PrimeTransactions_2020-01-28_H12M04S12034866.zip\n",
      "2020-01-28 17:52:44,907 - src.csv_handlers - DEBUG - Found .csv file in zip, opening: All_Contracts_PrimeTransactions_2020-01-28_H12M04S12_1.csv\n",
      "2020-01-28 17:52:44,908 - src.csv_handlers - DEBUG - Reading file: <zipfile.ZipExtFile name='All_Contracts_PrimeTransactions_2020-01-28_H12M04S12_1.csv' mode='r' compress_type=deflate>\n",
      "2020-01-28 17:52:59,910 - src.csv_handlers - DEBUG - Found .zip file: data_full/All_PrimeTransactions_2020-01-28_H12M03S35609004.zip\n",
      "2020-01-28 17:52:59,916 - src.csv_handlers - DEBUG - Found .csv file in zip, opening: All_Contracts_PrimeTransactions_2020-01-28_H12M03S35_1.csv\n",
      "2020-01-28 17:52:59,918 - src.csv_handlers - DEBUG - Reading file: <zipfile.ZipExtFile name='All_Contracts_PrimeTransactions_2020-01-28_H12M03S35_1.csv' mode='r' compress_type=deflate>\n",
      "2020-01-28 17:53:09,158 - src.csv_handlers - DEBUG - Found .zip file: data_full/All_PrimeTransactions_2020-01-28_H12M03S30721152.zip\n",
      "2020-01-28 17:53:09,164 - src.csv_handlers - DEBUG - Found .csv file in zip, opening: All_Contracts_PrimeTransactions_2020-01-28_H12M03S30_1.csv\n",
      "2020-01-28 17:53:09,165 - src.csv_handlers - DEBUG - Reading file: <zipfile.ZipExtFile name='All_Contracts_PrimeTransactions_2020-01-28_H12M03S30_1.csv' mode='r' compress_type=deflate>\n",
      "2020-01-28 17:53:15,744 - src.csv_handlers - DEBUG - Found .zip file: data_full/All_PrimeTransactions_2020-01-28_H12M03S57365601.zip\n",
      "2020-01-28 17:53:15,750 - src.csv_handlers - DEBUG - Found .csv file in zip, opening: All_Contracts_PrimeTransactions_2020-01-28_H12M03S57_1.csv\n",
      "2020-01-28 17:53:15,751 - src.csv_handlers - DEBUG - Reading file: <zipfile.ZipExtFile name='All_Contracts_PrimeTransactions_2020-01-28_H12M03S57_1.csv' mode='r' compress_type=deflate>\n",
      "2020-01-28 17:53:27,066 - src.csv_handlers - DEBUG - Found .zip file: data_full/All_PrimeTransactions_2020-01-28_H12M03S29880392.zip\n",
      "2020-01-28 17:53:27,067 - src.csv_handlers - DEBUG - Found .csv file in zip, opening: All_Contracts_PrimeTransactions_2020-01-28_H12M03S29_1.csv\n",
      "2020-01-28 17:53:27,068 - src.csv_handlers - DEBUG - Reading file: <zipfile.ZipExtFile name='All_Contracts_PrimeTransactions_2020-01-28_H12M03S29_1.csv' mode='r' compress_type=deflate>\n",
      "2020-01-28 17:53:34,421 - src.csv_handlers - DEBUG - Found .zip file: data_full/All_PrimeTransactions_2020-01-28_H12M03S56547841.zip\n",
      "2020-01-28 17:53:34,423 - src.csv_handlers - DEBUG - Found .csv file in zip, opening: All_Contracts_PrimeTransactions_2020-01-28_H12M03S56_1.csv\n",
      "2020-01-28 17:53:34,423 - src.csv_handlers - DEBUG - Reading file: <zipfile.ZipExtFile name='All_Contracts_PrimeTransactions_2020-01-28_H12M03S56_1.csv' mode='r' compress_type=deflate>\n",
      "2020-01-28 17:53:45,617 - src.csv_handlers - DEBUG - Found .zip file: data_full/All_PrimeTransactions_2020-01-28_H12M03S55701318.zip\n",
      "2020-01-28 17:53:45,624 - src.csv_handlers - DEBUG - Found .csv file in zip, opening: All_Contracts_PrimeTransactions_2020-01-28_H12M03S55_1.csv\n",
      "2020-01-28 17:53:45,625 - src.csv_handlers - DEBUG - Reading file: <zipfile.ZipExtFile name='All_Contracts_PrimeTransactions_2020-01-28_H12M03S55_1.csv' mode='r' compress_type=deflate>\n",
      "2020-01-28 17:53:56,828 - src.csv_handlers - DEBUG - Found .zip file: data_full/All_PrimeTransactions_2020-01-28_H12M04S11214491.zip\n",
      "2020-01-28 17:53:56,834 - src.csv_handlers - DEBUG - Found .csv file in zip, opening: All_Contracts_PrimeTransactions_2020-01-28_H12M04S11_1.csv\n",
      "2020-01-28 17:53:56,835 - src.csv_handlers - DEBUG - Reading file: <zipfile.ZipExtFile name='All_Contracts_PrimeTransactions_2020-01-28_H12M04S11_1.csv' mode='r' compress_type=deflate>\n",
      "2020-01-28 17:54:10,482 - src.csv_handlers - DEBUG - Found .zip file: data_full/All_PrimeTransactions_2020-01-28_H12M03S33387434.zip\n",
      "2020-01-28 17:54:10,483 - src.csv_handlers - DEBUG - Found .csv file in zip, opening: All_Contracts_PrimeTransactions_2020-01-28_H12M03S33_1.csv\n",
      "2020-01-28 17:54:10,484 - src.csv_handlers - DEBUG - Reading file: <zipfile.ZipExtFile name='All_Contracts_PrimeTransactions_2020-01-28_H12M03S33_1.csv' mode='r' compress_type=deflate>\n",
      "2020-01-28 17:54:20,996 - src.csv_handlers - DEBUG - Found .zip file: data_full/All_PrimeTransactions_2020-01-28_H12M03S15943151.zip\n",
      "2020-01-28 17:54:21,003 - src.csv_handlers - DEBUG - Found .csv file in zip, opening: All_Contracts_PrimeTransactions_2020-01-28_H12M03S16_1.csv\n",
      "2020-01-28 17:54:21,004 - src.csv_handlers - DEBUG - Reading file: <zipfile.ZipExtFile name='All_Contracts_PrimeTransactions_2020-01-28_H12M03S16_1.csv' mode='r' compress_type=deflate>\n"
     ]
    },
    {
     "name": "stdout",
     "output_type": "stream",
     "text": [
      "2020-01-28 17:54:28,500 - src.csv_handlers - DEBUG - Found .zip file: data_full/All_PrimeTransactions_2020-01-28_H12M03S59004069.zip\n",
      "2020-01-28 17:54:28,506 - src.csv_handlers - DEBUG - Found .csv file in zip, opening: All_Contracts_PrimeTransactions_2020-01-28_H12M03S59_1.csv\n",
      "2020-01-28 17:54:28,507 - src.csv_handlers - DEBUG - Reading file: <zipfile.ZipExtFile name='All_Contracts_PrimeTransactions_2020-01-28_H12M03S59_1.csv' mode='r' compress_type=deflate>\n",
      "2020-01-28 17:54:38,682 - src.csv_handlers - DEBUG - Found .zip file: data_full/All_PrimeTransactions_2020-01-28_H12M03S17645999.zip\n",
      "2020-01-28 17:54:38,688 - src.csv_handlers - DEBUG - Found .csv file in zip, opening: All_Contracts_PrimeTransactions_2020-01-28_H12M03S17_1.csv\n",
      "2020-01-28 17:54:38,689 - src.csv_handlers - DEBUG - Reading file: <zipfile.ZipExtFile name='All_Contracts_PrimeTransactions_2020-01-28_H12M03S17_1.csv' mode='r' compress_type=deflate>\n",
      "2020-01-28 17:54:48,640 - src.csv_handlers - DEBUG - Found .zip file: data_full/All_PrimeTransactions_2020-01-28_H12M04S16596313.zip\n",
      "2020-01-28 17:54:48,641 - src.csv_handlers - DEBUG - Found .csv file in zip, opening: All_Contracts_PrimeTransactions_2020-01-28_H12M04S16_1.csv\n",
      "2020-01-28 17:54:48,642 - src.csv_handlers - DEBUG - Reading file: <zipfile.ZipExtFile name='All_Contracts_PrimeTransactions_2020-01-28_H12M04S16_1.csv' mode='r' compress_type=deflate>\n",
      "2020-01-28 17:54:50,321 - src.csv_handlers - DEBUG - Found .zip file: data_full/All_PrimeTransactions_2020-01-28_H12M04S08367263.zip\n",
      "2020-01-28 17:54:50,323 - src.csv_handlers - DEBUG - Found .csv file in zip, opening: All_Contracts_PrimeTransactions_2020-01-28_H12M04S08_1.csv\n",
      "2020-01-28 17:54:50,324 - src.csv_handlers - DEBUG - Reading file: <zipfile.ZipExtFile name='All_Contracts_PrimeTransactions_2020-01-28_H12M04S08_1.csv' mode='r' compress_type=deflate>\n",
      "2020-01-28 17:55:03,323 - src.csv_handlers - DEBUG - Found .zip file: data_full/All_PrimeTransactions_2020-01-28_H12M03S45504291.zip\n",
      "2020-01-28 17:55:03,329 - src.csv_handlers - DEBUG - Found .csv file in zip, opening: All_Contracts_PrimeTransactions_2020-01-28_H12M03S45_1.csv\n",
      "2020-01-28 17:55:03,330 - src.csv_handlers - DEBUG - Reading file: <zipfile.ZipExtFile name='All_Contracts_PrimeTransactions_2020-01-28_H12M03S45_1.csv' mode='r' compress_type=deflate>\n",
      "2020-01-28 17:55:13,525 - src.csv_handlers - DEBUG - Found .zip file: data_full/All_PrimeTransactions_2020-01-28_H12M03S41090722.zip\n",
      "2020-01-28 17:55:13,526 - src.csv_handlers - DEBUG - Found .csv file in zip, opening: All_Contracts_PrimeTransactions_2020-01-28_H12M03S41_1.csv\n",
      "2020-01-28 17:55:13,527 - src.csv_handlers - DEBUG - Reading file: <zipfile.ZipExtFile name='All_Contracts_PrimeTransactions_2020-01-28_H12M03S41_1.csv' mode='r' compress_type=deflate>\n",
      "2020-01-28 17:55:22,379 - src.csv_handlers - DEBUG - Found .zip file: data_full/All_PrimeTransactions_2020-01-28_H12M03S49775472.zip\n",
      "2020-01-28 17:55:22,385 - src.csv_handlers - DEBUG - Found .csv file in zip, opening: All_Contracts_PrimeTransactions_2020-01-28_H12M03S49_1.csv\n",
      "2020-01-28 17:55:22,387 - src.csv_handlers - DEBUG - Reading file: <zipfile.ZipExtFile name='All_Contracts_PrimeTransactions_2020-01-28_H12M03S49_1.csv' mode='r' compress_type=deflate>\n",
      "2020-01-28 17:55:34,232 - src.csv_handlers - DEBUG - Found .zip file: data_full/All_PrimeTransactions_2020-01-28_H12M03S51494324.zip\n",
      "2020-01-28 17:55:34,234 - src.csv_handlers - DEBUG - Found .csv file in zip, opening: All_Contracts_PrimeTransactions_2020-01-28_H12M03S51_1.csv\n",
      "2020-01-28 17:55:34,235 - src.csv_handlers - DEBUG - Reading file: <zipfile.ZipExtFile name='All_Contracts_PrimeTransactions_2020-01-28_H12M03S51_1.csv' mode='r' compress_type=deflate>\n",
      "2020-01-28 17:55:46,765 - src.csv_handlers - DEBUG - Found .zip file: data_full/All_PrimeTransactions_2020-01-28_H12M03S27213448.zip\n",
      "2020-01-28 17:55:46,771 - src.csv_handlers - DEBUG - Found .csv file in zip, opening: All_Contracts_PrimeTransactions_2020-01-28_H12M03S27_1.csv\n",
      "2020-01-28 17:55:46,772 - src.csv_handlers - DEBUG - Reading file: <zipfile.ZipExtFile name='All_Contracts_PrimeTransactions_2020-01-28_H12M03S27_1.csv' mode='r' compress_type=deflate>\n",
      "2020-01-28 17:55:57,285 - src.csv_handlers - DEBUG - Found .zip file: data_full/All_PrimeTransactions_2020-01-28_H12M03S54033820.zip\n",
      "2020-01-28 17:55:57,292 - src.csv_handlers - DEBUG - Found .csv file in zip, opening: All_Contracts_PrimeTransactions_2020-01-28_H12M03S54_1.csv\n",
      "2020-01-28 17:55:57,294 - src.csv_handlers - DEBUG - Reading file: <zipfile.ZipExtFile name='All_Contracts_PrimeTransactions_2020-01-28_H12M03S54_1.csv' mode='r' compress_type=deflate>\n",
      "2020-01-28 17:56:06,523 - src.csv_handlers - DEBUG - Found .zip file: data_full/All_PrimeTransactions_2020-01-28_H12M03S42754484.zip\n",
      "2020-01-28 17:56:06,530 - src.csv_handlers - DEBUG - Found .csv file in zip, opening: All_Contracts_PrimeTransactions_2020-01-28_H12M03S43_1.csv\n",
      "2020-01-28 17:56:06,532 - src.csv_handlers - DEBUG - Reading file: <zipfile.ZipExtFile name='All_Contracts_PrimeTransactions_2020-01-28_H12M03S43_1.csv' mode='r' compress_type=deflate>\n",
      "2020-01-28 17:56:13,995 - src.csv_handlers - DEBUG - Found .zip file: data_full/All_PrimeTransactions_2020-01-28_H12M03S31586065.zip\n",
      "2020-01-28 17:56:14,001 - src.csv_handlers - DEBUG - Found .csv file in zip, opening: All_Contracts_PrimeTransactions_2020-01-28_H12M03S31_1.csv\n",
      "2020-01-28 17:56:14,002 - src.csv_handlers - DEBUG - Reading file: <zipfile.ZipExtFile name='All_Contracts_PrimeTransactions_2020-01-28_H12M03S31_1.csv' mode='r' compress_type=deflate>\n",
      "2020-01-28 17:56:21,707 - src.csv_handlers - DEBUG - Found .zip file: data_full/All_PrimeTransactions_2020-01-28_H12M03S32536378.zip\n",
      "2020-01-28 17:56:21,714 - src.csv_handlers - DEBUG - Found .csv file in zip, opening: All_Contracts_PrimeTransactions_2020-01-28_H12M03S32_1.csv\n",
      "2020-01-28 17:56:21,715 - src.csv_handlers - DEBUG - Reading file: <zipfile.ZipExtFile name='All_Contracts_PrimeTransactions_2020-01-28_H12M03S32_1.csv' mode='r' compress_type=deflate>\n",
      "2020-01-28 17:56:31,658 - src.csv_handlers - DEBUG - Found .zip file: data_full/All_PrimeTransactions_2020-01-28_H12M04S04167726.zip\n",
      "2020-01-28 17:56:31,664 - src.csv_handlers - DEBUG - Found .csv file in zip, opening: All_Contracts_PrimeTransactions_2020-01-28_H12M04S04_1.csv\n",
      "2020-01-28 17:56:31,666 - src.csv_handlers - DEBUG - Reading file: <zipfile.ZipExtFile name='All_Contracts_PrimeTransactions_2020-01-28_H12M04S04_1.csv' mode='r' compress_type=deflate>\n",
      "2020-01-28 17:56:41,972 - src.csv_handlers - DEBUG - Found .zip file: data_full/All_PrimeTransactions_2020-01-28_H12M03S34249848.zip\n",
      "2020-01-28 17:56:41,978 - src.csv_handlers - DEBUG - Found .csv file in zip, opening: All_Contracts_PrimeTransactions_2020-01-28_H12M03S34_1.csv\n",
      "2020-01-28 17:56:41,979 - src.csv_handlers - DEBUG - Reading file: <zipfile.ZipExtFile name='All_Contracts_PrimeTransactions_2020-01-28_H12M03S34_1.csv' mode='r' compress_type=deflate>\n",
      "2020-01-28 17:56:52,209 - src.csv_handlers - DEBUG - Found .zip file: data_full/All_PrimeTransactions_2020-01-28_H12M03S52338111.zip\n",
      "2020-01-28 17:56:52,215 - src.csv_handlers - DEBUG - Found .csv file in zip, opening: All_Contracts_PrimeTransactions_2020-01-28_H12M03S52_1.csv\n",
      "2020-01-28 17:56:52,217 - src.csv_handlers - DEBUG - Reading file: <zipfile.ZipExtFile name='All_Contracts_PrimeTransactions_2020-01-28_H12M03S52_1.csv' mode='r' compress_type=deflate>\n",
      "2020-01-28 17:57:03,158 - src.csv_handlers - DEBUG - Found .zip file: data_full/All_PrimeTransactions_2020-01-28_H12M03S58204510.zip\n",
      "2020-01-28 17:57:03,164 - src.csv_handlers - DEBUG - Found .csv file in zip, opening: All_Contracts_PrimeTransactions_2020-01-28_H12M03S58_1.csv\n",
      "2020-01-28 17:57:03,165 - src.csv_handlers - DEBUG - Reading file: <zipfile.ZipExtFile name='All_Contracts_PrimeTransactions_2020-01-28_H12M03S58_1.csv' mode='r' compress_type=deflate>\n",
      "2020-01-28 17:57:14,234 - src.csv_handlers - DEBUG - Found .zip file: data_full/All_PrimeTransactions_2020-01-28_H12M03S50622328.zip\n",
      "2020-01-28 17:57:14,240 - src.csv_handlers - DEBUG - Found .csv file in zip, opening: All_Contracts_PrimeTransactions_2020-01-28_H12M03S50_1.csv\n",
      "2020-01-28 17:57:14,242 - src.csv_handlers - DEBUG - Reading file: <zipfile.ZipExtFile name='All_Contracts_PrimeTransactions_2020-01-28_H12M03S50_1.csv' mode='r' compress_type=deflate>\n"
     ]
    },
    {
     "name": "stdout",
     "output_type": "stream",
     "text": [
      "2020-01-28 17:57:26,474 - src.csv_handlers - DEBUG - Found .zip file: data_full/All_PrimeTransactions_2020-01-28_H12M03S46425494.zip\n",
      "2020-01-28 17:57:26,481 - src.csv_handlers - DEBUG - Found .csv file in zip, opening: All_Contracts_PrimeTransactions_2020-01-28_H12M03S46_1.csv\n",
      "2020-01-28 17:57:26,482 - src.csv_handlers - DEBUG - Reading file: <zipfile.ZipExtFile name='All_Contracts_PrimeTransactions_2020-01-28_H12M03S46_1.csv' mode='r' compress_type=deflate>\n",
      "2020-01-28 17:57:36,596 - src.csv_handlers - DEBUG - Found .zip file: data_full/All_PrimeTransactions_2020-01-28_H12M03S11768174.zip\n",
      "2020-01-28 17:57:36,602 - src.csv_handlers - DEBUG - Found .csv file in zip, opening: All_Contracts_PrimeTransactions_2020-01-28_H12M03S11_1.csv\n",
      "2020-01-28 17:57:36,603 - src.csv_handlers - DEBUG - Reading file: <zipfile.ZipExtFile name='All_Contracts_PrimeTransactions_2020-01-28_H12M03S11_1.csv' mode='r' compress_type=deflate>\n",
      "2020-01-28 17:57:41,543 - src.csv_handlers - DEBUG - Found .zip file: data_full/All_PrimeTransactions_2020-01-28_H12M04S06688329.zip\n",
      "2020-01-28 17:57:41,549 - src.csv_handlers - DEBUG - Found .csv file in zip, opening: All_Contracts_PrimeTransactions_2020-01-28_H12M04S06_1.csv\n",
      "2020-01-28 17:57:41,550 - src.csv_handlers - DEBUG - Reading file: <zipfile.ZipExtFile name='All_Contracts_PrimeTransactions_2020-01-28_H12M04S06_1.csv' mode='r' compress_type=deflate>\n",
      "2020-01-28 17:57:55,980 - src.csv_handlers - DEBUG - Found .zip file: data_full/All_PrimeTransactions_2020-01-28_H12M04S10374745.zip\n",
      "2020-01-28 17:57:55,986 - src.csv_handlers - DEBUG - Found .csv file in zip, opening: All_Contracts_PrimeTransactions_2020-01-28_H12M04S10_1.csv\n",
      "2020-01-28 17:57:55,987 - src.csv_handlers - DEBUG - Reading file: <zipfile.ZipExtFile name='All_Contracts_PrimeTransactions_2020-01-28_H12M04S10_1.csv' mode='r' compress_type=deflate>\n",
      "2020-01-28 17:58:07,471 - src.csv_handlers - DEBUG - Found .zip file: data_full/All_PrimeTransactions_2020-01-28_H12M04S00685241.zip\n",
      "2020-01-28 17:58:07,478 - src.csv_handlers - DEBUG - Found .csv file in zip, opening: All_Contracts_PrimeTransactions_2020-01-28_H12M04S00_1.csv\n",
      "2020-01-28 17:58:07,479 - src.csv_handlers - DEBUG - Reading file: <zipfile.ZipExtFile name='All_Contracts_PrimeTransactions_2020-01-28_H12M04S00_1.csv' mode='r' compress_type=deflate>\n",
      "2020-01-28 17:58:20,711 - src.csv_handlers - DEBUG - Found .zip file: data_full/All_PrimeTransactions_2020-01-28_H12M03S21153111.zip\n",
      "2020-01-28 17:58:20,718 - src.csv_handlers - DEBUG - Found .csv file in zip, opening: All_Contracts_PrimeTransactions_2020-01-28_H12M03S21_1.csv\n",
      "2020-01-28 17:58:20,719 - src.csv_handlers - DEBUG - Reading file: <zipfile.ZipExtFile name='All_Contracts_PrimeTransactions_2020-01-28_H12M03S21_1.csv' mode='r' compress_type=deflate>\n",
      "2020-01-28 17:58:29,555 - src.csv_handlers - DEBUG - Found .zip file: data_full/All_PrimeTransactions_2020-01-28_H12M03S12603584.zip\n",
      "2020-01-28 17:58:29,560 - src.csv_handlers - DEBUG - Found .csv file in zip, opening: All_Contracts_PrimeTransactions_2020-01-28_H12M03S12_1.csv\n",
      "2020-01-28 17:58:29,563 - src.csv_handlers - DEBUG - Reading file: <zipfile.ZipExtFile name='All_Contracts_PrimeTransactions_2020-01-28_H12M03S12_1.csv' mode='r' compress_type=deflate>\n",
      "2020-01-28 17:58:34,380 - src.csv_handlers - DEBUG - Found .zip file: data_full/All_PrimeTransactions_2020-01-28_H11M59S05632027.zip\n",
      "2020-01-28 17:58:34,386 - src.csv_handlers - DEBUG - Found .csv file in zip, opening: All_Contracts_PrimeTransactions_2020-01-28_H11M59S06_1.csv\n",
      "2020-01-28 17:58:34,387 - src.csv_handlers - DEBUG - Reading file: <zipfile.ZipExtFile name='All_Contracts_PrimeTransactions_2020-01-28_H11M59S06_1.csv' mode='r' compress_type=deflate>\n",
      "2020-01-28 17:58:38,293 - src.csv_handlers - DEBUG - Found .zip file: data_full/All_PrimeTransactions_2020-01-28_H12M03S47268722.zip\n",
      "2020-01-28 17:58:38,297 - src.csv_handlers - DEBUG - Found .csv file in zip, opening: All_Contracts_PrimeTransactions_2020-01-28_H12M03S47_1.csv\n",
      "2020-01-28 17:58:38,300 - src.csv_handlers - DEBUG - Reading file: <zipfile.ZipExtFile name='All_Contracts_PrimeTransactions_2020-01-28_H12M03S47_1.csv' mode='r' compress_type=deflate>\n",
      "2020-01-28 17:58:50,306 - src.csv_handlers - DEBUG - Found .zip file: data_full/All_PrimeTransactions_2020-01-28_H12M04S15763571.zip\n",
      "2020-01-28 17:58:50,313 - src.csv_handlers - DEBUG - Found .csv file in zip, opening: All_Contracts_PrimeTransactions_2020-01-28_H12M04S15_1.csv\n",
      "2020-01-28 17:58:50,314 - src.csv_handlers - DEBUG - Reading file: <zipfile.ZipExtFile name='All_Contracts_PrimeTransactions_2020-01-28_H12M04S15_1.csv' mode='r' compress_type=deflate>\n",
      "2020-01-28 17:58:53,735 - src.csv_handlers - DEBUG - Found .zip file: data_full/All_PrimeTransactions_2020-01-28_H12M03S41906613.zip\n",
      "2020-01-28 17:58:53,742 - src.csv_handlers - DEBUG - Found .csv file in zip, opening: All_Contracts_PrimeTransactions_2020-01-28_H12M03S42_1.csv\n",
      "2020-01-28 17:58:53,743 - src.csv_handlers - DEBUG - Reading file: <zipfile.ZipExtFile name='All_Contracts_PrimeTransactions_2020-01-28_H12M03S42_1.csv' mode='r' compress_type=deflate>\n",
      "2020-01-28 17:59:01,292 - src.csv_handlers - DEBUG - Found .zip file: data_full/All_PrimeTransactions_2020-01-28_H12M04S14903577.zip\n",
      "2020-01-28 17:59:01,298 - src.csv_handlers - DEBUG - Found .csv file in zip, opening: All_Contracts_PrimeTransactions_2020-01-28_H12M04S14_1.csv\n",
      "2020-01-28 17:59:01,299 - src.csv_handlers - DEBUG - Reading file: <zipfile.ZipExtFile name='All_Contracts_PrimeTransactions_2020-01-28_H12M04S14_1.csv' mode='r' compress_type=deflate>\n",
      "2020-01-28 17:59:07,238 - src.csv_handlers - DEBUG - Found .zip file: data_full/All_PrimeTransactions_2020-01-28_H12M03S26383517.zip\n",
      "2020-01-28 17:59:07,245 - src.csv_handlers - DEBUG - Found .csv file in zip, opening: All_Contracts_PrimeTransactions_2020-01-28_H12M03S26_1.csv\n",
      "2020-01-28 17:59:07,246 - src.csv_handlers - DEBUG - Reading file: <zipfile.ZipExtFile name='All_Contracts_PrimeTransactions_2020-01-28_H12M03S26_1.csv' mode='r' compress_type=deflate>\n",
      "2020-01-28 17:59:16,515 - src.csv_handlers - DEBUG - Found .zip file: data_full/All_PrimeTransactions_2020-01-28_H12M03S59855808.zip\n",
      "2020-01-28 17:59:16,522 - src.csv_handlers - DEBUG - Found .csv file in zip, opening: All_Contracts_PrimeTransactions_2020-01-28_H12M03S59_1.csv\n",
      "2020-01-28 17:59:16,524 - src.csv_handlers - DEBUG - Reading file: <zipfile.ZipExtFile name='All_Contracts_PrimeTransactions_2020-01-28_H12M03S59_1.csv' mode='r' compress_type=deflate>\n",
      "2020-01-28 17:59:28,059 - src.csv_handlers - DEBUG - Found .zip file: data_full/All_PrimeTransactions_2020-01-28_H12M03S40098596.zip\n",
      "2020-01-28 17:59:28,065 - src.csv_handlers - DEBUG - Found .csv file in zip, opening: All_Contracts_PrimeTransactions_2020-01-28_H12M03S40_1.csv\n",
      "2020-01-28 17:59:28,066 - src.csv_handlers - DEBUG - Reading file: <zipfile.ZipExtFile name='All_Contracts_PrimeTransactions_2020-01-28_H12M03S40_1.csv' mode='r' compress_type=deflate>\n",
      "2020-01-28 17:59:40,920 - src.csv_handlers - DEBUG - Found .zip file: data_full/All_PrimeTransactions_2020-01-28_H12M03S14286553.zip\n",
      "2020-01-28 17:59:40,927 - src.csv_handlers - DEBUG - Found .csv file in zip, opening: All_Contracts_PrimeTransactions_2020-01-28_H12M03S14_1.csv\n",
      "2020-01-28 17:59:40,928 - src.csv_handlers - DEBUG - Reading file: <zipfile.ZipExtFile name='All_Contracts_PrimeTransactions_2020-01-28_H12M03S14_1.csv' mode='r' compress_type=deflate>\n",
      "2020-01-28 17:59:46,103 - src.csv_handlers - DEBUG - Found .zip file: data_full/All_PrimeTransactions_2020-01-28_H12M03S10931592.zip\n",
      "2020-01-28 17:59:46,109 - src.csv_handlers - DEBUG - Found .csv file in zip, opening: All_Contracts_PrimeTransactions_2020-01-28_H12M03S11_1.csv\n",
      "2020-01-28 17:59:46,110 - src.csv_handlers - DEBUG - Reading file: <zipfile.ZipExtFile name='All_Contracts_PrimeTransactions_2020-01-28_H12M03S11_1.csv' mode='r' compress_type=deflate>\n",
      "2020-01-28 17:59:51,799 - src.csv_handlers - DEBUG - Found .zip file: data_full/All_PrimeTransactions_2020-01-28_H12M04S09556579.zip\n",
      "2020-01-28 17:59:51,803 - src.csv_handlers - DEBUG - Found .csv file in zip, opening: All_Contracts_PrimeTransactions_2020-01-28_H12M04S09_1.csv\n",
      "2020-01-28 17:59:51,804 - src.csv_handlers - DEBUG - Reading file: <zipfile.ZipExtFile name='All_Contracts_PrimeTransactions_2020-01-28_H12M04S09_1.csv' mode='r' compress_type=deflate>\n"
     ]
    },
    {
     "name": "stdout",
     "output_type": "stream",
     "text": [
      "2020-01-28 18:00:03,204 - src.csv_handlers - DEBUG - Found .zip file: data_full/All_PrimeTransactions_2020-01-28_H12M03S53210885.zip\n",
      "2020-01-28 18:00:03,206 - src.csv_handlers - DEBUG - Found .csv file in zip, opening: All_Contracts_PrimeTransactions_2020-01-28_H12M03S53_1.csv\n",
      "2020-01-28 18:00:03,207 - src.csv_handlers - DEBUG - Reading file: <zipfile.ZipExtFile name='All_Contracts_PrimeTransactions_2020-01-28_H12M03S53_1.csv' mode='r' compress_type=deflate>\n",
      "2020-01-28 18:00:13,740 - src.csv_handlers - DEBUG - Found .zip file: data_full/All_PrimeTransactions_2020-01-28_H12M03S16805382.zip\n",
      "2020-01-28 18:00:13,746 - src.csv_handlers - DEBUG - Found .csv file in zip, opening: All_Contracts_PrimeTransactions_2020-01-28_H12M03S16_1.csv\n",
      "2020-01-28 18:00:13,747 - src.csv_handlers - DEBUG - Reading file: <zipfile.ZipExtFile name='All_Contracts_PrimeTransactions_2020-01-28_H12M03S16_1.csv' mode='r' compress_type=deflate>\n",
      "2020-01-28 18:00:22,411 - src.csv_handlers - DEBUG - Found .zip file: data_full/All_PrimeTransactions_2020-01-28_H12M03S19305128.zip\n",
      "2020-01-28 18:00:22,417 - src.csv_handlers - DEBUG - Found .csv file in zip, opening: All_Contracts_PrimeTransactions_2020-01-28_H12M03S19_1.csv\n",
      "2020-01-28 18:00:22,418 - src.csv_handlers - DEBUG - Reading file: <zipfile.ZipExtFile name='All_Contracts_PrimeTransactions_2020-01-28_H12M03S19_1.csv' mode='r' compress_type=deflate>\n",
      "2020-01-28 18:00:28,325 - src.csv_handlers - DEBUG - Found .zip file: data_full/All_PrimeTransactions_2020-01-28_H12M03S48084359.zip\n",
      "2020-01-28 18:00:28,331 - src.csv_handlers - DEBUG - Found .csv file in zip, opening: All_Contracts_PrimeTransactions_2020-01-28_H12M03S48_1.csv\n",
      "2020-01-28 18:00:28,332 - src.csv_handlers - DEBUG - Reading file: <zipfile.ZipExtFile name='All_Contracts_PrimeTransactions_2020-01-28_H12M03S48_1.csv' mode='r' compress_type=deflate>\n",
      "Index(['recipient_duns', 'recipient_name', 'recipient_doing_business_as_name',\n",
      "       'recipient_parent_duns', 'recipient_parent_name',\n",
      "       'recipient_country_code', 'recipient_country_name',\n",
      "       'recipient_address_line_1', 'recipient_address_line_2',\n",
      "       'recipient_city_name', 'recipient_state_code', 'recipient_state_name',\n",
      "       'recipient_zip_4_code', 'recipient_congressional_district',\n",
      "       'recipient_phone_number', 'recipient_fax_number', 'recipient_count'],\n",
      "      dtype='object')\n"
     ]
    }
   ],
   "source": [
    "csv_handlers.extract_all_recipients(\"data_full\")"
   ]
  },
  {
   "cell_type": "code",
   "execution_count": 4,
   "metadata": {},
   "outputs": [
    {
     "name": "stdout",
     "output_type": "stream",
     "text": [
      "2020-01-28 18:05:54,317 - src.csv_handlers - DEBUG - Reading file: data_full/all_recipients.csv\n"
     ]
    }
   ],
   "source": [
    "df = csv_handlers.get_recipient_data_from_csv(\"data_full/all_recipients.csv\")"
   ]
  },
  {
   "cell_type": "code",
   "execution_count": 6,
   "metadata": {},
   "outputs": [
    {
     "data": {
      "text/html": [
       "<div>\n",
       "<style scoped>\n",
       "    .dataframe tbody tr th:only-of-type {\n",
       "        vertical-align: middle;\n",
       "    }\n",
       "\n",
       "    .dataframe tbody tr th {\n",
       "        vertical-align: top;\n",
       "    }\n",
       "\n",
       "    .dataframe thead th {\n",
       "        text-align: right;\n",
       "    }\n",
       "</style>\n",
       "<table border=\"1\" class=\"dataframe\">\n",
       "  <thead>\n",
       "    <tr style=\"text-align: right;\">\n",
       "      <th></th>\n",
       "      <th>recipient_duns</th>\n",
       "      <th>recipient_name</th>\n",
       "      <th>recipient_doing_business_as_name</th>\n",
       "      <th>recipient_parent_duns</th>\n",
       "      <th>recipient_parent_name</th>\n",
       "      <th>recipient_country_code</th>\n",
       "      <th>recipient_country_name</th>\n",
       "      <th>recipient_address_line_1</th>\n",
       "      <th>recipient_address_line_2</th>\n",
       "      <th>recipient_city_name</th>\n",
       "      <th>recipient_state_code</th>\n",
       "      <th>recipient_state_name</th>\n",
       "      <th>recipient_zip_4_code</th>\n",
       "      <th>recipient_congressional_district</th>\n",
       "      <th>recipient_phone_number</th>\n",
       "      <th>recipient_fax_number</th>\n",
       "      <th>recipient_count</th>\n",
       "    </tr>\n",
       "  </thead>\n",
       "  <tbody>\n",
       "    <tr>\n",
       "      <th>0</th>\n",
       "      <td>7914906</td>\n",
       "      <td>AMERISOURCEBERGEN DRUG CORPORATION</td>\n",
       "      <td>NaN</td>\n",
       "      <td>39277590.0</td>\n",
       "      <td>AMERISOURCEBERGEN CORPORATION</td>\n",
       "      <td>USA</td>\n",
       "      <td>UNITED STATES</td>\n",
       "      <td>1300 MORRIS DR STE 100</td>\n",
       "      <td>NaN</td>\n",
       "      <td>CHESTERBROOK</td>\n",
       "      <td>PA</td>\n",
       "      <td>PENNSYLVANIA</td>\n",
       "      <td>190875559</td>\n",
       "      <td>6.0</td>\n",
       "      <td>8002708464</td>\n",
       "      <td>8045531040</td>\n",
       "      <td>1464793</td>\n",
       "    </tr>\n",
       "    <tr>\n",
       "      <th>1</th>\n",
       "      <td>961027315</td>\n",
       "      <td>CARDINAL HEALTH 200, LLC</td>\n",
       "      <td>NaN</td>\n",
       "      <td>97537435.0</td>\n",
       "      <td>CARDINAL HEALTH  INC.</td>\n",
       "      <td>USA</td>\n",
       "      <td>UNITED STATES</td>\n",
       "      <td>3651 BIRCHWOOD DR</td>\n",
       "      <td>NaN</td>\n",
       "      <td>WAUKEGAN</td>\n",
       "      <td>IL</td>\n",
       "      <td>ILLINOIS</td>\n",
       "      <td>600858337</td>\n",
       "      <td>10.0</td>\n",
       "      <td>8477854883</td>\n",
       "      <td>NaN</td>\n",
       "      <td>795729</td>\n",
       "    </tr>\n",
       "    <tr>\n",
       "      <th>2</th>\n",
       "      <td>961027315</td>\n",
       "      <td>CARDINAL HEALTH 200, LLC</td>\n",
       "      <td>NaN</td>\n",
       "      <td>97537435.0</td>\n",
       "      <td>CARDINAL HEALTH  INC.</td>\n",
       "      <td>USA</td>\n",
       "      <td>UNITED STATES</td>\n",
       "      <td>1430 WAUKEGAN RD</td>\n",
       "      <td>NaN</td>\n",
       "      <td>WAUKEGAN</td>\n",
       "      <td>IL</td>\n",
       "      <td>ILLINOIS</td>\n",
       "      <td>600856726</td>\n",
       "      <td>10.0</td>\n",
       "      <td>8478876146</td>\n",
       "      <td>6144955630</td>\n",
       "      <td>484305</td>\n",
       "    </tr>\n",
       "    <tr>\n",
       "      <th>3</th>\n",
       "      <td>148983229</td>\n",
       "      <td>SCIENCE APPLICATIONS INTERNATIONAL CORPORATION</td>\n",
       "      <td>NaN</td>\n",
       "      <td>78745061.0</td>\n",
       "      <td>SCIENCE APPLICATIONS INTERNATIONAL CORPORATION</td>\n",
       "      <td>USA</td>\n",
       "      <td>UNITED STATES</td>\n",
       "      <td>155 PASSAIC AVE</td>\n",
       "      <td>NaN</td>\n",
       "      <td>FAIRFIELD</td>\n",
       "      <td>NJ</td>\n",
       "      <td>NEW JERSEY</td>\n",
       "      <td>070043561</td>\n",
       "      <td>11.0</td>\n",
       "      <td>9738084792</td>\n",
       "      <td>NaN</td>\n",
       "      <td>457627</td>\n",
       "    </tr>\n",
       "    <tr>\n",
       "      <th>4</th>\n",
       "      <td>7941230</td>\n",
       "      <td>OWENS &amp; MINOR DISTRIBUTION, INC.</td>\n",
       "      <td>NaN</td>\n",
       "      <td>847412269.0</td>\n",
       "      <td>OWENS &amp; MINOR  INC.</td>\n",
       "      <td>USA</td>\n",
       "      <td>UNITED STATES</td>\n",
       "      <td>9120 LOCKWOOD BLVD</td>\n",
       "      <td>NaN</td>\n",
       "      <td>MECHANICSVILLE</td>\n",
       "      <td>VA</td>\n",
       "      <td>VIRGINIA</td>\n",
       "      <td>231162015</td>\n",
       "      <td>1.0</td>\n",
       "      <td>8047237897</td>\n",
       "      <td>8047237108</td>\n",
       "      <td>396665</td>\n",
       "    </tr>\n",
       "    <tr>\n",
       "      <th>5</th>\n",
       "      <td>116057019</td>\n",
       "      <td>SUPPLYCORE INC.</td>\n",
       "      <td>NaN</td>\n",
       "      <td>116057019.0</td>\n",
       "      <td>SUPPLYCORE INC.</td>\n",
       "      <td>USA</td>\n",
       "      <td>UNITED STATES</td>\n",
       "      <td>303 N MAIN ST STE 800</td>\n",
       "      <td>NaN</td>\n",
       "      <td>ROCKFORD</td>\n",
       "      <td>IL</td>\n",
       "      <td>ILLINOIS</td>\n",
       "      <td>611011199</td>\n",
       "      <td>17.0</td>\n",
       "      <td>8159971633</td>\n",
       "      <td>8159975033</td>\n",
       "      <td>357518</td>\n",
       "    </tr>\n",
       "    <tr>\n",
       "      <th>6</th>\n",
       "      <td>12430880</td>\n",
       "      <td>HENRY SCHEIN, INC.</td>\n",
       "      <td>NaN</td>\n",
       "      <td>12430880.0</td>\n",
       "      <td>HENRY SCHEIN  INC.</td>\n",
       "      <td>USA</td>\n",
       "      <td>UNITED STATES</td>\n",
       "      <td>135 DURYEA RD</td>\n",
       "      <td>NaN</td>\n",
       "      <td>MELVILLE</td>\n",
       "      <td>NY</td>\n",
       "      <td>NEW YORK</td>\n",
       "      <td>117473824</td>\n",
       "      <td>3.0</td>\n",
       "      <td>8008510400</td>\n",
       "      <td>6313908171</td>\n",
       "      <td>209560</td>\n",
       "    </tr>\n",
       "    <tr>\n",
       "      <th>7</th>\n",
       "      <td>105919864</td>\n",
       "      <td>MCKESSON CORPORATION</td>\n",
       "      <td>NaN</td>\n",
       "      <td>177667227.0</td>\n",
       "      <td>MCKESSON CORPORATION</td>\n",
       "      <td>USA</td>\n",
       "      <td>UNITED STATES</td>\n",
       "      <td>3775 SEAPORT BLVD</td>\n",
       "      <td>NaN</td>\n",
       "      <td>WEST SACRAMENTO</td>\n",
       "      <td>CA</td>\n",
       "      <td>CALIFORNIA</td>\n",
       "      <td>956913558</td>\n",
       "      <td>6.0</td>\n",
       "      <td>9724464947</td>\n",
       "      <td>9724465337</td>\n",
       "      <td>178770</td>\n",
       "    </tr>\n",
       "    <tr>\n",
       "      <th>8</th>\n",
       "      <td>75553560</td>\n",
       "      <td>EASTERN CAROLINA VOCATIONAL CENTER, INC.</td>\n",
       "      <td>NaN</td>\n",
       "      <td>75553560.0</td>\n",
       "      <td>EASTERN CAROLINA VOCATIONAL CENTER  INC.</td>\n",
       "      <td>USA</td>\n",
       "      <td>UNITED STATES</td>\n",
       "      <td>2100 N GREENE ST</td>\n",
       "      <td>NaN</td>\n",
       "      <td>GREENVILLE</td>\n",
       "      <td>NC</td>\n",
       "      <td>NORTH CAROLINA</td>\n",
       "      <td>278349050</td>\n",
       "      <td>1.0</td>\n",
       "      <td>2527584188</td>\n",
       "      <td>2528301260</td>\n",
       "      <td>175653</td>\n",
       "    </tr>\n",
       "    <tr>\n",
       "      <th>9</th>\n",
       "      <td>848028494</td>\n",
       "      <td>LOCKHEED MARTIN CORPORATION</td>\n",
       "      <td>NaN</td>\n",
       "      <td>834951691.0</td>\n",
       "      <td>LOCKHEED MARTIN CORPORATION</td>\n",
       "      <td>USA</td>\n",
       "      <td>UNITED STATES</td>\n",
       "      <td>199 BORTON LANDING RD</td>\n",
       "      <td>NaN</td>\n",
       "      <td>MOORESTOWN</td>\n",
       "      <td>NJ</td>\n",
       "      <td>NEW JERSEY</td>\n",
       "      <td>080573054</td>\n",
       "      <td>3.0</td>\n",
       "      <td>8567224604</td>\n",
       "      <td>8567224619</td>\n",
       "      <td>172753</td>\n",
       "    </tr>\n",
       "    <tr>\n",
       "      <th>10</th>\n",
       "      <td>944204924</td>\n",
       "      <td>CATERPILLAR INC.</td>\n",
       "      <td>NaN</td>\n",
       "      <td>5070479.0</td>\n",
       "      <td>CATERPILLAR INC.</td>\n",
       "      <td>USA</td>\n",
       "      <td>UNITED STATES</td>\n",
       "      <td>14009 OLD GALENA RD TC-A</td>\n",
       "      <td>NaN</td>\n",
       "      <td>MOSSVILLE</td>\n",
       "      <td>IL</td>\n",
       "      <td>ILLINOIS</td>\n",
       "      <td>615527547</td>\n",
       "      <td>18.0</td>\n",
       "      <td>3095786941</td>\n",
       "      <td>3095783739</td>\n",
       "      <td>155803</td>\n",
       "    </tr>\n",
       "    <tr>\n",
       "      <th>11</th>\n",
       "      <td>27079776</td>\n",
       "      <td>ATLANTIC DIVING SUPPLY, INC.</td>\n",
       "      <td>NaN</td>\n",
       "      <td>78857127.0</td>\n",
       "      <td>ATLANTIC DIVING SUPPLY  INC.</td>\n",
       "      <td>USA</td>\n",
       "      <td>UNITED STATES</td>\n",
       "      <td>621 LYNNHAVEN PKWY STE 400</td>\n",
       "      <td>NaN</td>\n",
       "      <td>VIRGINIA BEACH</td>\n",
       "      <td>VA</td>\n",
       "      <td>VIRGINIA</td>\n",
       "      <td>234527448</td>\n",
       "      <td>2.0</td>\n",
       "      <td>7579658347</td>\n",
       "      <td>7574403007</td>\n",
       "      <td>145456</td>\n",
       "    </tr>\n",
       "    <tr>\n",
       "      <th>12</th>\n",
       "      <td>7941230</td>\n",
       "      <td>OWENS &amp; MINOR DISTRIBUTION, INC.</td>\n",
       "      <td>NaN</td>\n",
       "      <td>847412269.0</td>\n",
       "      <td>OWENS &amp; MINOR  INC.</td>\n",
       "      <td>USA</td>\n",
       "      <td>UNITED STATES</td>\n",
       "      <td>9120 LOCKWOOD BLVD</td>\n",
       "      <td>NaN</td>\n",
       "      <td>MECHANICSVILLE</td>\n",
       "      <td>VA</td>\n",
       "      <td>VIRGINIA</td>\n",
       "      <td>231162015</td>\n",
       "      <td>7.0</td>\n",
       "      <td>8047237897</td>\n",
       "      <td>8047237124</td>\n",
       "      <td>127342</td>\n",
       "    </tr>\n",
       "    <tr>\n",
       "      <th>13</th>\n",
       "      <td>1672120</td>\n",
       "      <td>NATIONAL INDUSTRIES FOR THE BLIND</td>\n",
       "      <td>NaN</td>\n",
       "      <td>1672120.0</td>\n",
       "      <td>NATIONAL INDUSTRIES FOR THE BLIND</td>\n",
       "      <td>USA</td>\n",
       "      <td>UNITED STATES</td>\n",
       "      <td>3000 POTOMAC AVE</td>\n",
       "      <td>NaN</td>\n",
       "      <td>ALEXANDRIA</td>\n",
       "      <td>VA</td>\n",
       "      <td>VIRGINIA</td>\n",
       "      <td>223053084</td>\n",
       "      <td>8.0</td>\n",
       "      <td>7033100330</td>\n",
       "      <td>7033100494</td>\n",
       "      <td>120637</td>\n",
       "    </tr>\n",
       "    <tr>\n",
       "      <th>14</th>\n",
       "      <td>148983229</td>\n",
       "      <td>SCIENCE APPLICATIONS INTERNATIONAL CORPORATION</td>\n",
       "      <td>NaN</td>\n",
       "      <td>78745061.0</td>\n",
       "      <td>SCIENCE APPLICATIONS INTERNATIONAL CORPORATION</td>\n",
       "      <td>USA</td>\n",
       "      <td>UNITED STATES</td>\n",
       "      <td>155 PASSAIC AVE</td>\n",
       "      <td>NaN</td>\n",
       "      <td>FAIRFIELD</td>\n",
       "      <td>NJ</td>\n",
       "      <td>NEW JERSEY</td>\n",
       "      <td>070043561</td>\n",
       "      <td>11.0</td>\n",
       "      <td>9738084793</td>\n",
       "      <td>NaN</td>\n",
       "      <td>118935</td>\n",
       "    </tr>\n",
       "    <tr>\n",
       "      <th>15</th>\n",
       "      <td>123456787</td>\n",
       "      <td>MISCELLANEOUS FOREIGN AWARDEES</td>\n",
       "      <td>NaN</td>\n",
       "      <td>123456787.0</td>\n",
       "      <td>MISCELLANEOUS FOREIGN CONTRACTORS</td>\n",
       "      <td>USA</td>\n",
       "      <td>UNITED STATES</td>\n",
       "      <td>1800 F ST NW</td>\n",
       "      <td>NaN</td>\n",
       "      <td>WASHINGTON</td>\n",
       "      <td>DC</td>\n",
       "      <td>DISTRICT OF COLUMBIA</td>\n",
       "      <td>204050001</td>\n",
       "      <td>0.0</td>\n",
       "      <td>2022159767</td>\n",
       "      <td>NaN</td>\n",
       "      <td>112400</td>\n",
       "    </tr>\n",
       "    <tr>\n",
       "      <th>16</th>\n",
       "      <td>3197803</td>\n",
       "      <td>L C INDUSTRIES INC.</td>\n",
       "      <td>NaN</td>\n",
       "      <td>3197803.0</td>\n",
       "      <td>LC INDUSTRIES  INC.</td>\n",
       "      <td>USA</td>\n",
       "      <td>UNITED STATES</td>\n",
       "      <td>4500 EMPEROR BLVD</td>\n",
       "      <td>NaN</td>\n",
       "      <td>DURHAM</td>\n",
       "      <td>NC</td>\n",
       "      <td>NORTH CAROLINA</td>\n",
       "      <td>277038420</td>\n",
       "      <td>4.0</td>\n",
       "      <td>9195968277</td>\n",
       "      <td>9195981179</td>\n",
       "      <td>109269</td>\n",
       "    </tr>\n",
       "    <tr>\n",
       "      <th>17</th>\n",
       "      <td>883533879</td>\n",
       "      <td>DMS PHARMACEUTICAL GROUP INC.</td>\n",
       "      <td>NaN</td>\n",
       "      <td>883533879.0</td>\n",
       "      <td>DMS PHARMACEUTICAL GROUP INC.</td>\n",
       "      <td>USA</td>\n",
       "      <td>UNITED STATES</td>\n",
       "      <td>810 BUSSE HWY</td>\n",
       "      <td>NaN</td>\n",
       "      <td>PARK RIDGE</td>\n",
       "      <td>IL</td>\n",
       "      <td>ILLINOIS</td>\n",
       "      <td>600682302</td>\n",
       "      <td>9.0</td>\n",
       "      <td>8475181100</td>\n",
       "      <td>8475181105</td>\n",
       "      <td>94032</td>\n",
       "    </tr>\n",
       "    <tr>\n",
       "      <th>18</th>\n",
       "      <td>107910259</td>\n",
       "      <td>NOBLE SALES CO., INC.</td>\n",
       "      <td>NaN</td>\n",
       "      <td>107910259.0</td>\n",
       "      <td>NOBLE SALES CO.  INC.</td>\n",
       "      <td>USA</td>\n",
       "      <td>UNITED STATES</td>\n",
       "      <td>302 WEYMOUTH ST</td>\n",
       "      <td>NaN</td>\n",
       "      <td>ROCKLAND</td>\n",
       "      <td>MA</td>\n",
       "      <td>MASSACHUSETTS</td>\n",
       "      <td>023701171</td>\n",
       "      <td>9.0</td>\n",
       "      <td>7818711911</td>\n",
       "      <td>7818717449</td>\n",
       "      <td>93956</td>\n",
       "    </tr>\n",
       "    <tr>\n",
       "      <th>19</th>\n",
       "      <td>864346320</td>\n",
       "      <td>ANHAM FZCO</td>\n",
       "      <td>NaN</td>\n",
       "      <td>864346320.0</td>\n",
       "      <td>ANHAM FZCO</td>\n",
       "      <td>ARE</td>\n",
       "      <td>UNITED ARAB EMIRATES</td>\n",
       "      <td>DAFZA EAST WING, PHASE E4-A</td>\n",
       "      <td>NaN</td>\n",
       "      <td>DUBAI</td>\n",
       "      <td>NaN</td>\n",
       "      <td>NaN</td>\n",
       "      <td>NaN</td>\n",
       "      <td>NaN</td>\n",
       "      <td>7034483777</td>\n",
       "      <td>7034484443</td>\n",
       "      <td>92885</td>\n",
       "    </tr>\n",
       "    <tr>\n",
       "      <th>20</th>\n",
       "      <td>835551474</td>\n",
       "      <td>SIKORSKY AIRCRAFT CORPORATION</td>\n",
       "      <td>NaN</td>\n",
       "      <td>834951691.0</td>\n",
       "      <td>LOCKHEED MARTIN CORPORATION</td>\n",
       "      <td>USA</td>\n",
       "      <td>UNITED STATES</td>\n",
       "      <td>6900 MAIN ST</td>\n",
       "      <td>NaN</td>\n",
       "      <td>STRATFORD</td>\n",
       "      <td>CT</td>\n",
       "      <td>CONNECTICUT</td>\n",
       "      <td>066141378</td>\n",
       "      <td>3.0</td>\n",
       "      <td>2033865105</td>\n",
       "      <td>8606609913</td>\n",
       "      <td>92525</td>\n",
       "    </tr>\n",
       "    <tr>\n",
       "      <th>21</th>\n",
       "      <td>5103494</td>\n",
       "      <td>W.W. GRAINGER, INC.</td>\n",
       "      <td>NaN</td>\n",
       "      <td>5103494.0</td>\n",
       "      <td>W. W. GRAINGER  INC.</td>\n",
       "      <td>USA</td>\n",
       "      <td>UNITED STATES</td>\n",
       "      <td>100 GRAINGER PKWY</td>\n",
       "      <td>NaN</td>\n",
       "      <td>LAKE FOREST</td>\n",
       "      <td>IL</td>\n",
       "      <td>ILLINOIS</td>\n",
       "      <td>600455202</td>\n",
       "      <td>10.0</td>\n",
       "      <td>8475596349</td>\n",
       "      <td>8776994881</td>\n",
       "      <td>91531</td>\n",
       "    </tr>\n",
       "    <tr>\n",
       "      <th>22</th>\n",
       "      <td>57007189</td>\n",
       "      <td>WRIGHT TOOL COMPANY</td>\n",
       "      <td>NaN</td>\n",
       "      <td>91235377.0</td>\n",
       "      <td>WRIGHT TOOL COMPANY  LLC</td>\n",
       "      <td>USA</td>\n",
       "      <td>UNITED STATES</td>\n",
       "      <td>24680 MOUND ROAD</td>\n",
       "      <td>NaN</td>\n",
       "      <td>WARREN</td>\n",
       "      <td>MI</td>\n",
       "      <td>MICHIGAN</td>\n",
       "      <td>480912036</td>\n",
       "      <td>9.0</td>\n",
       "      <td>2486436666</td>\n",
       "      <td>2486436530</td>\n",
       "      <td>91469</td>\n",
       "    </tr>\n",
       "    <tr>\n",
       "      <th>23</th>\n",
       "      <td>848028494</td>\n",
       "      <td>LOCKHEED MARTIN CORPORATION</td>\n",
       "      <td>NaN</td>\n",
       "      <td>834951691.0</td>\n",
       "      <td>LOCKHEED MARTIN CORPORATION</td>\n",
       "      <td>USA</td>\n",
       "      <td>UNITED STATES</td>\n",
       "      <td>199 BORTON LANDING RD</td>\n",
       "      <td>NaN</td>\n",
       "      <td>MOORESTOWN</td>\n",
       "      <td>NJ</td>\n",
       "      <td>NEW JERSEY</td>\n",
       "      <td>080573054</td>\n",
       "      <td>3.0</td>\n",
       "      <td>8567224240</td>\n",
       "      <td>8567224619</td>\n",
       "      <td>90492</td>\n",
       "    </tr>\n",
       "    <tr>\n",
       "      <th>24</th>\n",
       "      <td>879817104</td>\n",
       "      <td>ROYAL FOOD SERVICE CO., INC.</td>\n",
       "      <td>NaN</td>\n",
       "      <td>879817104.0</td>\n",
       "      <td>ROYAL FOOD SERVICE INC</td>\n",
       "      <td>USA</td>\n",
       "      <td>UNITED STATES</td>\n",
       "      <td>3720 ZIP INDUSTRIAL BLVD SE</td>\n",
       "      <td>NaN</td>\n",
       "      <td>ATLANTA</td>\n",
       "      <td>GA</td>\n",
       "      <td>GEORGIA</td>\n",
       "      <td>303542937</td>\n",
       "      <td>5.0</td>\n",
       "      <td>4043664299</td>\n",
       "      <td>6786862245</td>\n",
       "      <td>84146</td>\n",
       "    </tr>\n",
       "    <tr>\n",
       "      <th>25</th>\n",
       "      <td>4321519</td>\n",
       "      <td>FISHER SCIENTIFIC COMPANY L.L.C.</td>\n",
       "      <td>NaN</td>\n",
       "      <td>1408673.0</td>\n",
       "      <td>THERMO FISHER SCIENTIFIC INC.</td>\n",
       "      <td>USA</td>\n",
       "      <td>UNITED STATES</td>\n",
       "      <td>300 INDUSTRY DR</td>\n",
       "      <td>NaN</td>\n",
       "      <td>PITTSBURGH</td>\n",
       "      <td>PA</td>\n",
       "      <td>PENNSYLVANIA</td>\n",
       "      <td>152751001</td>\n",
       "      <td>18.0</td>\n",
       "      <td>8007667000</td>\n",
       "      <td>8009261166</td>\n",
       "      <td>83101</td>\n",
       "    </tr>\n",
       "    <tr>\n",
       "      <th>26</th>\n",
       "      <td>130368145</td>\n",
       "      <td>FORESTWOOD FARM, INC.</td>\n",
       "      <td>NaN</td>\n",
       "      <td>130368145.0</td>\n",
       "      <td>FORESTWOOD FARM INC</td>\n",
       "      <td>USA</td>\n",
       "      <td>UNITED STATES</td>\n",
       "      <td>4101 COALBURG RD</td>\n",
       "      <td>NaN</td>\n",
       "      <td>BIRMINGHAM</td>\n",
       "      <td>AL</td>\n",
       "      <td>ALABAMA</td>\n",
       "      <td>352073180</td>\n",
       "      <td>7.0</td>\n",
       "      <td>2052524139</td>\n",
       "      <td>2053241054</td>\n",
       "      <td>77711</td>\n",
       "    </tr>\n",
       "    <tr>\n",
       "      <th>27</th>\n",
       "      <td>614345809</td>\n",
       "      <td>OFFICE DEPOT, INC.</td>\n",
       "      <td>NaN</td>\n",
       "      <td>153531108.0</td>\n",
       "      <td>OFFICE DEPOT  INC.</td>\n",
       "      <td>USA</td>\n",
       "      <td>UNITED STATES</td>\n",
       "      <td>6304 WOODSIDE CT</td>\n",
       "      <td>NaN</td>\n",
       "      <td>COLUMBIA</td>\n",
       "      <td>MD</td>\n",
       "      <td>MARYLAND</td>\n",
       "      <td>210463216</td>\n",
       "      <td>3.0</td>\n",
       "      <td>NaN</td>\n",
       "      <td>NaN</td>\n",
       "      <td>76858</td>\n",
       "    </tr>\n",
       "    <tr>\n",
       "      <th>28</th>\n",
       "      <td>806095217</td>\n",
       "      <td>IDSC HOLDINGS LLC</td>\n",
       "      <td>NaN</td>\n",
       "      <td>6090294.0</td>\n",
       "      <td>SNAP-ON INCORPORATED</td>\n",
       "      <td>USA</td>\n",
       "      <td>UNITED STATES</td>\n",
       "      <td>2801 80TH ST</td>\n",
       "      <td>NaN</td>\n",
       "      <td>KENOSHA</td>\n",
       "      <td>WI</td>\n",
       "      <td>WISCONSIN</td>\n",
       "      <td>531435656</td>\n",
       "      <td>1.0</td>\n",
       "      <td>8884185600</td>\n",
       "      <td>8884185900</td>\n",
       "      <td>75665</td>\n",
       "    </tr>\n",
       "    <tr>\n",
       "      <th>29</th>\n",
       "      <td>107910259</td>\n",
       "      <td>NOBLE SALES CO INC</td>\n",
       "      <td>NaN</td>\n",
       "      <td>107910259.0</td>\n",
       "      <td>NOBLE SALES CO.  INC.</td>\n",
       "      <td>USA</td>\n",
       "      <td>UNITED STATES</td>\n",
       "      <td>104 LONGWATER DR</td>\n",
       "      <td>NaN</td>\n",
       "      <td>NORWELL</td>\n",
       "      <td>MA</td>\n",
       "      <td>MASSACHUSETTS</td>\n",
       "      <td>020611625</td>\n",
       "      <td>9.0</td>\n",
       "      <td>NaN</td>\n",
       "      <td>NaN</td>\n",
       "      <td>71495</td>\n",
       "    </tr>\n",
       "    <tr>\n",
       "      <th>...</th>\n",
       "      <td>...</td>\n",
       "      <td>...</td>\n",
       "      <td>...</td>\n",
       "      <td>...</td>\n",
       "      <td>...</td>\n",
       "      <td>...</td>\n",
       "      <td>...</td>\n",
       "      <td>...</td>\n",
       "      <td>...</td>\n",
       "      <td>...</td>\n",
       "      <td>...</td>\n",
       "      <td>...</td>\n",
       "      <td>...</td>\n",
       "      <td>...</td>\n",
       "      <td>...</td>\n",
       "      <td>...</td>\n",
       "      <td>...</td>\n",
       "    </tr>\n",
       "    <tr>\n",
       "      <th>1071777</th>\n",
       "      <td>194878372</td>\n",
       "      <td>GLOBAL STRATEGIES GROUP (NORTH AMERICA) INC.</td>\n",
       "      <td>NaN</td>\n",
       "      <td>968002589</td>\n",
       "      <td>SOTERA ENGINEERED SOLUTIONS  LLC</td>\n",
       "      <td>USA</td>\n",
       "      <td>UNITED STATES OF AMERICA</td>\n",
       "      <td>28712 GLEBE RD</td>\n",
       "      <td>NaN</td>\n",
       "      <td>EASTON</td>\n",
       "      <td>MD</td>\n",
       "      <td>MARYLAND</td>\n",
       "      <td>21601</td>\n",
       "      <td>NaN</td>\n",
       "      <td>4108209140</td>\n",
       "      <td>4108200662</td>\n",
       "      <td>1</td>\n",
       "    </tr>\n",
       "    <tr>\n",
       "      <th>1071778</th>\n",
       "      <td>194878372</td>\n",
       "      <td>OVC-ENGINEERED SOLUTIONS, LLC</td>\n",
       "      <td>NaN</td>\n",
       "      <td>59570937.0</td>\n",
       "      <td>OUTDOOR VENTURE CORPORATION</td>\n",
       "      <td>USA</td>\n",
       "      <td>UNITED STATES OF AMERICA</td>\n",
       "      <td>2740 S HWY 1651</td>\n",
       "      <td>NaN</td>\n",
       "      <td>STEARNS</td>\n",
       "      <td>KY</td>\n",
       "      <td>KENTUCKY</td>\n",
       "      <td>42647</td>\n",
       "      <td>NaN</td>\n",
       "      <td>6063765021</td>\n",
       "      <td>NaN</td>\n",
       "      <td>1</td>\n",
       "    </tr>\n",
       "    <tr>\n",
       "      <th>1071779</th>\n",
       "      <td>194878372</td>\n",
       "      <td>OVC-ENGINEERED SOLUTIONS, LLC</td>\n",
       "      <td>NaN</td>\n",
       "      <td>968002589.0</td>\n",
       "      <td>SOTERA ENGINEERED SOLUTIONS  LLC</td>\n",
       "      <td>USA</td>\n",
       "      <td>UNITED STATES OF AMERICA</td>\n",
       "      <td>28712 GLEBE RD</td>\n",
       "      <td>NaN</td>\n",
       "      <td>EASTON</td>\n",
       "      <td>MD</td>\n",
       "      <td>MARYLAND</td>\n",
       "      <td>21601</td>\n",
       "      <td>NaN</td>\n",
       "      <td>3016060164</td>\n",
       "      <td>NaN</td>\n",
       "      <td>1</td>\n",
       "    </tr>\n",
       "    <tr>\n",
       "      <th>1071780</th>\n",
       "      <td>194878372</td>\n",
       "      <td>SOTERA ENGINEERED SOLUTIONS</td>\n",
       "      <td>NaN</td>\n",
       "      <td>968002589.0</td>\n",
       "      <td>SOTERA ENGINEERED SOLUTIONS  LLC</td>\n",
       "      <td>USA</td>\n",
       "      <td>UNITED STATES</td>\n",
       "      <td>28712 GLEBE RD</td>\n",
       "      <td>NaN</td>\n",
       "      <td>EASTON</td>\n",
       "      <td>MD</td>\n",
       "      <td>MARYLAND</td>\n",
       "      <td>216017431</td>\n",
       "      <td>1.0</td>\n",
       "      <td>4108209140</td>\n",
       "      <td>4108200662</td>\n",
       "      <td>1</td>\n",
       "    </tr>\n",
       "    <tr>\n",
       "      <th>1071781</th>\n",
       "      <td>194877072</td>\n",
       "      <td>SPS MEDICAL SUPPLY CORP.</td>\n",
       "      <td>NaN</td>\n",
       "      <td>11141033.0</td>\n",
       "      <td>CANTEL MEDICAL CORP.</td>\n",
       "      <td>USA</td>\n",
       "      <td>UNITED STATES</td>\n",
       "      <td>6789 W HENRIETTA RD</td>\n",
       "      <td>NaN</td>\n",
       "      <td>RUSH</td>\n",
       "      <td>NY</td>\n",
       "      <td>NEW YORK</td>\n",
       "      <td>145439735</td>\n",
       "      <td>27.0</td>\n",
       "      <td>5853590130</td>\n",
       "      <td>5853590167</td>\n",
       "      <td>1</td>\n",
       "    </tr>\n",
       "    <tr>\n",
       "      <th>1071782</th>\n",
       "      <td>194878372</td>\n",
       "      <td>SOTERA ENGINEERED SOLUTIONS</td>\n",
       "      <td>NaN</td>\n",
       "      <td>968002589.0</td>\n",
       "      <td>SOTERA ENGINEERED SOLUTIONS  LLC</td>\n",
       "      <td>USA</td>\n",
       "      <td>UNITED STATES OF AMERICA</td>\n",
       "      <td>2740 S HWY 1651</td>\n",
       "      <td>NaN</td>\n",
       "      <td>STEARNS</td>\n",
       "      <td>KY</td>\n",
       "      <td>KENTUCKY</td>\n",
       "      <td>42647</td>\n",
       "      <td>NaN</td>\n",
       "      <td>6063765021</td>\n",
       "      <td>NaN</td>\n",
       "      <td>1</td>\n",
       "    </tr>\n",
       "    <tr>\n",
       "      <th>1071783</th>\n",
       "      <td>194878372</td>\n",
       "      <td>SOTERA ENGINEERED SOLUTIONS</td>\n",
       "      <td>NaN</td>\n",
       "      <td>047578293</td>\n",
       "      <td>SOTERA ENGINEERED SOLUTIONS  LLC</td>\n",
       "      <td>USA</td>\n",
       "      <td>UNITED STATES</td>\n",
       "      <td>28712 GLEBE RD</td>\n",
       "      <td>NaN</td>\n",
       "      <td>EASTON</td>\n",
       "      <td>MD</td>\n",
       "      <td>MARYLAND</td>\n",
       "      <td>216017431</td>\n",
       "      <td>01</td>\n",
       "      <td>4108209140</td>\n",
       "      <td>4108200662</td>\n",
       "      <td>1</td>\n",
       "    </tr>\n",
       "    <tr>\n",
       "      <th>1071784</th>\n",
       "      <td>194878372</td>\n",
       "      <td>SOTERA ENGINEERED SOLUTIONS</td>\n",
       "      <td>NaN</td>\n",
       "      <td>968002589</td>\n",
       "      <td>SOTERA ENGINEERED SOLUTIONS  LLC</td>\n",
       "      <td>USA</td>\n",
       "      <td>UNITED STATES</td>\n",
       "      <td>28712 GLEBE RD</td>\n",
       "      <td>NaN</td>\n",
       "      <td>EASTON</td>\n",
       "      <td>MD</td>\n",
       "      <td>MARYLAND</td>\n",
       "      <td>216017431</td>\n",
       "      <td>01</td>\n",
       "      <td>4108209140</td>\n",
       "      <td>4108200662</td>\n",
       "      <td>1</td>\n",
       "    </tr>\n",
       "    <tr>\n",
       "      <th>1071785</th>\n",
       "      <td>194878372</td>\n",
       "      <td>SOTERA ENGINEERED SOLUTIONS</td>\n",
       "      <td>NaN</td>\n",
       "      <td>968002589</td>\n",
       "      <td>SOTERA ENGINEERED SOLUTIONS  LLC</td>\n",
       "      <td>USA</td>\n",
       "      <td>UNITED STATES OF AMERICA</td>\n",
       "      <td>28712 GLEBE RD</td>\n",
       "      <td>NaN</td>\n",
       "      <td>EASTON</td>\n",
       "      <td>MD</td>\n",
       "      <td>MARYLAND</td>\n",
       "      <td>21601</td>\n",
       "      <td>NaN</td>\n",
       "      <td>4108209140</td>\n",
       "      <td>4108200662</td>\n",
       "      <td>1</td>\n",
       "    </tr>\n",
       "    <tr>\n",
       "      <th>1071786</th>\n",
       "      <td>194878372</td>\n",
       "      <td>SOTERA ENGINEERED SOLUTIONS, LLC</td>\n",
       "      <td>NaN</td>\n",
       "      <td>59570937.0</td>\n",
       "      <td>OUTDOOR VENTURE CORPORATION</td>\n",
       "      <td>USA</td>\n",
       "      <td>UNITED STATES</td>\n",
       "      <td>2740 S HWY 1651</td>\n",
       "      <td>NaN</td>\n",
       "      <td>STEARNS</td>\n",
       "      <td>KY</td>\n",
       "      <td>KENTUCKY</td>\n",
       "      <td>42647</td>\n",
       "      <td>5.0</td>\n",
       "      <td>3016060164</td>\n",
       "      <td>NaN</td>\n",
       "      <td>1</td>\n",
       "    </tr>\n",
       "    <tr>\n",
       "      <th>1071787</th>\n",
       "      <td>194878372</td>\n",
       "      <td>SOTERA ENGINEERED SOLUTIONS, LLC</td>\n",
       "      <td>NaN</td>\n",
       "      <td>968002589.0</td>\n",
       "      <td>SOTERA ENGINEERED SOLUTIONS  LLC</td>\n",
       "      <td>USA</td>\n",
       "      <td>UNITED STATES OF AMERICA</td>\n",
       "      <td>28712 GLEBE RD</td>\n",
       "      <td>NaN</td>\n",
       "      <td>EASTON</td>\n",
       "      <td>MD</td>\n",
       "      <td>MARYLAND</td>\n",
       "      <td>21601</td>\n",
       "      <td>NaN</td>\n",
       "      <td>3016060164</td>\n",
       "      <td>NaN</td>\n",
       "      <td>1</td>\n",
       "    </tr>\n",
       "    <tr>\n",
       "      <th>1071788</th>\n",
       "      <td>194877197</td>\n",
       "      <td>MAINE TRACK MAINTENANCE, INC.</td>\n",
       "      <td>NaN</td>\n",
       "      <td>194877197</td>\n",
       "      <td>MAINE TRACK MAINTENANCE  INC.</td>\n",
       "      <td>UNITED STATES</td>\n",
       "      <td>NaN</td>\n",
       "      <td>212 FRONT ST</td>\n",
       "      <td>NaN</td>\n",
       "      <td>SOUTH PORTLAND</td>\n",
       "      <td>ME</td>\n",
       "      <td>NaN</td>\n",
       "      <td>041061508</td>\n",
       "      <td>ME01</td>\n",
       "      <td>2077676070</td>\n",
       "      <td>2077677125</td>\n",
       "      <td>1</td>\n",
       "    </tr>\n",
       "    <tr>\n",
       "      <th>1071789</th>\n",
       "      <td>194877072</td>\n",
       "      <td>S P S MEDICAL SUPPLY CORPORATION</td>\n",
       "      <td>SPS MEDICAL SUPPLY CORPORATION</td>\n",
       "      <td>11141033.0</td>\n",
       "      <td>CANTEL MEDICAL CORP.</td>\n",
       "      <td>USA</td>\n",
       "      <td>UNITED STATES OF AMERICA</td>\n",
       "      <td>6789 W HENRIETTA RD</td>\n",
       "      <td>NaN</td>\n",
       "      <td>RUSH</td>\n",
       "      <td>NY</td>\n",
       "      <td>NEW YORK</td>\n",
       "      <td>14543</td>\n",
       "      <td>NaN</td>\n",
       "      <td>NaN</td>\n",
       "      <td>NaN</td>\n",
       "      <td>1</td>\n",
       "    </tr>\n",
       "    <tr>\n",
       "      <th>1071790</th>\n",
       "      <td>194854105</td>\n",
       "      <td>MISSION INSTRUMENTS CORPORATION</td>\n",
       "      <td>NaN</td>\n",
       "      <td>194854105.0</td>\n",
       "      <td>MISSION INSTRUMENTS CORPORATION</td>\n",
       "      <td>USA</td>\n",
       "      <td>UNITED STATES</td>\n",
       "      <td>2050 E 17TH ST</td>\n",
       "      <td>NaN</td>\n",
       "      <td>TUCSON</td>\n",
       "      <td>AZ</td>\n",
       "      <td>ARIZONA</td>\n",
       "      <td>857196948</td>\n",
       "      <td>2.0</td>\n",
       "      <td>5207219242</td>\n",
       "      <td>5207216697</td>\n",
       "      <td>1</td>\n",
       "    </tr>\n",
       "    <tr>\n",
       "      <th>1071791</th>\n",
       "      <td>194860813</td>\n",
       "      <td>GENERAL DYNAMICS ORDNANCE AND</td>\n",
       "      <td>NaN</td>\n",
       "      <td>1381284.0</td>\n",
       "      <td>GENERAL DYNAMICS CORPORATION</td>\n",
       "      <td>USA</td>\n",
       "      <td>UNITED STATES</td>\n",
       "      <td>11399 16TH COURT N - SUIT</td>\n",
       "      <td>NaN</td>\n",
       "      <td>SAINT PETERSBU</td>\n",
       "      <td>FL</td>\n",
       "      <td>FLORIDA</td>\n",
       "      <td>33716</td>\n",
       "      <td>10.0</td>\n",
       "      <td>NaN</td>\n",
       "      <td>NaN</td>\n",
       "      <td>1</td>\n",
       "    </tr>\n",
       "    <tr>\n",
       "      <th>1071792</th>\n",
       "      <td>194854105</td>\n",
       "      <td>MISSION INSTRUMENTS CORPORATION</td>\n",
       "      <td>NaN</td>\n",
       "      <td>194854105.0</td>\n",
       "      <td>MISSION INSTRUMENTS CORPORATION</td>\n",
       "      <td>USA</td>\n",
       "      <td>UNITED STATES OF AMERICA</td>\n",
       "      <td>2050 E 17TH ST</td>\n",
       "      <td>NaN</td>\n",
       "      <td>TUCSON</td>\n",
       "      <td>AZ</td>\n",
       "      <td>ARIZONA</td>\n",
       "      <td>85719</td>\n",
       "      <td>NaN</td>\n",
       "      <td>5207219242</td>\n",
       "      <td>5207216697</td>\n",
       "      <td>1</td>\n",
       "    </tr>\n",
       "    <tr>\n",
       "      <th>1071793</th>\n",
       "      <td>194855847</td>\n",
       "      <td>ROBERT K. GREENLEAF CENTER, INC., THE</td>\n",
       "      <td>NaN</td>\n",
       "      <td>194855847.0</td>\n",
       "      <td>ROBERT K. GREENLEAF CENTER, INC., THE</td>\n",
       "      <td>USA</td>\n",
       "      <td>UNITED STATES OF AMERICA</td>\n",
       "      <td>770 PAWTUCKET DR</td>\n",
       "      <td>NaN</td>\n",
       "      <td>WESTFIELD</td>\n",
       "      <td>IN</td>\n",
       "      <td>INDIANA</td>\n",
       "      <td>46074</td>\n",
       "      <td>NaN</td>\n",
       "      <td>3176698050</td>\n",
       "      <td>3176698055</td>\n",
       "      <td>1</td>\n",
       "    </tr>\n",
       "    <tr>\n",
       "      <th>1071794</th>\n",
       "      <td>194860156</td>\n",
       "      <td>SBG LABS INC</td>\n",
       "      <td>NaN</td>\n",
       "      <td>194860156.0</td>\n",
       "      <td>SBG LABS, INC.</td>\n",
       "      <td>USA</td>\n",
       "      <td>UNITED STATES OF AMERICA</td>\n",
       "      <td>1288 HAMMERWOOD AVE</td>\n",
       "      <td>NaN</td>\n",
       "      <td>SUNNYVALE</td>\n",
       "      <td>CA</td>\n",
       "      <td>CALIFORNIA</td>\n",
       "      <td>94089</td>\n",
       "      <td>NaN</td>\n",
       "      <td>6507932695</td>\n",
       "      <td>4087340239</td>\n",
       "      <td>1</td>\n",
       "    </tr>\n",
       "    <tr>\n",
       "      <th>1071795</th>\n",
       "      <td>194860743</td>\n",
       "      <td>SCAFFOLDING TOWERS OF AMERICA LLC</td>\n",
       "      <td>NaN</td>\n",
       "      <td>194860743.0</td>\n",
       "      <td>SCAFFOLDING TOWERS OF AMERICA LLC</td>\n",
       "      <td>USA</td>\n",
       "      <td>UNITED STATES</td>\n",
       "      <td>3 SMALLEY AVE</td>\n",
       "      <td>NaN</td>\n",
       "      <td>MIDDLESEX</td>\n",
       "      <td>NJ</td>\n",
       "      <td>NEW JERSEY</td>\n",
       "      <td>088462231</td>\n",
       "      <td>12.0</td>\n",
       "      <td>(732) 752-3500</td>\n",
       "      <td>NaN</td>\n",
       "      <td>1</td>\n",
       "    </tr>\n",
       "    <tr>\n",
       "      <th>1071796</th>\n",
       "      <td>194860813</td>\n",
       "      <td>GENERAL DYNAMICS ORDNANCE AND</td>\n",
       "      <td>NaN</td>\n",
       "      <td>1381284.0</td>\n",
       "      <td>GENERAL DYNAMICS CORPORATION</td>\n",
       "      <td>UNITED STATES</td>\n",
       "      <td>NaN</td>\n",
       "      <td>11399 16TH COURT N  - SUIT</td>\n",
       "      <td>NaN</td>\n",
       "      <td>SAINT PETERSBU</td>\n",
       "      <td>FL</td>\n",
       "      <td>NaN</td>\n",
       "      <td>33716</td>\n",
       "      <td>FL10</td>\n",
       "      <td>NaN</td>\n",
       "      <td>NaN</td>\n",
       "      <td>1</td>\n",
       "    </tr>\n",
       "    <tr>\n",
       "      <th>1071797</th>\n",
       "      <td>194860813</td>\n",
       "      <td>GENERAL DYNAMICS ORDNANCE AND</td>\n",
       "      <td>NaN</td>\n",
       "      <td>1381284.0</td>\n",
       "      <td>GENERAL DYNAMICS CORPORATION</td>\n",
       "      <td>USA</td>\n",
       "      <td>UNITED STATES</td>\n",
       "      <td>10101 DR  M L  KING ST  N</td>\n",
       "      <td>NaN</td>\n",
       "      <td>SAINT PETERSBU</td>\n",
       "      <td>FL</td>\n",
       "      <td>FLORIDA</td>\n",
       "      <td>33716</td>\n",
       "      <td>10.0</td>\n",
       "      <td>NaN</td>\n",
       "      <td>NaN</td>\n",
       "      <td>1</td>\n",
       "    </tr>\n",
       "    <tr>\n",
       "      <th>1071798</th>\n",
       "      <td>194860813</td>\n",
       "      <td>GENERAL DYNAMICS ORDNANCE AND</td>\n",
       "      <td>NaN</td>\n",
       "      <td>1381284.0</td>\n",
       "      <td>GENERAL DYNAMICS CORPORATION</td>\n",
       "      <td>USA</td>\n",
       "      <td>UNITED STATES OF AMERICA</td>\n",
       "      <td>11399 16TH COURT N  - SUIT</td>\n",
       "      <td>NaN</td>\n",
       "      <td>SAINT PETERSBU</td>\n",
       "      <td>FL</td>\n",
       "      <td>FLORIDA</td>\n",
       "      <td>33716</td>\n",
       "      <td>NaN</td>\n",
       "      <td>NaN</td>\n",
       "      <td>NaN</td>\n",
       "      <td>1</td>\n",
       "    </tr>\n",
       "    <tr>\n",
       "      <th>1071799</th>\n",
       "      <td>194874517</td>\n",
       "      <td>STEWART FELTY INC</td>\n",
       "      <td>NaN</td>\n",
       "      <td>194874517.0</td>\n",
       "      <td>STEWART FELTY, INC.</td>\n",
       "      <td>USA</td>\n",
       "      <td>UNITED STATES</td>\n",
       "      <td>4985 RICHMOND ROAD</td>\n",
       "      <td>NaN</td>\n",
       "      <td>KESWICK</td>\n",
       "      <td>VA</td>\n",
       "      <td>VIRGINIA</td>\n",
       "      <td>229473109</td>\n",
       "      <td>5.0</td>\n",
       "      <td>4349877866</td>\n",
       "      <td>NaN</td>\n",
       "      <td>1</td>\n",
       "    </tr>\n",
       "    <tr>\n",
       "      <th>1071800</th>\n",
       "      <td>194860813</td>\n",
       "      <td>GENERAL DYNAMICS ORDNANCE AND</td>\n",
       "      <td>NaN</td>\n",
       "      <td>001381284</td>\n",
       "      <td>GENERAL DYNAMICS CORPORATION</td>\n",
       "      <td>UNITED STATES</td>\n",
       "      <td>NaN</td>\n",
       "      <td>11399 16TH COURT N  - SUIT</td>\n",
       "      <td>NaN</td>\n",
       "      <td>SAINT PETERSBU</td>\n",
       "      <td>FL</td>\n",
       "      <td>NaN</td>\n",
       "      <td>33716</td>\n",
       "      <td>FL10</td>\n",
       "      <td>NaN</td>\n",
       "      <td>NaN</td>\n",
       "      <td>1</td>\n",
       "    </tr>\n",
       "    <tr>\n",
       "      <th>1071801</th>\n",
       "      <td>194860813</td>\n",
       "      <td>GENERAL DYNAMICS ORDNANCE AND</td>\n",
       "      <td>NaN</td>\n",
       "      <td>001381284</td>\n",
       "      <td>GENERAL DYNAMICS CORPORATION</td>\n",
       "      <td>USA</td>\n",
       "      <td>UNITED STATES</td>\n",
       "      <td>11399 16TH COURT N - SUIT</td>\n",
       "      <td>NaN</td>\n",
       "      <td>SAINT PETERSBU</td>\n",
       "      <td>FL</td>\n",
       "      <td>FLORIDA</td>\n",
       "      <td>33716</td>\n",
       "      <td>10</td>\n",
       "      <td>NaN</td>\n",
       "      <td>NaN</td>\n",
       "      <td>1</td>\n",
       "    </tr>\n",
       "    <tr>\n",
       "      <th>1071802</th>\n",
       "      <td>194860813</td>\n",
       "      <td>GENERAL DYNAMICS ORDNANCE AND TACTICAL SYSTEMS...</td>\n",
       "      <td>NaN</td>\n",
       "      <td>1381284.0</td>\n",
       "      <td>GENERAL DYNAMICS CORPORATION</td>\n",
       "      <td>UNITED STATES</td>\n",
       "      <td>NaN</td>\n",
       "      <td>11399 16TH CT N STE 200</td>\n",
       "      <td>NaN</td>\n",
       "      <td>SAINT PETERSBURG</td>\n",
       "      <td>FL</td>\n",
       "      <td>NaN</td>\n",
       "      <td>337162328</td>\n",
       "      <td>FL13</td>\n",
       "      <td>NaN</td>\n",
       "      <td>NaN</td>\n",
       "      <td>1</td>\n",
       "    </tr>\n",
       "    <tr>\n",
       "      <th>1071803</th>\n",
       "      <td>194860813</td>\n",
       "      <td>GENERAL DYNAMICS ORDNANCE AND TACTICAL SYSTEMS...</td>\n",
       "      <td>NaN</td>\n",
       "      <td>1381284.0</td>\n",
       "      <td>GENERAL DYNAMICS CORPORATION</td>\n",
       "      <td>USA</td>\n",
       "      <td>UNITED STATES OF AMERICA</td>\n",
       "      <td>11399 16TH CT N STE 200</td>\n",
       "      <td>NaN</td>\n",
       "      <td>SAINT PETERSBURG</td>\n",
       "      <td>FL</td>\n",
       "      <td>FLORIDA</td>\n",
       "      <td>33716</td>\n",
       "      <td>NaN</td>\n",
       "      <td>NaN</td>\n",
       "      <td>NaN</td>\n",
       "      <td>1</td>\n",
       "    </tr>\n",
       "    <tr>\n",
       "      <th>1071804</th>\n",
       "      <td>194860813</td>\n",
       "      <td>GENERAL DYNAMICS ORDNANCE AND TACTICAL SYSTEMS...</td>\n",
       "      <td>NaN</td>\n",
       "      <td>001381284</td>\n",
       "      <td>GENERAL DYNAMICS CORPORATION</td>\n",
       "      <td>USA</td>\n",
       "      <td>UNITED STATES OF AMERICA</td>\n",
       "      <td>11399 16TH CT N STE 200</td>\n",
       "      <td>NaN</td>\n",
       "      <td>SAINT PETERSBURG</td>\n",
       "      <td>FL</td>\n",
       "      <td>FLORIDA</td>\n",
       "      <td>33716</td>\n",
       "      <td>NaN</td>\n",
       "      <td>NaN</td>\n",
       "      <td>NaN</td>\n",
       "      <td>1</td>\n",
       "    </tr>\n",
       "    <tr>\n",
       "      <th>1071805</th>\n",
       "      <td>194860813</td>\n",
       "      <td>ST MARKS POWDER INCORPORATED</td>\n",
       "      <td>NaN</td>\n",
       "      <td>001381284</td>\n",
       "      <td>GENERAL DYNAMICS CORPORATION</td>\n",
       "      <td>USA</td>\n",
       "      <td>UNITED STATES OF AMERICA</td>\n",
       "      <td>11399 16TH COURT N. - SUITE 200</td>\n",
       "      <td>NaN</td>\n",
       "      <td>SAINT PETERSBURG</td>\n",
       "      <td>FL</td>\n",
       "      <td>FLORIDA</td>\n",
       "      <td>33716</td>\n",
       "      <td>NaN</td>\n",
       "      <td>NaN</td>\n",
       "      <td>NaN</td>\n",
       "      <td>1</td>\n",
       "    </tr>\n",
       "    <tr>\n",
       "      <th>1071806</th>\n",
       "      <td>989994208</td>\n",
       "      <td>LIBERTY ENGINEERING &amp; CONSTRUC TION LTD</td>\n",
       "      <td>NaN</td>\n",
       "      <td>989994208</td>\n",
       "      <td>LIBERTY ENGINEERING &amp; CONSTRUC TION LTD</td>\n",
       "      <td>SSD</td>\n",
       "      <td>SOUTH SUDAN</td>\n",
       "      <td>BILPAM ROAD</td>\n",
       "      <td>NaN</td>\n",
       "      <td>JUBA</td>\n",
       "      <td>NaN</td>\n",
       "      <td>NaN</td>\n",
       "      <td>NaN</td>\n",
       "      <td>NaN</td>\n",
       "      <td>NaN</td>\n",
       "      <td>NaN</td>\n",
       "      <td>1</td>\n",
       "    </tr>\n",
       "  </tbody>\n",
       "</table>\n",
       "<p>1071807 rows × 17 columns</p>\n",
       "</div>"
      ],
      "text/plain": [
       "        recipient_duns                                     recipient_name  \\\n",
       "0              7914906                 AMERISOURCEBERGEN DRUG CORPORATION   \n",
       "1            961027315                           CARDINAL HEALTH 200, LLC   \n",
       "2            961027315                           CARDINAL HEALTH 200, LLC   \n",
       "3            148983229     SCIENCE APPLICATIONS INTERNATIONAL CORPORATION   \n",
       "4              7941230                   OWENS & MINOR DISTRIBUTION, INC.   \n",
       "5            116057019                                    SUPPLYCORE INC.   \n",
       "6             12430880                                 HENRY SCHEIN, INC.   \n",
       "7            105919864                               MCKESSON CORPORATION   \n",
       "8             75553560           EASTERN CAROLINA VOCATIONAL CENTER, INC.   \n",
       "9            848028494                        LOCKHEED MARTIN CORPORATION   \n",
       "10           944204924                                   CATERPILLAR INC.   \n",
       "11            27079776                       ATLANTIC DIVING SUPPLY, INC.   \n",
       "12             7941230                   OWENS & MINOR DISTRIBUTION, INC.   \n",
       "13             1672120                  NATIONAL INDUSTRIES FOR THE BLIND   \n",
       "14           148983229     SCIENCE APPLICATIONS INTERNATIONAL CORPORATION   \n",
       "15           123456787                     MISCELLANEOUS FOREIGN AWARDEES   \n",
       "16             3197803                                L C INDUSTRIES INC.   \n",
       "17           883533879                      DMS PHARMACEUTICAL GROUP INC.   \n",
       "18           107910259                              NOBLE SALES CO., INC.   \n",
       "19           864346320                                         ANHAM FZCO   \n",
       "20           835551474                      SIKORSKY AIRCRAFT CORPORATION   \n",
       "21             5103494                                W.W. GRAINGER, INC.   \n",
       "22            57007189                                WRIGHT TOOL COMPANY   \n",
       "23           848028494                        LOCKHEED MARTIN CORPORATION   \n",
       "24           879817104                       ROYAL FOOD SERVICE CO., INC.   \n",
       "25             4321519                   FISHER SCIENTIFIC COMPANY L.L.C.   \n",
       "26           130368145                              FORESTWOOD FARM, INC.   \n",
       "27           614345809                                 OFFICE DEPOT, INC.   \n",
       "28           806095217                                  IDSC HOLDINGS LLC   \n",
       "29           107910259                                 NOBLE SALES CO INC   \n",
       "...                ...                                                ...   \n",
       "1071777      194878372       GLOBAL STRATEGIES GROUP (NORTH AMERICA) INC.   \n",
       "1071778      194878372                      OVC-ENGINEERED SOLUTIONS, LLC   \n",
       "1071779      194878372                      OVC-ENGINEERED SOLUTIONS, LLC   \n",
       "1071780      194878372                        SOTERA ENGINEERED SOLUTIONS   \n",
       "1071781      194877072                           SPS MEDICAL SUPPLY CORP.   \n",
       "1071782      194878372                        SOTERA ENGINEERED SOLUTIONS   \n",
       "1071783      194878372                        SOTERA ENGINEERED SOLUTIONS   \n",
       "1071784      194878372                        SOTERA ENGINEERED SOLUTIONS   \n",
       "1071785      194878372                        SOTERA ENGINEERED SOLUTIONS   \n",
       "1071786      194878372                   SOTERA ENGINEERED SOLUTIONS, LLC   \n",
       "1071787      194878372                   SOTERA ENGINEERED SOLUTIONS, LLC   \n",
       "1071788      194877197                      MAINE TRACK MAINTENANCE, INC.   \n",
       "1071789      194877072                   S P S MEDICAL SUPPLY CORPORATION   \n",
       "1071790      194854105                    MISSION INSTRUMENTS CORPORATION   \n",
       "1071791      194860813                      GENERAL DYNAMICS ORDNANCE AND   \n",
       "1071792      194854105                    MISSION INSTRUMENTS CORPORATION   \n",
       "1071793      194855847              ROBERT K. GREENLEAF CENTER, INC., THE   \n",
       "1071794      194860156                                       SBG LABS INC   \n",
       "1071795      194860743                  SCAFFOLDING TOWERS OF AMERICA LLC   \n",
       "1071796      194860813                      GENERAL DYNAMICS ORDNANCE AND   \n",
       "1071797      194860813                      GENERAL DYNAMICS ORDNANCE AND   \n",
       "1071798      194860813                      GENERAL DYNAMICS ORDNANCE AND   \n",
       "1071799      194874517                                  STEWART FELTY INC   \n",
       "1071800      194860813                      GENERAL DYNAMICS ORDNANCE AND   \n",
       "1071801      194860813                      GENERAL DYNAMICS ORDNANCE AND   \n",
       "1071802      194860813  GENERAL DYNAMICS ORDNANCE AND TACTICAL SYSTEMS...   \n",
       "1071803      194860813  GENERAL DYNAMICS ORDNANCE AND TACTICAL SYSTEMS...   \n",
       "1071804      194860813  GENERAL DYNAMICS ORDNANCE AND TACTICAL SYSTEMS...   \n",
       "1071805      194860813                       ST MARKS POWDER INCORPORATED   \n",
       "1071806      989994208            LIBERTY ENGINEERING & CONSTRUC TION LTD   \n",
       "\n",
       "        recipient_doing_business_as_name recipient_parent_duns  \\\n",
       "0                                    NaN            39277590.0   \n",
       "1                                    NaN            97537435.0   \n",
       "2                                    NaN            97537435.0   \n",
       "3                                    NaN            78745061.0   \n",
       "4                                    NaN           847412269.0   \n",
       "5                                    NaN           116057019.0   \n",
       "6                                    NaN            12430880.0   \n",
       "7                                    NaN           177667227.0   \n",
       "8                                    NaN            75553560.0   \n",
       "9                                    NaN           834951691.0   \n",
       "10                                   NaN             5070479.0   \n",
       "11                                   NaN            78857127.0   \n",
       "12                                   NaN           847412269.0   \n",
       "13                                   NaN             1672120.0   \n",
       "14                                   NaN            78745061.0   \n",
       "15                                   NaN           123456787.0   \n",
       "16                                   NaN             3197803.0   \n",
       "17                                   NaN           883533879.0   \n",
       "18                                   NaN           107910259.0   \n",
       "19                                   NaN           864346320.0   \n",
       "20                                   NaN           834951691.0   \n",
       "21                                   NaN             5103494.0   \n",
       "22                                   NaN            91235377.0   \n",
       "23                                   NaN           834951691.0   \n",
       "24                                   NaN           879817104.0   \n",
       "25                                   NaN             1408673.0   \n",
       "26                                   NaN           130368145.0   \n",
       "27                                   NaN           153531108.0   \n",
       "28                                   NaN             6090294.0   \n",
       "29                                   NaN           107910259.0   \n",
       "...                                  ...                   ...   \n",
       "1071777                              NaN             968002589   \n",
       "1071778                              NaN            59570937.0   \n",
       "1071779                              NaN           968002589.0   \n",
       "1071780                              NaN           968002589.0   \n",
       "1071781                              NaN            11141033.0   \n",
       "1071782                              NaN           968002589.0   \n",
       "1071783                              NaN             047578293   \n",
       "1071784                              NaN             968002589   \n",
       "1071785                              NaN             968002589   \n",
       "1071786                              NaN            59570937.0   \n",
       "1071787                              NaN           968002589.0   \n",
       "1071788                              NaN             194877197   \n",
       "1071789   SPS MEDICAL SUPPLY CORPORATION            11141033.0   \n",
       "1071790                              NaN           194854105.0   \n",
       "1071791                              NaN             1381284.0   \n",
       "1071792                              NaN           194854105.0   \n",
       "1071793                              NaN           194855847.0   \n",
       "1071794                              NaN           194860156.0   \n",
       "1071795                              NaN           194860743.0   \n",
       "1071796                              NaN             1381284.0   \n",
       "1071797                              NaN             1381284.0   \n",
       "1071798                              NaN             1381284.0   \n",
       "1071799                              NaN           194874517.0   \n",
       "1071800                              NaN             001381284   \n",
       "1071801                              NaN             001381284   \n",
       "1071802                              NaN             1381284.0   \n",
       "1071803                              NaN             1381284.0   \n",
       "1071804                              NaN             001381284   \n",
       "1071805                              NaN             001381284   \n",
       "1071806                              NaN             989994208   \n",
       "\n",
       "                                  recipient_parent_name  \\\n",
       "0                         AMERISOURCEBERGEN CORPORATION   \n",
       "1                                 CARDINAL HEALTH  INC.   \n",
       "2                                 CARDINAL HEALTH  INC.   \n",
       "3        SCIENCE APPLICATIONS INTERNATIONAL CORPORATION   \n",
       "4                                   OWENS & MINOR  INC.   \n",
       "5                                       SUPPLYCORE INC.   \n",
       "6                                    HENRY SCHEIN  INC.   \n",
       "7                                  MCKESSON CORPORATION   \n",
       "8              EASTERN CAROLINA VOCATIONAL CENTER  INC.   \n",
       "9                           LOCKHEED MARTIN CORPORATION   \n",
       "10                                     CATERPILLAR INC.   \n",
       "11                         ATLANTIC DIVING SUPPLY  INC.   \n",
       "12                                  OWENS & MINOR  INC.   \n",
       "13                    NATIONAL INDUSTRIES FOR THE BLIND   \n",
       "14       SCIENCE APPLICATIONS INTERNATIONAL CORPORATION   \n",
       "15                    MISCELLANEOUS FOREIGN CONTRACTORS   \n",
       "16                                  LC INDUSTRIES  INC.   \n",
       "17                        DMS PHARMACEUTICAL GROUP INC.   \n",
       "18                                NOBLE SALES CO.  INC.   \n",
       "19                                           ANHAM FZCO   \n",
       "20                          LOCKHEED MARTIN CORPORATION   \n",
       "21                                 W. W. GRAINGER  INC.   \n",
       "22                             WRIGHT TOOL COMPANY  LLC   \n",
       "23                          LOCKHEED MARTIN CORPORATION   \n",
       "24                               ROYAL FOOD SERVICE INC   \n",
       "25                        THERMO FISHER SCIENTIFIC INC.   \n",
       "26                                  FORESTWOOD FARM INC   \n",
       "27                                   OFFICE DEPOT  INC.   \n",
       "28                                 SNAP-ON INCORPORATED   \n",
       "29                                NOBLE SALES CO.  INC.   \n",
       "...                                                 ...   \n",
       "1071777                SOTERA ENGINEERED SOLUTIONS  LLC   \n",
       "1071778                     OUTDOOR VENTURE CORPORATION   \n",
       "1071779                SOTERA ENGINEERED SOLUTIONS  LLC   \n",
       "1071780                SOTERA ENGINEERED SOLUTIONS  LLC   \n",
       "1071781                            CANTEL MEDICAL CORP.   \n",
       "1071782                SOTERA ENGINEERED SOLUTIONS  LLC   \n",
       "1071783                SOTERA ENGINEERED SOLUTIONS  LLC   \n",
       "1071784                SOTERA ENGINEERED SOLUTIONS  LLC   \n",
       "1071785                SOTERA ENGINEERED SOLUTIONS  LLC   \n",
       "1071786                     OUTDOOR VENTURE CORPORATION   \n",
       "1071787                SOTERA ENGINEERED SOLUTIONS  LLC   \n",
       "1071788                   MAINE TRACK MAINTENANCE  INC.   \n",
       "1071789                            CANTEL MEDICAL CORP.   \n",
       "1071790                 MISSION INSTRUMENTS CORPORATION   \n",
       "1071791                    GENERAL DYNAMICS CORPORATION   \n",
       "1071792                 MISSION INSTRUMENTS CORPORATION   \n",
       "1071793           ROBERT K. GREENLEAF CENTER, INC., THE   \n",
       "1071794                                  SBG LABS, INC.   \n",
       "1071795               SCAFFOLDING TOWERS OF AMERICA LLC   \n",
       "1071796                    GENERAL DYNAMICS CORPORATION   \n",
       "1071797                    GENERAL DYNAMICS CORPORATION   \n",
       "1071798                    GENERAL DYNAMICS CORPORATION   \n",
       "1071799                             STEWART FELTY, INC.   \n",
       "1071800                    GENERAL DYNAMICS CORPORATION   \n",
       "1071801                    GENERAL DYNAMICS CORPORATION   \n",
       "1071802                    GENERAL DYNAMICS CORPORATION   \n",
       "1071803                    GENERAL DYNAMICS CORPORATION   \n",
       "1071804                    GENERAL DYNAMICS CORPORATION   \n",
       "1071805                    GENERAL DYNAMICS CORPORATION   \n",
       "1071806         LIBERTY ENGINEERING & CONSTRUC TION LTD   \n",
       "\n",
       "        recipient_country_code    recipient_country_name  \\\n",
       "0                          USA             UNITED STATES   \n",
       "1                          USA             UNITED STATES   \n",
       "2                          USA             UNITED STATES   \n",
       "3                          USA             UNITED STATES   \n",
       "4                          USA             UNITED STATES   \n",
       "5                          USA             UNITED STATES   \n",
       "6                          USA             UNITED STATES   \n",
       "7                          USA             UNITED STATES   \n",
       "8                          USA             UNITED STATES   \n",
       "9                          USA             UNITED STATES   \n",
       "10                         USA             UNITED STATES   \n",
       "11                         USA             UNITED STATES   \n",
       "12                         USA             UNITED STATES   \n",
       "13                         USA             UNITED STATES   \n",
       "14                         USA             UNITED STATES   \n",
       "15                         USA             UNITED STATES   \n",
       "16                         USA             UNITED STATES   \n",
       "17                         USA             UNITED STATES   \n",
       "18                         USA             UNITED STATES   \n",
       "19                         ARE      UNITED ARAB EMIRATES   \n",
       "20                         USA             UNITED STATES   \n",
       "21                         USA             UNITED STATES   \n",
       "22                         USA             UNITED STATES   \n",
       "23                         USA             UNITED STATES   \n",
       "24                         USA             UNITED STATES   \n",
       "25                         USA             UNITED STATES   \n",
       "26                         USA             UNITED STATES   \n",
       "27                         USA             UNITED STATES   \n",
       "28                         USA             UNITED STATES   \n",
       "29                         USA             UNITED STATES   \n",
       "...                        ...                       ...   \n",
       "1071777                    USA  UNITED STATES OF AMERICA   \n",
       "1071778                    USA  UNITED STATES OF AMERICA   \n",
       "1071779                    USA  UNITED STATES OF AMERICA   \n",
       "1071780                    USA             UNITED STATES   \n",
       "1071781                    USA             UNITED STATES   \n",
       "1071782                    USA  UNITED STATES OF AMERICA   \n",
       "1071783                    USA             UNITED STATES   \n",
       "1071784                    USA             UNITED STATES   \n",
       "1071785                    USA  UNITED STATES OF AMERICA   \n",
       "1071786                    USA             UNITED STATES   \n",
       "1071787                    USA  UNITED STATES OF AMERICA   \n",
       "1071788          UNITED STATES                       NaN   \n",
       "1071789                    USA  UNITED STATES OF AMERICA   \n",
       "1071790                    USA             UNITED STATES   \n",
       "1071791                    USA             UNITED STATES   \n",
       "1071792                    USA  UNITED STATES OF AMERICA   \n",
       "1071793                    USA  UNITED STATES OF AMERICA   \n",
       "1071794                    USA  UNITED STATES OF AMERICA   \n",
       "1071795                    USA             UNITED STATES   \n",
       "1071796          UNITED STATES                       NaN   \n",
       "1071797                    USA             UNITED STATES   \n",
       "1071798                    USA  UNITED STATES OF AMERICA   \n",
       "1071799                    USA             UNITED STATES   \n",
       "1071800          UNITED STATES                       NaN   \n",
       "1071801                    USA             UNITED STATES   \n",
       "1071802          UNITED STATES                       NaN   \n",
       "1071803                    USA  UNITED STATES OF AMERICA   \n",
       "1071804                    USA  UNITED STATES OF AMERICA   \n",
       "1071805                    USA  UNITED STATES OF AMERICA   \n",
       "1071806                    SSD               SOUTH SUDAN   \n",
       "\n",
       "                recipient_address_line_1 recipient_address_line_2  \\\n",
       "0                 1300 MORRIS DR STE 100                      NaN   \n",
       "1                      3651 BIRCHWOOD DR                      NaN   \n",
       "2                       1430 WAUKEGAN RD                      NaN   \n",
       "3                        155 PASSAIC AVE                      NaN   \n",
       "4                     9120 LOCKWOOD BLVD                      NaN   \n",
       "5                  303 N MAIN ST STE 800                      NaN   \n",
       "6                          135 DURYEA RD                      NaN   \n",
       "7                      3775 SEAPORT BLVD                      NaN   \n",
       "8                       2100 N GREENE ST                      NaN   \n",
       "9                  199 BORTON LANDING RD                      NaN   \n",
       "10              14009 OLD GALENA RD TC-A                      NaN   \n",
       "11            621 LYNNHAVEN PKWY STE 400                      NaN   \n",
       "12                    9120 LOCKWOOD BLVD                      NaN   \n",
       "13                      3000 POTOMAC AVE                      NaN   \n",
       "14                       155 PASSAIC AVE                      NaN   \n",
       "15                          1800 F ST NW                      NaN   \n",
       "16                     4500 EMPEROR BLVD                      NaN   \n",
       "17                         810 BUSSE HWY                      NaN   \n",
       "18                       302 WEYMOUTH ST                      NaN   \n",
       "19           DAFZA EAST WING, PHASE E4-A                      NaN   \n",
       "20                          6900 MAIN ST                      NaN   \n",
       "21                     100 GRAINGER PKWY                      NaN   \n",
       "22                      24680 MOUND ROAD                      NaN   \n",
       "23                 199 BORTON LANDING RD                      NaN   \n",
       "24           3720 ZIP INDUSTRIAL BLVD SE                      NaN   \n",
       "25                       300 INDUSTRY DR                      NaN   \n",
       "26                      4101 COALBURG RD                      NaN   \n",
       "27                      6304 WOODSIDE CT                      NaN   \n",
       "28                          2801 80TH ST                      NaN   \n",
       "29                      104 LONGWATER DR                      NaN   \n",
       "...                                  ...                      ...   \n",
       "1071777                   28712 GLEBE RD                      NaN   \n",
       "1071778                  2740 S HWY 1651                      NaN   \n",
       "1071779                   28712 GLEBE RD                      NaN   \n",
       "1071780                   28712 GLEBE RD                      NaN   \n",
       "1071781              6789 W HENRIETTA RD                      NaN   \n",
       "1071782                  2740 S HWY 1651                      NaN   \n",
       "1071783                   28712 GLEBE RD                      NaN   \n",
       "1071784                   28712 GLEBE RD                      NaN   \n",
       "1071785                   28712 GLEBE RD                      NaN   \n",
       "1071786                  2740 S HWY 1651                      NaN   \n",
       "1071787                   28712 GLEBE RD                      NaN   \n",
       "1071788                     212 FRONT ST                      NaN   \n",
       "1071789              6789 W HENRIETTA RD                      NaN   \n",
       "1071790                   2050 E 17TH ST                      NaN   \n",
       "1071791        11399 16TH COURT N - SUIT                      NaN   \n",
       "1071792                   2050 E 17TH ST                      NaN   \n",
       "1071793                 770 PAWTUCKET DR                      NaN   \n",
       "1071794              1288 HAMMERWOOD AVE                      NaN   \n",
       "1071795                    3 SMALLEY AVE                      NaN   \n",
       "1071796       11399 16TH COURT N  - SUIT                      NaN   \n",
       "1071797        10101 DR  M L  KING ST  N                      NaN   \n",
       "1071798       11399 16TH COURT N  - SUIT                      NaN   \n",
       "1071799               4985 RICHMOND ROAD                      NaN   \n",
       "1071800       11399 16TH COURT N  - SUIT                      NaN   \n",
       "1071801        11399 16TH COURT N - SUIT                      NaN   \n",
       "1071802          11399 16TH CT N STE 200                      NaN   \n",
       "1071803          11399 16TH CT N STE 200                      NaN   \n",
       "1071804          11399 16TH CT N STE 200                      NaN   \n",
       "1071805  11399 16TH COURT N. - SUITE 200                      NaN   \n",
       "1071806                      BILPAM ROAD                      NaN   \n",
       "\n",
       "        recipient_city_name recipient_state_code  recipient_state_name  \\\n",
       "0              CHESTERBROOK                   PA          PENNSYLVANIA   \n",
       "1                  WAUKEGAN                   IL              ILLINOIS   \n",
       "2                  WAUKEGAN                   IL              ILLINOIS   \n",
       "3                 FAIRFIELD                   NJ            NEW JERSEY   \n",
       "4            MECHANICSVILLE                   VA              VIRGINIA   \n",
       "5                  ROCKFORD                   IL              ILLINOIS   \n",
       "6                  MELVILLE                   NY              NEW YORK   \n",
       "7           WEST SACRAMENTO                   CA            CALIFORNIA   \n",
       "8                GREENVILLE                   NC        NORTH CAROLINA   \n",
       "9                MOORESTOWN                   NJ            NEW JERSEY   \n",
       "10                MOSSVILLE                   IL              ILLINOIS   \n",
       "11           VIRGINIA BEACH                   VA              VIRGINIA   \n",
       "12           MECHANICSVILLE                   VA              VIRGINIA   \n",
       "13               ALEXANDRIA                   VA              VIRGINIA   \n",
       "14                FAIRFIELD                   NJ            NEW JERSEY   \n",
       "15               WASHINGTON                   DC  DISTRICT OF COLUMBIA   \n",
       "16                   DURHAM                   NC        NORTH CAROLINA   \n",
       "17               PARK RIDGE                   IL              ILLINOIS   \n",
       "18                 ROCKLAND                   MA         MASSACHUSETTS   \n",
       "19                    DUBAI                  NaN                   NaN   \n",
       "20                STRATFORD                   CT           CONNECTICUT   \n",
       "21              LAKE FOREST                   IL              ILLINOIS   \n",
       "22                   WARREN                   MI              MICHIGAN   \n",
       "23               MOORESTOWN                   NJ            NEW JERSEY   \n",
       "24                  ATLANTA                   GA               GEORGIA   \n",
       "25               PITTSBURGH                   PA          PENNSYLVANIA   \n",
       "26               BIRMINGHAM                   AL               ALABAMA   \n",
       "27                 COLUMBIA                   MD              MARYLAND   \n",
       "28                  KENOSHA                   WI             WISCONSIN   \n",
       "29                  NORWELL                   MA         MASSACHUSETTS   \n",
       "...                     ...                  ...                   ...   \n",
       "1071777              EASTON                   MD              MARYLAND   \n",
       "1071778             STEARNS                   KY              KENTUCKY   \n",
       "1071779              EASTON                   MD              MARYLAND   \n",
       "1071780              EASTON                   MD              MARYLAND   \n",
       "1071781                RUSH                   NY              NEW YORK   \n",
       "1071782             STEARNS                   KY              KENTUCKY   \n",
       "1071783              EASTON                   MD              MARYLAND   \n",
       "1071784              EASTON                   MD              MARYLAND   \n",
       "1071785              EASTON                   MD              MARYLAND   \n",
       "1071786             STEARNS                   KY              KENTUCKY   \n",
       "1071787              EASTON                   MD              MARYLAND   \n",
       "1071788      SOUTH PORTLAND                   ME                   NaN   \n",
       "1071789                RUSH                   NY              NEW YORK   \n",
       "1071790              TUCSON                   AZ               ARIZONA   \n",
       "1071791      SAINT PETERSBU                   FL               FLORIDA   \n",
       "1071792              TUCSON                   AZ               ARIZONA   \n",
       "1071793           WESTFIELD                   IN               INDIANA   \n",
       "1071794           SUNNYVALE                   CA            CALIFORNIA   \n",
       "1071795           MIDDLESEX                   NJ            NEW JERSEY   \n",
       "1071796      SAINT PETERSBU                   FL                   NaN   \n",
       "1071797      SAINT PETERSBU                   FL               FLORIDA   \n",
       "1071798      SAINT PETERSBU                   FL               FLORIDA   \n",
       "1071799             KESWICK                   VA              VIRGINIA   \n",
       "1071800      SAINT PETERSBU                   FL                   NaN   \n",
       "1071801      SAINT PETERSBU                   FL               FLORIDA   \n",
       "1071802    SAINT PETERSBURG                   FL                   NaN   \n",
       "1071803    SAINT PETERSBURG                   FL               FLORIDA   \n",
       "1071804    SAINT PETERSBURG                   FL               FLORIDA   \n",
       "1071805    SAINT PETERSBURG                   FL               FLORIDA   \n",
       "1071806                JUBA                  NaN                   NaN   \n",
       "\n",
       "        recipient_zip_4_code recipient_congressional_district  \\\n",
       "0                  190875559                              6.0   \n",
       "1                  600858337                             10.0   \n",
       "2                  600856726                             10.0   \n",
       "3                  070043561                             11.0   \n",
       "4                  231162015                              1.0   \n",
       "5                  611011199                             17.0   \n",
       "6                  117473824                              3.0   \n",
       "7                  956913558                              6.0   \n",
       "8                  278349050                              1.0   \n",
       "9                  080573054                              3.0   \n",
       "10                 615527547                             18.0   \n",
       "11                 234527448                              2.0   \n",
       "12                 231162015                              7.0   \n",
       "13                 223053084                              8.0   \n",
       "14                 070043561                             11.0   \n",
       "15                 204050001                              0.0   \n",
       "16                 277038420                              4.0   \n",
       "17                 600682302                              9.0   \n",
       "18                 023701171                              9.0   \n",
       "19                       NaN                              NaN   \n",
       "20                 066141378                              3.0   \n",
       "21                 600455202                             10.0   \n",
       "22                 480912036                              9.0   \n",
       "23                 080573054                              3.0   \n",
       "24                 303542937                              5.0   \n",
       "25                 152751001                             18.0   \n",
       "26                 352073180                              7.0   \n",
       "27                 210463216                              3.0   \n",
       "28                 531435656                              1.0   \n",
       "29                 020611625                              9.0   \n",
       "...                      ...                              ...   \n",
       "1071777                21601                              NaN   \n",
       "1071778                42647                              NaN   \n",
       "1071779                21601                              NaN   \n",
       "1071780            216017431                              1.0   \n",
       "1071781            145439735                             27.0   \n",
       "1071782                42647                              NaN   \n",
       "1071783            216017431                               01   \n",
       "1071784            216017431                               01   \n",
       "1071785                21601                              NaN   \n",
       "1071786                42647                              5.0   \n",
       "1071787                21601                              NaN   \n",
       "1071788            041061508                             ME01   \n",
       "1071789                14543                              NaN   \n",
       "1071790            857196948                              2.0   \n",
       "1071791                33716                             10.0   \n",
       "1071792                85719                              NaN   \n",
       "1071793                46074                              NaN   \n",
       "1071794                94089                              NaN   \n",
       "1071795            088462231                             12.0   \n",
       "1071796                33716                             FL10   \n",
       "1071797                33716                             10.0   \n",
       "1071798                33716                              NaN   \n",
       "1071799            229473109                              5.0   \n",
       "1071800                33716                             FL10   \n",
       "1071801                33716                               10   \n",
       "1071802            337162328                             FL13   \n",
       "1071803                33716                              NaN   \n",
       "1071804                33716                              NaN   \n",
       "1071805                33716                              NaN   \n",
       "1071806                  NaN                              NaN   \n",
       "\n",
       "        recipient_phone_number recipient_fax_number  recipient_count  \n",
       "0                   8002708464           8045531040          1464793  \n",
       "1                   8477854883                  NaN           795729  \n",
       "2                   8478876146           6144955630           484305  \n",
       "3                   9738084792                  NaN           457627  \n",
       "4                   8047237897           8047237108           396665  \n",
       "5                   8159971633           8159975033           357518  \n",
       "6                   8008510400           6313908171           209560  \n",
       "7                   9724464947           9724465337           178770  \n",
       "8                   2527584188           2528301260           175653  \n",
       "9                   8567224604           8567224619           172753  \n",
       "10                  3095786941           3095783739           155803  \n",
       "11                  7579658347           7574403007           145456  \n",
       "12                  8047237897           8047237124           127342  \n",
       "13                  7033100330           7033100494           120637  \n",
       "14                  9738084793                  NaN           118935  \n",
       "15                  2022159767                  NaN           112400  \n",
       "16                  9195968277           9195981179           109269  \n",
       "17                  8475181100           8475181105            94032  \n",
       "18                  7818711911           7818717449            93956  \n",
       "19                  7034483777           7034484443            92885  \n",
       "20                  2033865105           8606609913            92525  \n",
       "21                  8475596349           8776994881            91531  \n",
       "22                  2486436666           2486436530            91469  \n",
       "23                  8567224240           8567224619            90492  \n",
       "24                  4043664299           6786862245            84146  \n",
       "25                  8007667000           8009261166            83101  \n",
       "26                  2052524139           2053241054            77711  \n",
       "27                         NaN                  NaN            76858  \n",
       "28                  8884185600           8884185900            75665  \n",
       "29                         NaN                  NaN            71495  \n",
       "...                        ...                  ...              ...  \n",
       "1071777             4108209140           4108200662                1  \n",
       "1071778             6063765021                  NaN                1  \n",
       "1071779             3016060164                  NaN                1  \n",
       "1071780             4108209140           4108200662                1  \n",
       "1071781             5853590130           5853590167                1  \n",
       "1071782             6063765021                  NaN                1  \n",
       "1071783             4108209140           4108200662                1  \n",
       "1071784             4108209140           4108200662                1  \n",
       "1071785             4108209140           4108200662                1  \n",
       "1071786             3016060164                  NaN                1  \n",
       "1071787             3016060164                  NaN                1  \n",
       "1071788             2077676070           2077677125                1  \n",
       "1071789                    NaN                  NaN                1  \n",
       "1071790             5207219242           5207216697                1  \n",
       "1071791                    NaN                  NaN                1  \n",
       "1071792             5207219242           5207216697                1  \n",
       "1071793             3176698050           3176698055                1  \n",
       "1071794             6507932695           4087340239                1  \n",
       "1071795         (732) 752-3500                  NaN                1  \n",
       "1071796                    NaN                  NaN                1  \n",
       "1071797                    NaN                  NaN                1  \n",
       "1071798                    NaN                  NaN                1  \n",
       "1071799             4349877866                  NaN                1  \n",
       "1071800                    NaN                  NaN                1  \n",
       "1071801                    NaN                  NaN                1  \n",
       "1071802                    NaN                  NaN                1  \n",
       "1071803                    NaN                  NaN                1  \n",
       "1071804                    NaN                  NaN                1  \n",
       "1071805                    NaN                  NaN                1  \n",
       "1071806                    NaN                  NaN                1  \n",
       "\n",
       "[1071807 rows x 17 columns]"
      ]
     },
     "execution_count": 6,
     "metadata": {},
     "output_type": "execute_result"
    }
   ],
   "source": [
    "df"
   ]
  },
  {
   "cell_type": "code",
   "execution_count": 5,
   "metadata": {},
   "outputs": [
    {
     "data": {
      "text/plain": [
       "Index(['recipient_duns', 'recipient_name', 'recipient_doing_business_as_name',\n",
       "       'recipient_parent_duns', 'recipient_parent_name',\n",
       "       'recipient_country_code', 'recipient_country_name',\n",
       "       'recipient_address_line_1', 'recipient_address_line_2',\n",
       "       'recipient_city_name', 'recipient_state_code', 'recipient_state_name',\n",
       "       'recipient_zip_4_code', 'recipient_congressional_district',\n",
       "       'recipient_phone_number', 'recipient_fax_number', 'recipient_count'],\n",
       "      dtype='object')"
      ]
     },
     "execution_count": 5,
     "metadata": {},
     "output_type": "execute_result"
    }
   ],
   "source": [
    "df.columns"
   ]
  },
  {
   "cell_type": "code",
   "execution_count": null,
   "metadata": {},
   "outputs": [],
   "source": [
    "import numpy as np"
   ]
  },
  {
   "cell_type": "code",
   "execution_count": null,
   "metadata": {},
   "outputs": [],
   "source": [
    "df = (df.fillna('')\\\n",
    "      .groupby(df.columns.tolist()).apply(len)\\\n",
    "      .rename('group_count')\\\n",
    "      .reset_index()\\\n",
    "      .replace('',np.nan)\\\n",
    "      .sort_values(by = ['group_count'], ascending = False))"
   ]
  },
  {
   "cell_type": "code",
   "execution_count": null,
   "metadata": {},
   "outputs": [],
   "source": [
    "df"
   ]
  },
  {
   "cell_type": "code",
   "execution_count": null,
   "metadata": {},
   "outputs": [],
   "source": [
    "df.recipient_name = string_handlers.get_cleaned_series(df.recipient_name)\n",
    "df.recipient_parent_name = string_handlers.get_cleaned_series(df.recipient_parent_name)"
   ]
  },
  {
   "cell_type": "code",
   "execution_count": null,
   "metadata": {},
   "outputs": [],
   "source": [
    "len(df.recipient_name.unique())"
   ]
  },
  {
   "cell_type": "code",
   "execution_count": null,
   "metadata": {},
   "outputs": [],
   "source": [
    "len(df.recipient_parent_name.unique())"
   ]
  },
  {
   "cell_type": "code",
   "execution_count": null,
   "metadata": {},
   "outputs": [],
   "source": [
    "# only leaves strings and some space\n",
    "df.recipient_name = string_handlers.get_better_cleaned_series(df.recipient_name)\n",
    "df.recipient_parent_name = string_handlers.get_better_cleaned_series(df.recipient_parent_name)"
   ]
  },
  {
   "cell_type": "code",
   "execution_count": null,
   "metadata": {},
   "outputs": [],
   "source": [
    "len(df.recipient_name.unique())"
   ]
  },
  {
   "cell_type": "code",
   "execution_count": null,
   "metadata": {},
   "outputs": [],
   "source": [
    "len(df.recipient_parent_name.unique())"
   ]
  },
  {
   "cell_type": "code",
   "execution_count": null,
   "metadata": {},
   "outputs": [],
   "source": [
    "df.head()"
   ]
  },
  {
   "cell_type": "code",
   "execution_count": null,
   "metadata": {},
   "outputs": [],
   "source": [
    "parent_counts = df.groupby(['recipient_name'])['recipient_parent_name'].nunique()"
   ]
  },
  {
   "cell_type": "code",
   "execution_count": null,
   "metadata": {
    "scrolled": false
   },
   "outputs": [],
   "source": [
    "parent_counts[parent_counts >= 5]"
   ]
  },
  {
   "cell_type": "code",
   "execution_count": null,
   "metadata": {},
   "outputs": [],
   "source": [
    "df[df.recipient_name == 'DYNCORP'].recipient_parent_name.unique()"
   ]
  },
  {
   "cell_type": "markdown",
   "metadata": {},
   "source": [
    "# Some Analysis on the Data - Frequent words/companies"
   ]
  },
  {
   "cell_type": "code",
   "execution_count": null,
   "metadata": {},
   "outputs": [],
   "source": [
    "from nltk.probability import FreqDist"
   ]
  },
  {
   "cell_type": "code",
   "execution_count": null,
   "metadata": {},
   "outputs": [],
   "source": [
    "FreqDist(df.recipient_name)"
   ]
  },
  {
   "cell_type": "code",
   "execution_count": null,
   "metadata": {},
   "outputs": [],
   "source": [
    "FreqDist(df.recipient_parent_name)"
   ]
  },
  {
   "cell_type": "code",
   "execution_count": null,
   "metadata": {},
   "outputs": [],
   "source": [
    "child_tokens = df.recipient_name.str.split()\n",
    "child_tokens = [item for sublist in child_tokens for item in sublist]\n",
    "parent_tokens = df.recipient_parent_name.str.split()\n",
    "parent_tokens = [item for sublist in parent_tokens for item in sublist]"
   ]
  },
  {
   "cell_type": "code",
   "execution_count": null,
   "metadata": {},
   "outputs": [],
   "source": [
    "FreqDist(child_tokens)"
   ]
  },
  {
   "cell_type": "code",
   "execution_count": null,
   "metadata": {},
   "outputs": [],
   "source": [
    "FreqDist(parent_tokens)"
   ]
  },
  {
   "cell_type": "code",
   "execution_count": null,
   "metadata": {},
   "outputs": [],
   "source": [
    "FreqDist(child_tokens + parent_tokens)"
   ]
  }
 ],
 "metadata": {
  "kernelspec": {
   "display_name": "Python 3",
   "language": "python",
   "name": "python3"
  },
  "language_info": {
   "codemirror_mode": {
    "name": "ipython",
    "version": 3
   },
   "file_extension": ".py",
   "mimetype": "text/x-python",
   "name": "python",
   "nbconvert_exporter": "python",
   "pygments_lexer": "ipython3",
   "version": "3.7.3"
  }
 },
 "nbformat": 4,
 "nbformat_minor": 1
}
