{
 "cells": [
  {
   "cell_type": "code",
   "execution_count": 1,
   "metadata": {},
   "outputs": [],
   "source": [
    "from src import csv_handlers, data_retrieval, string_handlers, data_handlers, matrix_ops\n",
    "import numpy as np\n",
    "import pandas as pd\n",
    "from nltk.text import TextCollection\n",
    "from sklearn.feature_extraction.text import TfidfVectorizer\n",
    "from sklearn.metrics.pairwise import linear_kernel\n",
    "import seaborn as sns\n",
    "from scipy import sparse\n",
    "from datetime import datetime\n",
    "import asyncio"
   ]
  },
  {
   "cell_type": "markdown",
   "metadata": {},
   "source": [
    "# Load Preprocessed DataFrames\n",
    "\n",
    "Load the prepocessed Data Frames provided by:\n",
    "- US Government \n",
    "- Chair of Financial Management and Capital Markets \n",
    "\n",
    "Preprocessing includes:\n",
    "- Dropping duplicates\n",
    "- Apply Regex patterns\n",
    "- Correction of the addresses"
   ]
  },
  {
   "cell_type": "code",
   "execution_count": 3,
   "metadata": {},
   "outputs": [
    {
     "data": {
      "text/plain": [
       "(6194685, 29)"
      ]
     },
     "execution_count": 3,
     "metadata": {},
     "output_type": "execute_result"
    }
   ],
   "source": [
    "usa_df = pd.read_csv('processed_usa.csv', low_memory = False)\n",
    "usa_df.shape"
   ]
  },
  {
   "cell_type": "markdown",
   "metadata": {},
   "source": [
    "## Characteristics of the US Government DF"
   ]
  },
  {
   "cell_type": "code",
   "execution_count": 4,
   "metadata": {},
   "outputs": [
    {
     "data": {
      "text/html": [
       "<div>\n",
       "<style scoped>\n",
       "    .dataframe tbody tr th:only-of-type {\n",
       "        vertical-align: middle;\n",
       "    }\n",
       "\n",
       "    .dataframe tbody tr th {\n",
       "        vertical-align: top;\n",
       "    }\n",
       "\n",
       "    .dataframe thead th {\n",
       "        text-align: right;\n",
       "    }\n",
       "</style>\n",
       "<table border=\"1\" class=\"dataframe\">\n",
       "  <thead>\n",
       "    <tr style=\"text-align: right;\">\n",
       "      <th></th>\n",
       "      <th>recipient_duns</th>\n",
       "      <th>recipient_name</th>\n",
       "      <th>recipient_doing_business_as_name</th>\n",
       "      <th>recipient_parent_duns</th>\n",
       "      <th>recipient_parent_name</th>\n",
       "      <th>recipient_country_code</th>\n",
       "      <th>recipient_country_name</th>\n",
       "      <th>recipient_address_line_1</th>\n",
       "      <th>recipient_address_line_2</th>\n",
       "      <th>recipient_city_name</th>\n",
       "      <th>...</th>\n",
       "      <th>recipient_zip_code</th>\n",
       "      <th>recipient_zip_last_4_code</th>\n",
       "      <th>recipient_foreign_city_name</th>\n",
       "      <th>recipient_foreign_province_name</th>\n",
       "      <th>recipient_foreign_postal_code</th>\n",
       "      <th>clean_recipient_name</th>\n",
       "      <th>clean_recipient_parent_name</th>\n",
       "      <th>clean_recipient_doing_business_as_name</th>\n",
       "      <th>recipient_state_fixed</th>\n",
       "      <th>recipient_address_line_fixed</th>\n",
       "    </tr>\n",
       "  </thead>\n",
       "  <tbody>\n",
       "    <tr>\n",
       "      <th>0</th>\n",
       "      <td>825313153</td>\n",
       "      <td>BLUEWATER MANAGEMENT GROUP, LLC</td>\n",
       "      <td>NaN</td>\n",
       "      <td>825313153.0</td>\n",
       "      <td>BLUEWATER MANAGEMENT GROUP  LLC</td>\n",
       "      <td>USA</td>\n",
       "      <td>UNITED STATES</td>\n",
       "      <td>9642 28TH BAY ST</td>\n",
       "      <td>NaN</td>\n",
       "      <td>NORFOLK</td>\n",
       "      <td>...</td>\n",
       "      <td>NaN</td>\n",
       "      <td>NaN</td>\n",
       "      <td>NaN</td>\n",
       "      <td>NaN</td>\n",
       "      <td>NaN</td>\n",
       "      <td>BLUEWATER MGMT GRP LLC</td>\n",
       "      <td>BLUEWATER MGMT GRP LLC</td>\n",
       "      <td>NaN</td>\n",
       "      <td>VIRGINIA</td>\n",
       "      <td>9642 28TH BAY SAINT</td>\n",
       "    </tr>\n",
       "    <tr>\n",
       "      <th>1</th>\n",
       "      <td>534640179</td>\n",
       "      <td>MIRAAT AL RIYADH COMPANY</td>\n",
       "      <td>NaN</td>\n",
       "      <td>534640179.0</td>\n",
       "      <td>MIRAAT AL RIYADH COMPANY</td>\n",
       "      <td>SAU</td>\n",
       "      <td>SAUDI ARABIA</td>\n",
       "      <td>AISHAH BINT ABI BAKR</td>\n",
       "      <td>NaN</td>\n",
       "      <td>RIYADH</td>\n",
       "      <td>...</td>\n",
       "      <td>NaN</td>\n",
       "      <td>NaN</td>\n",
       "      <td>NaN</td>\n",
       "      <td>NaN</td>\n",
       "      <td>NaN</td>\n",
       "      <td>MIRAAT AL RIYADH CO</td>\n",
       "      <td>MIRAAT AL RIYADH CO</td>\n",
       "      <td>NaN</td>\n",
       "      <td>NaN</td>\n",
       "      <td>AISHAH BINT ABI BAKR</td>\n",
       "    </tr>\n",
       "    <tr>\n",
       "      <th>2</th>\n",
       "      <td>58311945</td>\n",
       "      <td>HOWMEDICA OSTEONICS CORP.</td>\n",
       "      <td>NaN</td>\n",
       "      <td>5373089.0</td>\n",
       "      <td>STRYKER CORPORATION</td>\n",
       "      <td>USA</td>\n",
       "      <td>UNITED STATES</td>\n",
       "      <td>325 CORPORATE DR</td>\n",
       "      <td>NaN</td>\n",
       "      <td>MAHWAH</td>\n",
       "      <td>...</td>\n",
       "      <td>NaN</td>\n",
       "      <td>NaN</td>\n",
       "      <td>NaN</td>\n",
       "      <td>NaN</td>\n",
       "      <td>NaN</td>\n",
       "      <td>HOWMEDICA OSTEONICS CORP</td>\n",
       "      <td>STRYKER CORP</td>\n",
       "      <td>NaN</td>\n",
       "      <td>NEW JERSEY</td>\n",
       "      <td>325 CORPORATE DOCTOR</td>\n",
       "    </tr>\n",
       "    <tr>\n",
       "      <th>3</th>\n",
       "      <td>691754543</td>\n",
       "      <td>COCA-COLA EAST JAPAN CO., LTD.</td>\n",
       "      <td>NaN</td>\n",
       "      <td>691754543.0</td>\n",
       "      <td>COCA-COLA CENTRAL JAPAN CO.  LTD.</td>\n",
       "      <td>JPN</td>\n",
       "      <td>JAPAN</td>\n",
       "      <td>6-1-20, AKASAKA</td>\n",
       "      <td>KOKUSAI SHIN-AKASAKA WEST BUILDING,</td>\n",
       "      <td>MINATO-KU</td>\n",
       "      <td>...</td>\n",
       "      <td>NaN</td>\n",
       "      <td>NaN</td>\n",
       "      <td>NaN</td>\n",
       "      <td>NaN</td>\n",
       "      <td>NaN</td>\n",
       "      <td>COCA COLA EAST JAPAN CO LTD</td>\n",
       "      <td>COCA COLA CENTRAL JAPAN CO LTD</td>\n",
       "      <td>NaN</td>\n",
       "      <td>NaN</td>\n",
       "      <td>6-1-20 AKASAKA KOKUSAI SHIN-AKASAKA WEST BUILDING</td>\n",
       "    </tr>\n",
       "    <tr>\n",
       "      <th>4</th>\n",
       "      <td>148983229</td>\n",
       "      <td>SCIENCE APPLICATIONS INTERNATIONAL CORPORATION</td>\n",
       "      <td>NaN</td>\n",
       "      <td>78745061.0</td>\n",
       "      <td>SCIENCE APPLICATIONS INTERNATIONAL CORPORATION</td>\n",
       "      <td>USA</td>\n",
       "      <td>UNITED STATES</td>\n",
       "      <td>155 PASSAIC AVE</td>\n",
       "      <td>NaN</td>\n",
       "      <td>FAIRFIELD</td>\n",
       "      <td>...</td>\n",
       "      <td>NaN</td>\n",
       "      <td>NaN</td>\n",
       "      <td>NaN</td>\n",
       "      <td>NaN</td>\n",
       "      <td>NaN</td>\n",
       "      <td>SCIENCE APPLICATIONS INTL CORP</td>\n",
       "      <td>SCIENCE APPLICATIONS INTL CORP</td>\n",
       "      <td>NaN</td>\n",
       "      <td>NEW JERSEY</td>\n",
       "      <td>155 PASSAIC AVENUE</td>\n",
       "    </tr>\n",
       "  </tbody>\n",
       "</table>\n",
       "<p>5 rows × 29 columns</p>\n",
       "</div>"
      ],
      "text/plain": [
       "  recipient_duns                                  recipient_name  \\\n",
       "0      825313153                 BLUEWATER MANAGEMENT GROUP, LLC   \n",
       "1      534640179                        MIRAAT AL RIYADH COMPANY   \n",
       "2       58311945                       HOWMEDICA OSTEONICS CORP.   \n",
       "3      691754543                  COCA-COLA EAST JAPAN CO., LTD.   \n",
       "4      148983229  SCIENCE APPLICATIONS INTERNATIONAL CORPORATION   \n",
       "\n",
       "  recipient_doing_business_as_name recipient_parent_duns  \\\n",
       "0                              NaN           825313153.0   \n",
       "1                              NaN           534640179.0   \n",
       "2                              NaN             5373089.0   \n",
       "3                              NaN           691754543.0   \n",
       "4                              NaN            78745061.0   \n",
       "\n",
       "                            recipient_parent_name recipient_country_code  \\\n",
       "0                 BLUEWATER MANAGEMENT GROUP  LLC                    USA   \n",
       "1                        MIRAAT AL RIYADH COMPANY                    SAU   \n",
       "2                             STRYKER CORPORATION                    USA   \n",
       "3               COCA-COLA CENTRAL JAPAN CO.  LTD.                    JPN   \n",
       "4  SCIENCE APPLICATIONS INTERNATIONAL CORPORATION                    USA   \n",
       "\n",
       "  recipient_country_name recipient_address_line_1  \\\n",
       "0          UNITED STATES         9642 28TH BAY ST   \n",
       "1           SAUDI ARABIA     AISHAH BINT ABI BAKR   \n",
       "2          UNITED STATES         325 CORPORATE DR   \n",
       "3                  JAPAN          6-1-20, AKASAKA   \n",
       "4          UNITED STATES          155 PASSAIC AVE   \n",
       "\n",
       "              recipient_address_line_2 recipient_city_name  ...  \\\n",
       "0                                  NaN             NORFOLK  ...   \n",
       "1                                  NaN              RIYADH  ...   \n",
       "2                                  NaN              MAHWAH  ...   \n",
       "3  KOKUSAI SHIN-AKASAKA WEST BUILDING,           MINATO-KU  ...   \n",
       "4                                  NaN           FAIRFIELD  ...   \n",
       "\n",
       "  recipient_zip_code recipient_zip_last_4_code recipient_foreign_city_name  \\\n",
       "0                NaN                       NaN                         NaN   \n",
       "1                NaN                       NaN                         NaN   \n",
       "2                NaN                       NaN                         NaN   \n",
       "3                NaN                       NaN                         NaN   \n",
       "4                NaN                       NaN                         NaN   \n",
       "\n",
       "  recipient_foreign_province_name recipient_foreign_postal_code  \\\n",
       "0                             NaN                           NaN   \n",
       "1                             NaN                           NaN   \n",
       "2                             NaN                           NaN   \n",
       "3                             NaN                           NaN   \n",
       "4                             NaN                           NaN   \n",
       "\n",
       "             clean_recipient_name     clean_recipient_parent_name  \\\n",
       "0          BLUEWATER MGMT GRP LLC          BLUEWATER MGMT GRP LLC   \n",
       "1             MIRAAT AL RIYADH CO             MIRAAT AL RIYADH CO   \n",
       "2        HOWMEDICA OSTEONICS CORP                    STRYKER CORP   \n",
       "3     COCA COLA EAST JAPAN CO LTD  COCA COLA CENTRAL JAPAN CO LTD   \n",
       "4  SCIENCE APPLICATIONS INTL CORP  SCIENCE APPLICATIONS INTL CORP   \n",
       "\n",
       "   clean_recipient_doing_business_as_name recipient_state_fixed  \\\n",
       "0                                     NaN              VIRGINIA   \n",
       "1                                     NaN                   NaN   \n",
       "2                                     NaN            NEW JERSEY   \n",
       "3                                     NaN                   NaN   \n",
       "4                                     NaN            NEW JERSEY   \n",
       "\n",
       "                        recipient_address_line_fixed  \n",
       "0                                9642 28TH BAY SAINT  \n",
       "1                               AISHAH BINT ABI BAKR  \n",
       "2                               325 CORPORATE DOCTOR  \n",
       "3  6-1-20 AKASAKA KOKUSAI SHIN-AKASAKA WEST BUILDING  \n",
       "4                                 155 PASSAIC AVENUE  \n",
       "\n",
       "[5 rows x 29 columns]"
      ]
     },
     "execution_count": 4,
     "metadata": {},
     "output_type": "execute_result"
    }
   ],
   "source": [
    "usa_df.head()"
   ]
  },
  {
   "cell_type": "code",
   "execution_count": 5,
   "metadata": {},
   "outputs": [
    {
     "data": {
      "text/plain": [
       "recipient_duns                            4659322\n",
       "recipient_name                            6193360\n",
       "recipient_doing_business_as_name           223131\n",
       "recipient_parent_duns                     3262856\n",
       "recipient_parent_name                     3190931\n",
       "recipient_country_code                    5400560\n",
       "recipient_country_name                    3817797\n",
       "recipient_address_line_1                  5407523\n",
       "recipient_address_line_2                   441468\n",
       "recipient_city_name                       6061719\n",
       "recipient_state_code                      5991718\n",
       "recipient_state_name                      4598236\n",
       "recipient_zip_4_code                      2731517\n",
       "recipient_congressional_district          5402585\n",
       "recipient_phone_number                    1453475\n",
       "recipient_fax_number                      1322066\n",
       "recipient_city_code                       3073194\n",
       "recipient_county_code                     3331958\n",
       "recipient_county_name                     3320655\n",
       "recipient_zip_code                        3208097\n",
       "recipient_zip_last_4_code                 2568760\n",
       "recipient_foreign_city_name                 17565\n",
       "recipient_foreign_province_name              2687\n",
       "recipient_foreign_postal_code                2032\n",
       "clean_recipient_name                      6193352\n",
       "clean_recipient_parent_name               3190931\n",
       "clean_recipient_doing_business_as_name     223113\n",
       "recipient_state_fixed                     5976579\n",
       "recipient_address_line_fixed              5411369\n",
       "dtype: int64"
      ]
     },
     "execution_count": 5,
     "metadata": {},
     "output_type": "execute_result"
    }
   ],
   "source": [
    "usa_df.notnull().sum()"
   ]
  },
  {
   "cell_type": "markdown",
   "metadata": {},
   "source": [
    "## Characteristics of the Chair of Financial Management and Capital Markets DF\n"
   ]
  },
  {
   "cell_type": "code",
   "execution_count": 6,
   "metadata": {
    "scrolled": true
   },
   "outputs": [
    {
     "data": {
      "text/plain": [
       "(28816, 12)"
      ]
     },
     "execution_count": 6,
     "metadata": {},
     "output_type": "execute_result"
    }
   ],
   "source": [
    "chair_df = pd.read_csv('processed_chair.csv', low_memory = False)"
   ]
  },
  {
   "cell_type": "code",
   "execution_count": 7,
   "metadata": {},
   "outputs": [
    {
     "data": {
      "text/html": [
       "<div>\n",
       "<style scoped>\n",
       "    .dataframe tbody tr th:only-of-type {\n",
       "        vertical-align: middle;\n",
       "    }\n",
       "\n",
       "    .dataframe tbody tr th {\n",
       "        vertical-align: top;\n",
       "    }\n",
       "\n",
       "    .dataframe thead th {\n",
       "        text-align: right;\n",
       "    }\n",
       "</style>\n",
       "<table border=\"1\" class=\"dataframe\">\n",
       "  <thead>\n",
       "    <tr style=\"text-align: right;\">\n",
       "      <th></th>\n",
       "      <th>gvkey</th>\n",
       "      <th>conm</th>\n",
       "      <th>conml</th>\n",
       "      <th>state</th>\n",
       "      <th>add1</th>\n",
       "      <th>add2</th>\n",
       "      <th>add3</th>\n",
       "      <th>add4</th>\n",
       "      <th>addzip</th>\n",
       "      <th>state_fixed</th>\n",
       "      <th>add_fixed</th>\n",
       "      <th>cleaned</th>\n",
       "    </tr>\n",
       "  </thead>\n",
       "  <tbody>\n",
       "    <tr>\n",
       "      <th>0</th>\n",
       "      <td>1000</td>\n",
       "      <td>A &amp; E PLASTIK PAK INC</td>\n",
       "      <td>A &amp; E Plastik Pak Inc</td>\n",
       "      <td>NaN</td>\n",
       "      <td>NaN</td>\n",
       "      <td>NaN</td>\n",
       "      <td>NaN</td>\n",
       "      <td>NaN</td>\n",
       "      <td>NaN</td>\n",
       "      <td>NaN</td>\n",
       "      <td>NaN</td>\n",
       "      <td>A&amp;E PLASTIK PAK INC</td>\n",
       "    </tr>\n",
       "    <tr>\n",
       "      <th>1</th>\n",
       "      <td>1001</td>\n",
       "      <td>A &amp; M FOOD SERVICES INC</td>\n",
       "      <td>A &amp; M Food Services Inc</td>\n",
       "      <td>OK</td>\n",
       "      <td>1924 South Utica Avenue</td>\n",
       "      <td>NaN</td>\n",
       "      <td>NaN</td>\n",
       "      <td>NaN</td>\n",
       "      <td>94104</td>\n",
       "      <td>OKLAHOMA</td>\n",
       "      <td>1924 SOUTH UTICA AVENUE</td>\n",
       "      <td>A&amp;M FOOD SVCS INC</td>\n",
       "    </tr>\n",
       "    <tr>\n",
       "      <th>2</th>\n",
       "      <td>1002</td>\n",
       "      <td>AAI CORP</td>\n",
       "      <td>AAI Corp</td>\n",
       "      <td>MD</td>\n",
       "      <td>124 Industry Lane</td>\n",
       "      <td>NaN</td>\n",
       "      <td>NaN</td>\n",
       "      <td>NaN</td>\n",
       "      <td>21030-0126</td>\n",
       "      <td>MARYLAND</td>\n",
       "      <td>124 INDUSTRY LANE</td>\n",
       "      <td>AAI CORP</td>\n",
       "    </tr>\n",
       "    <tr>\n",
       "      <th>3</th>\n",
       "      <td>1003</td>\n",
       "      <td>A.A. IMPORTING CO INC</td>\n",
       "      <td>A.A. Importing Co Inc</td>\n",
       "      <td>MO</td>\n",
       "      <td>7700 Hall Street</td>\n",
       "      <td>NaN</td>\n",
       "      <td>NaN</td>\n",
       "      <td>NaN</td>\n",
       "      <td>63125</td>\n",
       "      <td>MISSOURI</td>\n",
       "      <td>7700 HALL STREET</td>\n",
       "      <td>AA IMPORTING CO INC</td>\n",
       "    </tr>\n",
       "    <tr>\n",
       "      <th>4</th>\n",
       "      <td>1004</td>\n",
       "      <td>AAR CORP</td>\n",
       "      <td>AAR Corp</td>\n",
       "      <td>IL</td>\n",
       "      <td>One AAR Place, 1100 North Wood Dale Road</td>\n",
       "      <td>NaN</td>\n",
       "      <td>NaN</td>\n",
       "      <td>NaN</td>\n",
       "      <td>60191</td>\n",
       "      <td>ILLINOIS</td>\n",
       "      <td>1 AAR PLACE 1100 NORTH WOOD DALE ROAD</td>\n",
       "      <td>AAR CORP</td>\n",
       "    </tr>\n",
       "  </tbody>\n",
       "</table>\n",
       "</div>"
      ],
      "text/plain": [
       "   gvkey                     conm                    conml state  \\\n",
       "0   1000    A & E PLASTIK PAK INC    A & E Plastik Pak Inc   NaN   \n",
       "1   1001  A & M FOOD SERVICES INC  A & M Food Services Inc    OK   \n",
       "2   1002                 AAI CORP                 AAI Corp    MD   \n",
       "3   1003    A.A. IMPORTING CO INC    A.A. Importing Co Inc    MO   \n",
       "4   1004                 AAR CORP                 AAR Corp    IL   \n",
       "\n",
       "                                       add1 add2 add3 add4      addzip  \\\n",
       "0                                       NaN  NaN  NaN  NaN         NaN   \n",
       "1                   1924 South Utica Avenue  NaN  NaN  NaN       94104   \n",
       "2                         124 Industry Lane  NaN  NaN  NaN  21030-0126   \n",
       "3                          7700 Hall Street  NaN  NaN  NaN       63125   \n",
       "4  One AAR Place, 1100 North Wood Dale Road  NaN  NaN  NaN       60191   \n",
       "\n",
       "  state_fixed                              add_fixed              cleaned  \n",
       "0         NaN                                    NaN  A&E PLASTIK PAK INC  \n",
       "1    OKLAHOMA                1924 SOUTH UTICA AVENUE    A&M FOOD SVCS INC  \n",
       "2    MARYLAND                      124 INDUSTRY LANE             AAI CORP  \n",
       "3    MISSOURI                       7700 HALL STREET  AA IMPORTING CO INC  \n",
       "4    ILLINOIS  1 AAR PLACE 1100 NORTH WOOD DALE ROAD             AAR CORP  "
      ]
     },
     "execution_count": 7,
     "metadata": {},
     "output_type": "execute_result"
    }
   ],
   "source": [
    "chair_df.head()"
   ]
  },
  {
   "cell_type": "code",
   "execution_count": 8,
   "metadata": {
    "scrolled": false
   },
   "outputs": [
    {
     "data": {
      "text/plain": [
       "gvkey          28816\n",
       "conm           28816\n",
       "conml          28816\n",
       "state          28011\n",
       "add1           26927\n",
       "add2             189\n",
       "add3              12\n",
       "add4               2\n",
       "addzip         26928\n",
       "state_fixed    28011\n",
       "add_fixed      26927\n",
       "cleaned        28816\n",
       "dtype: int64"
      ]
     },
     "execution_count": 8,
     "metadata": {},
     "output_type": "execute_result"
    }
   ],
   "source": [
    "chair_df.notnull().sum()"
   ]
  },
  {
   "cell_type": "markdown",
   "metadata": {},
   "source": [
    "# Candidate Selection\n",
    "\n",
    "To detect similarity of two documents from the 2 datasets, we vectorized the company names in dataframes. \n",
    "\n",
    "After the vectorization, we used cosine similarity measure to detect select a set of candidates for each company in the CFMCF(Chair of Financial Management and Capital Markets) Dataset.\n",
    "\n",
    "\n",
    "After we got a smaller set of candidates for each company in SFMCF dataset, depending on the similarities of the __geolocation__ we added a bonus scores on top of the cosine similarity metric. After this adjustment the candidate with the highest score become the final candidate."
   ]
  },
  {
   "cell_type": "markdown",
   "metadata": {},
   "source": [
    "##  Vectorization \n",
    "\n",
    "In vectorization we utilized the tf-idf(Term Frequency - Inverse Document Frequency) measure. In this measure terms that occurs frequently have a smaller effect then the ones that occurs rarely. In practice this allowed common words like 'inc' or 'corp' to have a smaller effect on the similarity scores.\n",
    "\n",
    "To train the vectorizer we used a corpus that includes unique preprocessed company names in the two datasets."
   ]
  },
  {
   "cell_type": "code",
   "execution_count": 9,
   "metadata": {},
   "outputs": [
    {
     "data": {
      "text/plain": [
       "(2318211,)"
      ]
     },
     "execution_count": 9,
     "metadata": {},
     "output_type": "execute_result"
    }
   ],
   "source": [
    "companies = data_handlers.get_unique_company_names(usa_df)\n",
    "companies.shape"
   ]
  },
  {
   "cell_type": "code",
   "execution_count": 10,
   "metadata": {},
   "outputs": [],
   "source": [
    "vectorizer = TfidfVectorizer(analyzer='word', token_pattern= r'\\S+')\n",
    "#tfidf = vectorizer.fit_transform(chair_df.conm)\n",
    "vectorizer.fit(pd.concat([chair_df.cleaned, pd.Series(companies)]).unique())\n",
    "tfidf = vectorizer.transform(chair_df.cleaned)\n",
    "tfidf_USA = vectorizer.transform(companies)"
   ]
  },
  {
   "cell_type": "markdown",
   "metadata": {},
   "source": [
    "### IDF scores of the most common words"
   ]
  },
  {
   "cell_type": "code",
   "execution_count": null,
   "metadata": {
    "scrolled": true
   },
   "outputs": [
    {
     "data": {
      "text/html": [
       "<div>\n",
       "<style scoped>\n",
       "    .dataframe tbody tr th:only-of-type {\n",
       "        vertical-align: middle;\n",
       "    }\n",
       "\n",
       "    .dataframe tbody tr th {\n",
       "        vertical-align: top;\n",
       "    }\n",
       "\n",
       "    .dataframe thead th {\n",
       "        text-align: right;\n",
       "    }\n",
       "</style>\n",
       "<table border=\"1\" class=\"dataframe\">\n",
       "  <thead>\n",
       "    <tr style=\"text-align: right;\">\n",
       "      <th></th>\n",
       "      <th>idf_weights</th>\n",
       "    </tr>\n",
       "  </thead>\n",
       "  <tbody>\n",
       "    <tr>\n",
       "      <th>inc</th>\n",
       "      <td>2.352565</td>\n",
       "    </tr>\n",
       "    <tr>\n",
       "      <th>llc</th>\n",
       "      <td>2.820426</td>\n",
       "    </tr>\n",
       "    <tr>\n",
       "      <th>and</th>\n",
       "      <td>3.353773</td>\n",
       "    </tr>\n",
       "    <tr>\n",
       "      <th>of</th>\n",
       "      <td>3.920645</td>\n",
       "    </tr>\n",
       "    <tr>\n",
       "      <th>trust</th>\n",
       "      <td>4.190324</td>\n",
       "    </tr>\n",
       "    <tr>\n",
       "      <th>co</th>\n",
       "      <td>4.458039</td>\n",
       "    </tr>\n",
       "    <tr>\n",
       "      <th>corp</th>\n",
       "      <td>4.551406</td>\n",
       "    </tr>\n",
       "    <tr>\n",
       "      <th>svcs</th>\n",
       "      <td>4.713223</td>\n",
       "    </tr>\n",
       "    <tr>\n",
       "      <th>farms</th>\n",
       "      <td>4.757885</td>\n",
       "    </tr>\n",
       "    <tr>\n",
       "      <th>the</th>\n",
       "      <td>4.765824</td>\n",
       "    </tr>\n",
       "    <tr>\n",
       "      <th>ltd</th>\n",
       "      <td>5.028157</td>\n",
       "    </tr>\n",
       "    <tr>\n",
       "      <th>grp</th>\n",
       "      <td>5.174570</td>\n",
       "    </tr>\n",
       "    <tr>\n",
       "      <th>company</th>\n",
       "      <td>5.177574</td>\n",
       "    </tr>\n",
       "    <tr>\n",
       "      <th>family</th>\n",
       "      <td>5.236042</td>\n",
       "    </tr>\n",
       "    <tr>\n",
       "      <th>a</th>\n",
       "      <td>5.245030</td>\n",
       "    </tr>\n",
       "    <tr>\n",
       "      <th>county</th>\n",
       "      <td>5.256417</td>\n",
       "    </tr>\n",
       "    <tr>\n",
       "      <th>center</th>\n",
       "      <td>5.266808</td>\n",
       "    </tr>\n",
       "    <tr>\n",
       "      <th>fire</th>\n",
       "      <td>5.351381</td>\n",
       "    </tr>\n",
       "    <tr>\n",
       "      <th>construction</th>\n",
       "      <td>5.358231</td>\n",
       "    </tr>\n",
       "    <tr>\n",
       "      <th>city</th>\n",
       "      <td>5.358632</td>\n",
       "    </tr>\n",
       "  </tbody>\n",
       "</table>\n",
       "</div>"
      ],
      "text/plain": [
       "              idf_weights\n",
       "inc              2.352565\n",
       "llc              2.820426\n",
       "and              3.353773\n",
       "of               3.920645\n",
       "trust            4.190324\n",
       "co               4.458039\n",
       "corp             4.551406\n",
       "svcs             4.713223\n",
       "farms            4.757885\n",
       "the              4.765824\n",
       "ltd              5.028157\n",
       "grp              5.174570\n",
       "company          5.177574\n",
       "family           5.236042\n",
       "a                5.245030\n",
       "county           5.256417\n",
       "center           5.266808\n",
       "fire             5.351381\n",
       "construction     5.358231\n",
       "city             5.358632"
      ]
     },
     "execution_count": 11,
     "metadata": {},
     "output_type": "execute_result"
    }
   ],
   "source": [
    "df_idf = pd.DataFrame(vectorizer.idf_, index=vectorizer.get_feature_names(),columns=[\"idf_weights\"])\n",
    "df_idf = df_idf.sort_values(by=['idf_weights'])\n",
    "df_idf.head(20)"
   ]
  },
  {
   "cell_type": "markdown",
   "metadata": {},
   "source": [
    "# IDF Distrubution of the Vocabulary"
   ]
  },
  {
   "cell_type": "code",
   "execution_count": null,
   "metadata": {},
   "outputs": [
    {
     "data": {
      "text/plain": [
       "<matplotlib.axes._subplots.AxesSubplot at 0x12e92a9b0>"
      ]
     },
     "execution_count": 12,
     "metadata": {},
     "output_type": "execute_result"
    },
    {
     "data": {
      "image/png": "[encoded data removed]",
      "text/plain": [
       "<Figure size 432x288 with 1 Axes>"
      ]
     },
     "metadata": {
      "needs_background": "light"
     },
     "output_type": "display_data"
    }
   ],
   "source": [
    "sns.distplot(vectorizer.idf_, kde=False, bins=20)"
   ]
  },
  {
   "cell_type": "markdown",
   "metadata": {},
   "source": [
    "## Calculate Cosine Similarity Matrix\n",
    "\n",
    "After we vectorized the company names we can calculate the cosine similarity between each company name in the two datasets.\n",
    "\n",
    "The resulting cosine similarity matrix has massive size(28k to 2 million). To be able to store it in the memory we selected candidates that have a cosine similarity larger than a given threshould and we stored the result in a sparse matrix to eliminate zeros. "
   ]
  },
  {
   "cell_type": "code",
   "execution_count": 12,
   "metadata": {},
   "outputs": [
    {
     "name": "stderr",
     "output_type": "stream",
     "text": [
      "/Users/hakansirin/Desktop/idp-ws19/src/matrix_ops.py:23: SparseEfficiencyWarning: Changing the sparsity structure of a csr_matrix is expensive. lil_matrix is more efficient.\n",
      "  cosine_similarities[batch_start:batch_end] = cos_sim_sparse\n"
     ]
    },
    {
     "name": "stdout",
     "output_type": "stream",
     "text": [
      "0 of 28816 documents are calculated\n",
      "1000 of 28816 documents are calculated\n",
      "2000 of 28816 documents are calculated\n",
      "3000 of 28816 documents are calculated\n",
      "4000 of 28816 documents are calculated\n",
      "5000 of 28816 documents are calculated\n",
      "6000 of 28816 documents are calculated\n",
      "7000 of 28816 documents are calculated\n",
      "8000 of 28816 documents are calculated\n",
      "9000 of 28816 documents are calculated\n",
      "10000 of 28816 documents are calculated\n",
      "11000 of 28816 documents are calculated\n",
      "12000 of 28816 documents are calculated\n",
      "13000 of 28816 documents are calculated\n",
      "14000 of 28816 documents are calculated\n",
      "15000 of 28816 documents are calculated\n",
      "16000 of 28816 documents are calculated\n",
      "17000 of 28816 documents are calculated\n",
      "18000 of 28816 documents are calculated\n",
      "19000 of 28816 documents are calculated\n",
      "20000 of 28816 documents are calculated\n",
      "21000 of 28816 documents are calculated\n",
      "22000 of 28816 documents are calculated\n",
      "23000 of 28816 documents are calculated\n",
      "24000 of 28816 documents are calculated\n",
      "25000 of 28816 documents are calculated\n",
      "26000 of 28816 documents are calculated\n",
      "27000 of 28816 documents are calculated\n",
      "28000 of 28816 documents are calculated\n"
     ]
    }
   ],
   "source": [
    "THRES = 0.4\n",
    "cosine_similarities, max_similarities = matrix_ops.get_cosine_similarities(tfidf, tfidf_USA, THRES)"
   ]
  },
  {
   "cell_type": "markdown",
   "metadata": {},
   "source": [
    "### Load cosine similarity matrix"
   ]
  },
  {
   "cell_type": "code",
   "execution_count": null,
   "metadata": {},
   "outputs": [
    {
     "data": {
      "text/plain": [
       "<28816x2318211 sparse matrix of type '<class 'numpy.float64'>'\n",
       "\twith 4774116 stored elements in Compressed Sparse Row format>"
      ]
     },
     "execution_count": 13,
     "metadata": {},
     "output_type": "execute_result"
    }
   ],
   "source": [
    "cosine_similarities  = sparse.load_npz('cosine_similarities.npz')\n",
    "max_similarities = np.load('max_similarities.npy')\n",
    "cosine_similarities"
   ]
  },
  {
   "cell_type": "markdown",
   "metadata": {},
   "source": [
    "## Selection of the best Candidates\n",
    "After calculating the cosine similarity between the companies, we end up on avarege 200 candidate for each company in the CFMCF dataset.\n",
    "In our selection of the best candidate we intruduce a bonus point on top of the cosine_similarity measure.\n",
    "The default bonuses that we selected are as:\n",
    "- same state bonus = 0.1\n",
    "- same country bonus = 0.1\n",
    "- same address bonus = 0.3\n",
    "\n",
    "Afterwards the selection of the best candidate is done using this combined score metric."
   ]
  },
  {
   "cell_type": "code",
   "execution_count": null,
   "metadata": {},
   "outputs": [
    {
     "name": "stderr",
     "output_type": "stream",
     "text": [
      "/usr/local/lib/python3.7/site-packages/scipy/sparse/lil.py:518: FutureWarning: future versions will not create a writeable array from broadcast_array. Set the writable flag explicitly to avoid this warning.\n",
      "  if not x.flags.writeable:\n",
      "/Users/hakansirin/Desktop/idp-ws19/src/matrix_ops.py:76: SettingWithCopyWarning: \n",
      "A value is trying to be set on a copy of a slice from a DataFrame.\n",
      "Try using .loc[row_indexer,col_indexer] = value instead\n",
      "\n",
      "See the caveats in the documentation: https://pandas.pydata.org/pandas-docs/stable/user_guide/indexing.html#returning-a-view-versus-a-copy\n",
      "  candidates['cos_sim'] = expanded_cos_sims\n",
      "/Users/hakansirin/Desktop/idp-ws19/src/matrix_ops.py:78: SettingWithCopyWarning: \n",
      "A value is trying to be set on a copy of a slice from a DataFrame.\n",
      "Try using .loc[row_indexer,col_indexer] = value instead\n",
      "\n",
      "See the caveats in the documentation: https://pandas.pydata.org/pandas-docs/stable/user_guide/indexing.html#returning-a-view-versus-a-copy\n",
      "  candidates['cos_sim'] = candidates.groupby(candidates.index)['cos_sim'].max()\n"
     ]
    },
    {
     "name": "stdout",
     "output_type": "stream",
     "text": [
      "0 of 28816 documents are calculated\n"
     ]
    },
    {
     "name": "stderr",
     "output_type": "stream",
     "text": [
      "/usr/local/lib/python3.7/site-packages/pandas/core/ops/array_ops.py:253: FutureWarning: elementwise comparison failed; returning scalar instead, but in the future will perform elementwise comparison\n",
      "  res_values = method(rvalues)\n"
     ]
    },
    {
     "name": "stdout",
     "output_type": "stream",
     "text": [
      "1000 of 28816 documents are calculated\n",
      "3000 of 28816 documents are calculated\n",
      "4000 of 28816 documents are calculated\n",
      "5000 of 28816 documents are calculated\n",
      "6000 of 28816 documents are calculated\n",
      "7000 of 28816 documents are calculated\n",
      "8000 of 28816 documents are calculated\n",
      "9000 of 28816 documents are calculated\n",
      "10000 of 28816 documents are calculated\n",
      "11000 of 28816 documents are calculated\n",
      "12000 of 28816 documents are calculated\n",
      "13000 of 28816 documents are calculated\n",
      "14000 of 28816 documents are calculated\n",
      "15000 of 28816 documents are calculated\n",
      "16000 of 28816 documents are calculated\n",
      "17000 of 28816 documents are calculated\n",
      "18000 of 28816 documents are calculated\n",
      "19000 of 28816 documents are calculated\n"
     ]
    }
   ],
   "source": [
    "best_matches = matrix_ops.get_best_candidates(chair_df, usa_df, cosine_similarities, companies, \n",
    "                                              zip_bonus = 0.1, state_bonus=0.1, address_bonus= 0.3 )"
   ]
  },
  {
   "cell_type": "code",
   "execution_count": null,
   "metadata": {},
   "outputs": [],
   "source": [
    "chair_df.notnull().sum()"
   ]
  },
  {
   "cell_type": "code",
   "execution_count": null,
   "metadata": {},
   "outputs": [],
   "source": [
    "best_matches.dropna(how='all')[['conm','cleaned','recipient_name','clean_recipient_name','cos_sim','score']]"
   ]
  },
  {
   "cell_type": "code",
   "execution_count": null,
   "metadata": {},
   "outputs": [],
   "source": [
    "best_matches"
   ]
  },
  {
   "cell_type": "code",
   "execution_count": null,
   "metadata": {},
   "outputs": [],
   "source": []
  },
  {
   "cell_type": "markdown",
   "metadata": {},
   "source": [
    "## all data "
   ]
  },
  {
   "cell_type": "code",
   "execution_count": null,
   "metadata": {},
   "outputs": [],
   "source": [
    "cos_sims"
   ]
  },
  {
   "cell_type": "code",
   "execution_count": null,
   "metadata": {},
   "outputs": [],
   "source": []
  },
  {
   "cell_type": "code",
   "execution_count": null,
   "metadata": {},
   "outputs": [],
   "source": [
    "cos_sims = best_matches.cos_sim.dropna().astype('float')\n",
    "sns.distplot(cos_sims, kde=False, bins=20)\n",
    "print((sum(cos_sims > 0.8), sum(cos_sims == 1), cos_sims.shape))"
   ]
  },
  {
   "cell_type": "code",
   "execution_count": null,
   "metadata": {},
   "outputs": [],
   "source": [
    "scores = best_matches.score.dropna().astype('float')\n",
    "sns.distplot(scores, kde=False, bins=20)\n",
    "print((sum(cos_sims > 0.8), sum(cos_sims == 1), cos_sims.shape))"
   ]
  },
  {
   "cell_type": "code",
   "execution_count": null,
   "metadata": {
    "scrolled": true
   },
   "outputs": [],
   "source": [
    "sns.distplot(values, kde=False, bins=20)\n",
    "print((sum(values > 0.8), sum(values == 1), values.shape))"
   ]
  },
  {
   "cell_type": "code",
   "execution_count": null,
   "metadata": {},
   "outputs": [],
   "source": []
  },
  {
   "cell_type": "code",
   "execution_count": null,
   "metadata": {},
   "outputs": [],
   "source": [
    "# sum(values >= 0.6)"
   ]
  },
  {
   "cell_type": "code",
   "execution_count": null,
   "metadata": {
    "scrolled": true
   },
   "outputs": [],
   "source": []
  },
  {
   "cell_type": "markdown",
   "metadata": {},
   "source": [
    "# Match results"
   ]
  },
  {
   "cell_type": "code",
   "execution_count": null,
   "metadata": {},
   "outputs": [],
   "source": [
    "vectorizer.vocabulary_, len(vectorizer.vocabulary_)"
   ]
  },
  {
   "cell_type": "code",
   "execution_count": null,
   "metadata": {},
   "outputs": [],
   "source": []
  }
 ],
 "metadata": {
  "kernelspec": {
   "display_name": "Python 3",
   "language": "python",
   "name": "python3"
  }
 },
 "nbformat": 4,
 "nbformat_minor": 1
}
