{
 "cells": [
  {
   "cell_type": "code",
   "execution_count": 1,
   "metadata": {},
   "outputs": [],
   "source": [
    "%load_ext autoreload\n",
    "%autoreload \n",
    "import sys; import os\n",
    "sys.path.append(os.path.abspath('../'))\n",
    "from src import data_handlers, matrix_ops\n",
    "import numpy as np\n",
    "import pandas as pd\n",
    "from sklearn.feature_extraction.text import TfidfVectorizer\n",
    "import seaborn as sns\n",
    "from scipy import sparse"
   ]
  },
  {
   "cell_type": "markdown",
   "metadata": {},
   "source": [
    "# Load Preprocessed DataFrames\n",
    "\n",
    "Load the prepocessed Data Frames provided by:\n",
    "- US Government \n",
    "- Chair of Financial Management and Capital Markets \n",
    "\n",
    "Preprocessing includes:\n",
    "- Dropping duplicates\n",
    "- Apply Regex patterns\n",
    "- Correction of the addresses"
   ]
  },
  {
   "cell_type": "code",
   "execution_count": 2,
   "metadata": {},
   "outputs": [
    {
     "data": {
      "text/plain": [
       "(6442676, 29)"
      ]
     },
     "execution_count": 2,
     "metadata": {},
     "output_type": "execute_result"
    }
   ],
   "source": [
    "usa_df = pd.read_csv('../processed/processed_usa.csv', low_memory = False)\n",
    "usa_df.shape"
   ]
  },
  {
   "cell_type": "markdown",
   "metadata": {},
   "source": [
    "##  US Spending DF"
   ]
  },
  {
   "cell_type": "code",
   "execution_count": 5,
   "metadata": {},
   "outputs": [
    {
     "data": {
      "text/html": [
       "<div>\n",
       "<style scoped>\n",
       "    .dataframe tbody tr th:only-of-type {\n",
       "        vertical-align: middle;\n",
       "    }\n",
       "\n",
       "    .dataframe tbody tr th {\n",
       "        vertical-align: top;\n",
       "    }\n",
       "\n",
       "    .dataframe thead th {\n",
       "        text-align: right;\n",
       "    }\n",
       "</style>\n",
       "<table border=\"1\" class=\"dataframe\">\n",
       "  <thead>\n",
       "    <tr style=\"text-align: right;\">\n",
       "      <th></th>\n",
       "      <th>recipient_duns</th>\n",
       "      <th>recipient_name</th>\n",
       "      <th>recipient_doing_business_as_name</th>\n",
       "      <th>recipient_parent_duns</th>\n",
       "      <th>recipient_parent_name</th>\n",
       "      <th>recipient_country_code</th>\n",
       "      <th>recipient_country_name</th>\n",
       "      <th>recipient_address_line_1</th>\n",
       "      <th>recipient_address_line_2</th>\n",
       "      <th>recipient_city_name</th>\n",
       "      <th>...</th>\n",
       "      <th>recipient_zip_code</th>\n",
       "      <th>recipient_zip_last_4_code</th>\n",
       "      <th>recipient_foreign_city_name</th>\n",
       "      <th>recipient_foreign_province_name</th>\n",
       "      <th>recipient_foreign_postal_code</th>\n",
       "      <th>clean_recipient_name</th>\n",
       "      <th>clean_recipient_parent_name</th>\n",
       "      <th>clean_recipient_doing_business_as_name</th>\n",
       "      <th>recipient_address_line_fixed</th>\n",
       "      <th>recipient_state_fixed</th>\n",
       "    </tr>\n",
       "  </thead>\n",
       "  <tbody>\n",
       "    <tr>\n",
       "      <th>0</th>\n",
       "      <td>139032531</td>\n",
       "      <td>ISOTEK SYSTEMS LIMITED LIABILITY COMPANY</td>\n",
       "      <td>NaN</td>\n",
       "      <td>139032531</td>\n",
       "      <td>ISOTEK SYSTEMS  LLC</td>\n",
       "      <td>UNITED STATES</td>\n",
       "      <td>NaN</td>\n",
       "      <td>700 S ILLINOIS AVE</td>\n",
       "      <td>SUITE A102</td>\n",
       "      <td>OAK RIDGE</td>\n",
       "      <td>...</td>\n",
       "      <td>NaN</td>\n",
       "      <td>NaN</td>\n",
       "      <td>NaN</td>\n",
       "      <td>NaN</td>\n",
       "      <td>NaN</td>\n",
       "      <td>ISOTEK SYSTEMS LLC</td>\n",
       "      <td>NaN</td>\n",
       "      <td>NaN</td>\n",
       "      <td>700 SAN ILLINOIS AVENUE SUITE A102</td>\n",
       "      <td>TENNESSEE</td>\n",
       "    </tr>\n",
       "    <tr>\n",
       "      <th>1</th>\n",
       "      <td>168599863</td>\n",
       "      <td>TRUSTON TECHNOLOGIES INCORPORATED</td>\n",
       "      <td>NaN</td>\n",
       "      <td>168599863</td>\n",
       "      <td>TRUSTON TECHNOLOGIES  INC.</td>\n",
       "      <td>UNITED STATES</td>\n",
       "      <td>NaN</td>\n",
       "      <td>102 RUE DU PAIN</td>\n",
       "      <td>NaN</td>\n",
       "      <td>BROUSSARD</td>\n",
       "      <td>...</td>\n",
       "      <td>NaN</td>\n",
       "      <td>NaN</td>\n",
       "      <td>NaN</td>\n",
       "      <td>NaN</td>\n",
       "      <td>NaN</td>\n",
       "      <td>TRUSTON TECHNOLOGIES INC</td>\n",
       "      <td>NaN</td>\n",
       "      <td>NaN</td>\n",
       "      <td>102 RUE DU PAIN</td>\n",
       "      <td>LOUISIANA</td>\n",
       "    </tr>\n",
       "    <tr>\n",
       "      <th>2</th>\n",
       "      <td>005144808</td>\n",
       "      <td>PALOMAR PRODUCTS, INC.</td>\n",
       "      <td>NaN</td>\n",
       "      <td>043190826</td>\n",
       "      <td>ESTERLINE TECHNOLOGIES CORP</td>\n",
       "      <td>USA</td>\n",
       "      <td>UNITED STATES</td>\n",
       "      <td>23042 ARROYO VISTA</td>\n",
       "      <td>NaN</td>\n",
       "      <td>RCHO STA MARG</td>\n",
       "      <td>...</td>\n",
       "      <td>NaN</td>\n",
       "      <td>NaN</td>\n",
       "      <td>NaN</td>\n",
       "      <td>NaN</td>\n",
       "      <td>NaN</td>\n",
       "      <td>PALOMAR PRODUCTS INC</td>\n",
       "      <td>ESTERLINE TECHNOLOGIES CORP</td>\n",
       "      <td>NaN</td>\n",
       "      <td>23042 ARROYO VISTA</td>\n",
       "      <td>CALIFORNIA</td>\n",
       "    </tr>\n",
       "    <tr>\n",
       "      <th>3</th>\n",
       "      <td>118759695</td>\n",
       "      <td>LCL ELECTRONICS, INC.</td>\n",
       "      <td>NaN</td>\n",
       "      <td>118759695</td>\n",
       "      <td>LCL ELECTRONICS  INC.</td>\n",
       "      <td>USA</td>\n",
       "      <td>UNITED STATES</td>\n",
       "      <td>8148 INDUSTRIAL PARK RD</td>\n",
       "      <td>NaN</td>\n",
       "      <td>BAXTER</td>\n",
       "      <td>...</td>\n",
       "      <td>NaN</td>\n",
       "      <td>NaN</td>\n",
       "      <td>NaN</td>\n",
       "      <td>NaN</td>\n",
       "      <td>NaN</td>\n",
       "      <td>LCL ELECTRONICS INC</td>\n",
       "      <td>NaN</td>\n",
       "      <td>NaN</td>\n",
       "      <td>8148 INDUSTRIAL PARK ROAD</td>\n",
       "      <td>MINNESOTA</td>\n",
       "    </tr>\n",
       "    <tr>\n",
       "      <th>4</th>\n",
       "      <td>174786913</td>\n",
       "      <td>NORTHROP GRUMMAN SHIP SYSTEMS INCORPORATED</td>\n",
       "      <td>NaN</td>\n",
       "      <td>967356127</td>\n",
       "      <td>NORTHROP GRUMMAN CORPORATION</td>\n",
       "      <td>USA</td>\n",
       "      <td>UNITED STATES OF AMERICA</td>\n",
       "      <td>1000 ACCESS RD</td>\n",
       "      <td>NaN</td>\n",
       "      <td>PASCAGOULA</td>\n",
       "      <td>...</td>\n",
       "      <td>NaN</td>\n",
       "      <td>NaN</td>\n",
       "      <td>NaN</td>\n",
       "      <td>NaN</td>\n",
       "      <td>NaN</td>\n",
       "      <td>NORTHROP GRUMMAN SHIP SYSTEMS INC</td>\n",
       "      <td>NORTHROP GRUMMAN CORP</td>\n",
       "      <td>NaN</td>\n",
       "      <td>1000 ACCESS ROAD</td>\n",
       "      <td>MISSISSIPPI</td>\n",
       "    </tr>\n",
       "  </tbody>\n",
       "</table>\n",
       "<p>5 rows × 29 columns</p>\n",
       "</div>"
      ],
      "text/plain": [
       "  recipient_duns                              recipient_name  \\\n",
       "0      139032531    ISOTEK SYSTEMS LIMITED LIABILITY COMPANY   \n",
       "1      168599863           TRUSTON TECHNOLOGIES INCORPORATED   \n",
       "2      005144808                      PALOMAR PRODUCTS, INC.   \n",
       "3      118759695                       LCL ELECTRONICS, INC.   \n",
       "4      174786913  NORTHROP GRUMMAN SHIP SYSTEMS INCORPORATED   \n",
       "\n",
       "  recipient_doing_business_as_name recipient_parent_duns  \\\n",
       "0                              NaN             139032531   \n",
       "1                              NaN             168599863   \n",
       "2                              NaN             043190826   \n",
       "3                              NaN             118759695   \n",
       "4                              NaN             967356127   \n",
       "\n",
       "          recipient_parent_name recipient_country_code  \\\n",
       "0           ISOTEK SYSTEMS  LLC          UNITED STATES   \n",
       "1    TRUSTON TECHNOLOGIES  INC.          UNITED STATES   \n",
       "2   ESTERLINE TECHNOLOGIES CORP                    USA   \n",
       "3         LCL ELECTRONICS  INC.                    USA   \n",
       "4  NORTHROP GRUMMAN CORPORATION                    USA   \n",
       "\n",
       "     recipient_country_name recipient_address_line_1 recipient_address_line_2  \\\n",
       "0                       NaN       700 S ILLINOIS AVE               SUITE A102   \n",
       "1                       NaN          102 RUE DU PAIN                      NaN   \n",
       "2             UNITED STATES       23042 ARROYO VISTA                      NaN   \n",
       "3             UNITED STATES  8148 INDUSTRIAL PARK RD                      NaN   \n",
       "4  UNITED STATES OF AMERICA           1000 ACCESS RD                      NaN   \n",
       "\n",
       "  recipient_city_name  ... recipient_zip_code recipient_zip_last_4_code  \\\n",
       "0           OAK RIDGE  ...                NaN                       NaN   \n",
       "1           BROUSSARD  ...                NaN                       NaN   \n",
       "2       RCHO STA MARG  ...                NaN                       NaN   \n",
       "3              BAXTER  ...                NaN                       NaN   \n",
       "4          PASCAGOULA  ...                NaN                       NaN   \n",
       "\n",
       "  recipient_foreign_city_name recipient_foreign_province_name  \\\n",
       "0                         NaN                             NaN   \n",
       "1                         NaN                             NaN   \n",
       "2                         NaN                             NaN   \n",
       "3                         NaN                             NaN   \n",
       "4                         NaN                             NaN   \n",
       "\n",
       "  recipient_foreign_postal_code               clean_recipient_name  \\\n",
       "0                           NaN                 ISOTEK SYSTEMS LLC   \n",
       "1                           NaN           TRUSTON TECHNOLOGIES INC   \n",
       "2                           NaN               PALOMAR PRODUCTS INC   \n",
       "3                           NaN                LCL ELECTRONICS INC   \n",
       "4                           NaN  NORTHROP GRUMMAN SHIP SYSTEMS INC   \n",
       "\n",
       "   clean_recipient_parent_name  clean_recipient_doing_business_as_name  \\\n",
       "0                          NaN                                     NaN   \n",
       "1                          NaN                                     NaN   \n",
       "2  ESTERLINE TECHNOLOGIES CORP                                     NaN   \n",
       "3                          NaN                                     NaN   \n",
       "4        NORTHROP GRUMMAN CORP                                     NaN   \n",
       "\n",
       "         recipient_address_line_fixed  recipient_state_fixed  \n",
       "0  700 SAN ILLINOIS AVENUE SUITE A102              TENNESSEE  \n",
       "1                     102 RUE DU PAIN              LOUISIANA  \n",
       "2                  23042 ARROYO VISTA             CALIFORNIA  \n",
       "3           8148 INDUSTRIAL PARK ROAD              MINNESOTA  \n",
       "4                    1000 ACCESS ROAD            MISSISSIPPI  \n",
       "\n",
       "[5 rows x 29 columns]"
      ]
     },
     "execution_count": 5,
     "metadata": {},
     "output_type": "execute_result"
    }
   ],
   "source": [
    "usa_df.head()"
   ]
  },
  {
   "cell_type": "markdown",
   "metadata": {},
   "source": [
    "## Chair of Financial Management and Capital Markets DF\n"
   ]
  },
  {
   "cell_type": "code",
   "execution_count": 4,
   "metadata": {
    "scrolled": true
   },
   "outputs": [],
   "source": [
    "chair_df = pd.read_csv('../processed/processed_chair.csv', low_memory = False)"
   ]
  },
  {
   "cell_type": "code",
   "execution_count": 5,
   "metadata": {},
   "outputs": [
    {
     "data": {
      "text/html": [
       "<div>\n",
       "<style scoped>\n",
       "    .dataframe tbody tr th:only-of-type {\n",
       "        vertical-align: middle;\n",
       "    }\n",
       "\n",
       "    .dataframe tbody tr th {\n",
       "        vertical-align: top;\n",
       "    }\n",
       "\n",
       "    .dataframe thead th {\n",
       "        text-align: right;\n",
       "    }\n",
       "</style>\n",
       "<table border=\"1\" class=\"dataframe\">\n",
       "  <thead>\n",
       "    <tr style=\"text-align: right;\">\n",
       "      <th></th>\n",
       "      <th>gvkey</th>\n",
       "      <th>conm</th>\n",
       "      <th>conml</th>\n",
       "      <th>state</th>\n",
       "      <th>add1</th>\n",
       "      <th>add2</th>\n",
       "      <th>add3</th>\n",
       "      <th>add4</th>\n",
       "      <th>addzip</th>\n",
       "      <th>clean_conm</th>\n",
       "      <th>add_fixed</th>\n",
       "      <th>state_fixed</th>\n",
       "    </tr>\n",
       "  </thead>\n",
       "  <tbody>\n",
       "    <tr>\n",
       "      <th>0</th>\n",
       "      <td>1000</td>\n",
       "      <td>A &amp; E PLASTIK PAK INC</td>\n",
       "      <td>A &amp; E Plastik Pak Inc</td>\n",
       "      <td>NaN</td>\n",
       "      <td>NaN</td>\n",
       "      <td>NaN</td>\n",
       "      <td>NaN</td>\n",
       "      <td>NaN</td>\n",
       "      <td>NaN</td>\n",
       "      <td>A&amp;E PLASTIK PAK INC</td>\n",
       "      <td>NaN</td>\n",
       "      <td>NaN</td>\n",
       "    </tr>\n",
       "    <tr>\n",
       "      <th>1</th>\n",
       "      <td>1001</td>\n",
       "      <td>A &amp; M FOOD SERVICES INC</td>\n",
       "      <td>A &amp; M Food Services Inc</td>\n",
       "      <td>OK</td>\n",
       "      <td>1924 South Utica Avenue</td>\n",
       "      <td>NaN</td>\n",
       "      <td>NaN</td>\n",
       "      <td>NaN</td>\n",
       "      <td>94104</td>\n",
       "      <td>A&amp;M FOOD SVCS INC</td>\n",
       "      <td>1924 SOUTH UTICA AVENUE</td>\n",
       "      <td>OKLAHOMA</td>\n",
       "    </tr>\n",
       "    <tr>\n",
       "      <th>2</th>\n",
       "      <td>1002</td>\n",
       "      <td>AAI CORP</td>\n",
       "      <td>AAI Corp</td>\n",
       "      <td>MD</td>\n",
       "      <td>124 Industry Lane</td>\n",
       "      <td>NaN</td>\n",
       "      <td>NaN</td>\n",
       "      <td>NaN</td>\n",
       "      <td>21030-0126</td>\n",
       "      <td>AAI CORP</td>\n",
       "      <td>124 INDUSTRY LANE</td>\n",
       "      <td>MARYLAND</td>\n",
       "    </tr>\n",
       "    <tr>\n",
       "      <th>3</th>\n",
       "      <td>1003</td>\n",
       "      <td>A.A. IMPORTING CO INC</td>\n",
       "      <td>A.A. Importing Co Inc</td>\n",
       "      <td>MO</td>\n",
       "      <td>7700 Hall Street</td>\n",
       "      <td>NaN</td>\n",
       "      <td>NaN</td>\n",
       "      <td>NaN</td>\n",
       "      <td>63125</td>\n",
       "      <td>AA IMPORTING CO INC</td>\n",
       "      <td>7700 HALL STREET</td>\n",
       "      <td>MISSOURI</td>\n",
       "    </tr>\n",
       "    <tr>\n",
       "      <th>4</th>\n",
       "      <td>1004</td>\n",
       "      <td>AAR CORP</td>\n",
       "      <td>AAR Corp</td>\n",
       "      <td>IL</td>\n",
       "      <td>One AAR Place, 1100 North Wood Dale Road</td>\n",
       "      <td>NaN</td>\n",
       "      <td>NaN</td>\n",
       "      <td>NaN</td>\n",
       "      <td>60191</td>\n",
       "      <td>AAR CORP</td>\n",
       "      <td>1 AAR PLACE 1100 NORTH WOOD DALE ROAD</td>\n",
       "      <td>ILLINOIS</td>\n",
       "    </tr>\n",
       "  </tbody>\n",
       "</table>\n",
       "</div>"
      ],
      "text/plain": [
       "   gvkey                     conm                    conml state  \\\n",
       "0   1000    A & E PLASTIK PAK INC    A & E Plastik Pak Inc   NaN   \n",
       "1   1001  A & M FOOD SERVICES INC  A & M Food Services Inc    OK   \n",
       "2   1002                 AAI CORP                 AAI Corp    MD   \n",
       "3   1003    A.A. IMPORTING CO INC    A.A. Importing Co Inc    MO   \n",
       "4   1004                 AAR CORP                 AAR Corp    IL   \n",
       "\n",
       "                                       add1 add2 add3 add4      addzip  \\\n",
       "0                                       NaN  NaN  NaN  NaN         NaN   \n",
       "1                   1924 South Utica Avenue  NaN  NaN  NaN       94104   \n",
       "2                         124 Industry Lane  NaN  NaN  NaN  21030-0126   \n",
       "3                          7700 Hall Street  NaN  NaN  NaN       63125   \n",
       "4  One AAR Place, 1100 North Wood Dale Road  NaN  NaN  NaN       60191   \n",
       "\n",
       "            clean_conm                              add_fixed state_fixed  \n",
       "0  A&E PLASTIK PAK INC                                    NaN         NaN  \n",
       "1    A&M FOOD SVCS INC                1924 SOUTH UTICA AVENUE    OKLAHOMA  \n",
       "2             AAI CORP                      124 INDUSTRY LANE    MARYLAND  \n",
       "3  AA IMPORTING CO INC                       7700 HALL STREET    MISSOURI  \n",
       "4             AAR CORP  1 AAR PLACE 1100 NORTH WOOD DALE ROAD    ILLINOIS  "
      ]
     },
     "execution_count": 5,
     "metadata": {},
     "output_type": "execute_result"
    }
   ],
   "source": [
    "chair_df.head()"
   ]
  },
  {
   "cell_type": "markdown",
   "metadata": {},
   "source": [
    "# Candidate Selection\n",
    "\n",
    "To detect similarity of two documents from the 2 datasets, we vectorized the company names in dataframes.\n",
    "\n",
    "With the preprocessed datasets, we first create a vocabulary that consists of every single word included in company names. These company names are taken from preprocessed names - `conm` in the CFMCM dataset, `recipient_name`, `recipient_parent_name`, `recipient_doing_business_as_name` in the USA Spending dataset.\n",
    "\n",
    "Then, we represent each company name with a vector using the vocabulary we have. Once we convert our names to vectors, we calculate how similar they are, using the cosine similary measure.\n",
    "\n",
    "In addition to similarities in names, we also take into account the similarities in geolocations. We use address information to accomplish this.\n",
    "\n",
    "At the end, we combine name similarity and geolocation similarity to compute the final similarity score."
   ]
  },
  {
   "cell_type": "markdown",
   "metadata": {},
   "source": [
    "##  Vectorization \n",
    "\n",
    "In vectorization we aim to represent each company name with a vector. In this vector, only cells that correspond to the words included in the name should have non-zero values. The rest of the vector should be zero.\n",
    "\n",
    "If we set all non-zero values to 1, then each word would have the same importance when calculating the name similarity (i.e. the similarity between the vectors). On the contrary, we want to give each word a weigth that corresponds to its importance. We calculate this \"importance\" using tf-idf.\n",
    "\n",
    "In the tf-idf (Term Frequency - Inverse Document Frequency) measure, terms that occur frequently have a smaller effect than the ones that occur rarely. In practice, this forces common words like 'inc' or 'corp' to have a smaller effect on the similarity scores whereas company-specific words such as 'AT&T' has a higher weigth.\n",
    "\n",
    "To train the vectorizer we used a corpus that includes unique preprocessed company names in the two datasets.\n",
    "\n",
    "At the end, for each company name, we create a weighted sparse vector with size equal to vocabulary's."
   ]
  },
  {
   "cell_type": "code",
   "execution_count": 6,
   "metadata": {},
   "outputs": [
    {
     "data": {
      "text/plain": [
       "(1702988,)"
      ]
     },
     "execution_count": 6,
     "metadata": {},
     "output_type": "execute_result"
    }
   ],
   "source": [
    "companies = data_handlers.get_unique_company_names(usa_df)\n",
    "companies.shape"
   ]
  },
  {
   "cell_type": "code",
   "execution_count": 70,
   "metadata": {},
   "outputs": [],
   "source": [
    "vectorizer = TfidfVectorizer(analyzer='word', token_pattern= r'\\S+')\n",
    "vectorizer.fit(pd.concat([chair_df.clean_conm, pd.Series(companies)]).unique())\n",
    "tfidf = vectorizer.transform(chair_df.clean_conm)\n",
    "tfidf_USA = vectorizer.transform(companies)"
   ]
  },
  {
   "cell_type": "markdown",
   "metadata": {},
   "source": [
    "### IDF scores of the most common words\n",
    "\n",
    "As expected, weights of the most common words are the smallest."
   ]
  },
  {
   "cell_type": "code",
   "execution_count": 71,
   "metadata": {},
   "outputs": [
    {
     "data": {
      "text/html": [
       "<div>\n",
       "<style scoped>\n",
       "    .dataframe tbody tr th:only-of-type {\n",
       "        vertical-align: middle;\n",
       "    }\n",
       "\n",
       "    .dataframe tbody tr th {\n",
       "        vertical-align: top;\n",
       "    }\n",
       "\n",
       "    .dataframe thead th {\n",
       "        text-align: right;\n",
       "    }\n",
       "</style>\n",
       "<table border=\"1\" class=\"dataframe\">\n",
       "  <thead>\n",
       "    <tr style=\"text-align: right;\">\n",
       "      <th></th>\n",
       "      <th>idf_weights</th>\n",
       "    </tr>\n",
       "  </thead>\n",
       "  <tbody>\n",
       "    <tr>\n",
       "      <th>inc</th>\n",
       "      <td>2.214988</td>\n",
       "    </tr>\n",
       "    <tr>\n",
       "      <th>llc</th>\n",
       "      <td>2.880707</td>\n",
       "    </tr>\n",
       "    <tr>\n",
       "      <th>and</th>\n",
       "      <td>3.314485</td>\n",
       "    </tr>\n",
       "    <tr>\n",
       "      <th>of</th>\n",
       "      <td>3.922997</td>\n",
       "    </tr>\n",
       "    <tr>\n",
       "      <th>co</th>\n",
       "      <td>4.326562</td>\n",
       "    </tr>\n",
       "    <tr>\n",
       "      <th>corp</th>\n",
       "      <td>4.413637</td>\n",
       "    </tr>\n",
       "    <tr>\n",
       "      <th>svcs</th>\n",
       "      <td>4.575430</td>\n",
       "    </tr>\n",
       "    <tr>\n",
       "      <th>farms</th>\n",
       "      <td>4.744378</td>\n",
       "    </tr>\n",
       "    <tr>\n",
       "      <th>the</th>\n",
       "      <td>4.745162</td>\n",
       "    </tr>\n",
       "    <tr>\n",
       "      <th>ltd</th>\n",
       "      <td>4.902366</td>\n",
       "    </tr>\n",
       "    <tr>\n",
       "      <th>company</th>\n",
       "      <td>5.009743</td>\n",
       "    </tr>\n",
       "    <tr>\n",
       "      <th>grp</th>\n",
       "      <td>5.084595</td>\n",
       "    </tr>\n",
       "    <tr>\n",
       "      <th>center</th>\n",
       "      <td>5.156331</td>\n",
       "    </tr>\n",
       "    <tr>\n",
       "      <th>construction</th>\n",
       "      <td>5.220554</td>\n",
       "    </tr>\n",
       "    <tr>\n",
       "      <th>service</th>\n",
       "      <td>5.251186</td>\n",
       "    </tr>\n",
       "    <tr>\n",
       "      <th>systems</th>\n",
       "      <td>5.318154</td>\n",
       "    </tr>\n",
       "    <tr>\n",
       "      <th>associates</th>\n",
       "      <td>5.328995</td>\n",
       "    </tr>\n",
       "    <tr>\n",
       "      <th>county</th>\n",
       "      <td>5.343829</td>\n",
       "    </tr>\n",
       "    <tr>\n",
       "      <th>enterprises</th>\n",
       "      <td>5.359973</td>\n",
       "    </tr>\n",
       "    <tr>\n",
       "      <th>trust</th>\n",
       "      <td>5.381233</td>\n",
       "    </tr>\n",
       "  </tbody>\n",
       "</table>\n",
       "</div>"
      ],
      "text/plain": [
       "              idf_weights\n",
       "inc              2.214988\n",
       "llc              2.880707\n",
       "and              3.314485\n",
       "of               3.922997\n",
       "co               4.326562\n",
       "corp             4.413637\n",
       "svcs             4.575430\n",
       "farms            4.744378\n",
       "the              4.745162\n",
       "ltd              4.902366\n",
       "company          5.009743\n",
       "grp              5.084595\n",
       "center           5.156331\n",
       "construction     5.220554\n",
       "service          5.251186\n",
       "systems          5.318154\n",
       "associates       5.328995\n",
       "county           5.343829\n",
       "enterprises      5.359973\n",
       "trust            5.381233"
      ]
     },
     "execution_count": 71,
     "metadata": {},
     "output_type": "execute_result"
    }
   ],
   "source": [
    "df_idf = pd.DataFrame(vectorizer.idf_, index=vectorizer.get_feature_names(),columns=[\"idf_weights\"])\n",
    "df_idf = df_idf.sort_values(by=['idf_weights'])\n",
    "df_idf.head(20)"
   ]
  },
  {
   "cell_type": "markdown",
   "metadata": {},
   "source": [
    "# IDF Distribution of the Vocabulary\n",
    "Most of the company names includes some company specific words. This results can also be seen in the distribution of the idfs (inverse document frequencies). Most of our vocabulary consists of words that occur rarely, thus have high idf (inverse document frequency)."
   ]
  },
  {
   "cell_type": "code",
   "execution_count": 72,
   "metadata": {},
   "outputs": [
    {
     "data": {
      "text/plain": [
       "<matplotlib.axes._subplots.AxesSubplot at 0x7fa03254de80>"
      ]
     },
     "execution_count": 72,
     "metadata": {},
     "output_type": "execute_result"
    },
    {
     "data": {
      "image/png": "[encoded data removed]",
      "text/plain": [
       "<Figure size 432x288 with 1 Axes>"
      ]
     },
     "metadata": {},
     "output_type": "display_data"
    }
   ],
   "source": [
    "sns.distplot(vectorizer.idf_, kde=False, bins=20)"
   ]
  },
  {
   "cell_type": "markdown",
   "metadata": {},
   "source": [
    "## Calculate Cosine Similarity Matrix\n",
    "\n",
    "After we vectorized the company names we calculated the cosine similarity between each company name in the CFMCF (Chair of Financial Management and Capital Markets) Dataset and the US Government Dataset.\n",
    "\n",
    "The resulting cosine similarity matrix has massive size (28k to 2 million). To be able to store it in the memory we selected candidates that have a cosine similarity larger than a given threshould (0.4) and we stored the result in a sparse matrix to eliminate zeros. "
   ]
  },
  {
   "cell_type": "code",
   "execution_count": 73,
   "metadata": {
    "scrolled": false
   },
   "outputs": [
    {
     "name": "stderr",
     "output_type": "stream",
     "text": [
      "/home/sirin/.local/lib/python3.6/site-packages/scipy/sparse/_index.py:118: SparseEfficiencyWarning: Changing the sparsity structure of a csr_matrix is expensive. lil_matrix is more efficient.\n",
      "  self._set_arrayXarray_sparse(i, j, x)\n"
     ]
    },
    {
     "name": "stdout",
     "output_type": "stream",
     "text": [
      "0 of 28816 documents are calculated\n",
      "1000 of 28816 documents are calculated\n",
      "2000 of 28816 documents are calculated\n",
      "3000 of 28816 documents are calculated\n",
      "4000 of 28816 documents are calculated\n",
      "5000 of 28816 documents are calculated\n",
      "6000 of 28816 documents are calculated\n",
      "7000 of 28816 documents are calculated\n",
      "8000 of 28816 documents are calculated\n",
      "9000 of 28816 documents are calculated\n",
      "10000 of 28816 documents are calculated\n",
      "11000 of 28816 documents are calculated\n",
      "12000 of 28816 documents are calculated\n",
      "13000 of 28816 documents are calculated\n",
      "14000 of 28816 documents are calculated\n",
      "15000 of 28816 documents are calculated\n",
      "16000 of 28816 documents are calculated\n",
      "17000 of 28816 documents are calculated\n",
      "18000 of 28816 documents are calculated\n",
      "19000 of 28816 documents are calculated\n",
      "20000 of 28816 documents are calculated\n",
      "21000 of 28816 documents are calculated\n",
      "22000 of 28816 documents are calculated\n",
      "23000 of 28816 documents are calculated\n",
      "24000 of 28816 documents are calculated\n",
      "25000 of 28816 documents are calculated\n",
      "26000 of 28816 documents are calculated\n",
      "27000 of 28816 documents are calculated\n",
      "28000 of 28816 documents are calculated\n"
     ]
    }
   ],
   "source": [
    "THRES = 0.4\n",
    "cosine_similarities, max_similarities = matrix_ops.get_cosine_similarities(tfidf, tfidf_USA, THRES)"
   ]
  },
  {
   "cell_type": "markdown",
   "metadata": {},
   "source": [
    "### Load cosine similarity matrix"
   ]
  },
  {
   "cell_type": "code",
   "execution_count": 7,
   "metadata": {},
   "outputs": [
    {
     "data": {
      "text/plain": [
       "<28816x1702988 sparse matrix of type '<class 'numpy.float64'>'\n",
       "\twith 3844252 stored elements in Compressed Sparse Row format>"
      ]
     },
     "execution_count": 7,
     "metadata": {},
     "output_type": "execute_result"
    }
   ],
   "source": [
    "cosine_similarities  = sparse.load_npz('../processed/cosine_similarities.npz')\n",
    "max_similarities = np.load('../processed/max_similarities.npy')\n",
    "cosine_similarities"
   ]
  },
  {
   "cell_type": "markdown",
   "metadata": {},
   "source": [
    "## Distribution of the Highest Cosine Similarities per Chair Company Name\n",
    "After the preprocessing we see the number of exact matches as high as 3 thousand. \n",
    "\n",
    "Another observetion is that in the chair dataset there are company names for which only low quality matches exist. \n",
    "\n",
    "An example of a such case is having no company name in the US Government datasets that matches the name in the Chair Dataset but having companies that have same company type as 'inc'. In such a case, since 'inc' has very low IDF, the cosine similarity will also be very low even for the best match."
   ]
  },
  {
   "cell_type": "code",
   "execution_count": 8,
   "metadata": {},
   "outputs": [
    {
     "data": {
      "text/plain": [
       "<matplotlib.axes._subplots.AxesSubplot at 0x7fd064a64940>"
      ]
     },
     "execution_count": 8,
     "metadata": {},
     "output_type": "execute_result"
    },
    {
     "data": {
      "image/png": "[encoded data removed]",
      "text/plain": [
       "<Figure size 432x288 with 1 Axes>"
      ]
     },
     "metadata": {},
     "output_type": "display_data"
    }
   ],
   "source": [
    "sns.set(); np.random.seed(0)\n",
    "sns.distplot(max_similarities, kde=False, bins=20)"
   ]
  },
  {
   "cell_type": "markdown",
   "metadata": {},
   "source": [
    "## Selection of the Best Candidates\n",
    "After calculating the cosine similarity between the companies, we end up with an average of 200 candidates for each company in the CFMCF dataset.\n",
    "\n",
    "In our selection of the best candidate we intruduce a bonus point on top of the cosine similarity measure based on __geolocation__.\n",
    "The default bonuses that we selected are as:\n",
    "- same state bonus = 0.05\n",
    "- same zip bonus = 0.1\n",
    "- same address bonus = 0.3\n",
    "\n",
    "Afterwards the selection of the best candidate is done using this combined score metric."
   ]
  },
  {
   "cell_type": "code",
   "execution_count": 11,
   "metadata": {},
   "outputs": [
    {
     "name": "stdout",
     "output_type": "stream",
     "text": [
      "0 of 28816 documents are calculated\n"
     ]
    },
    {
     "name": "stderr",
     "output_type": "stream",
     "text": [
      "/home/sirin/.local/lib/python3.6/site-packages/pandas/core/computation/expressions.py:178: UserWarning: evaluating in Python space because the '*' operator is not supported by numexpr for the bool dtype, use '&' instead\n",
      "  f\"evaluating in Python space because the {repr(op_str)} \"\n",
      "/home/sirin/.local/lib/python3.6/site-packages/pandas/core/ops/array_ops.py:253: FutureWarning: elementwise comparison failed; returning scalar instead, but in the future will perform elementwise comparison\n",
      "  res_values = method(rvalues)\n"
     ]
    },
    {
     "name": "stdout",
     "output_type": "stream",
     "text": [
      "1000 of 28816 documents are calculated\n",
      "2000 of 28816 documents are calculated\n",
      "3000 of 28816 documents are calculated\n",
      "4000 of 28816 documents are calculated\n",
      "5000 of 28816 documents are calculated\n",
      "6000 of 28816 documents are calculated\n",
      "7000 of 28816 documents are calculated\n",
      "8000 of 28816 documents are calculated\n",
      "9000 of 28816 documents are calculated\n",
      "10000 of 28816 documents are calculated\n",
      "11000 of 28816 documents are calculated\n",
      "12000 of 28816 documents are calculated\n",
      "13000 of 28816 documents are calculated\n",
      "14000 of 28816 documents are calculated\n",
      "15000 of 28816 documents are calculated\n",
      "16000 of 28816 documents are calculated\n",
      "17000 of 28816 documents are calculated\n",
      "18000 of 28816 documents are calculated\n",
      "19000 of 28816 documents are calculated\n",
      "20000 of 28816 documents are calculated\n",
      "21000 of 28816 documents are calculated\n",
      "22000 of 28816 documents are calculated\n",
      "23000 of 28816 documents are calculated\n",
      "24000 of 28816 documents are calculated\n",
      "25000 of 28816 documents are calculated\n",
      "26000 of 28816 documents are calculated\n",
      "27000 of 28816 documents are calculated\n",
      "28000 of 28816 documents are calculated\n"
     ]
    }
   ],
   "source": [
    "best_matches = matrix_ops.get_best_candidates(chair_df, usa_df, cosine_similarities, companies, \n",
    "                                              zip_bonus = 0.1, state_bonus=0.05, address_bonus= 0.3)"
   ]
  },
  {
   "cell_type": "code",
   "execution_count": 22,
   "metadata": {},
   "outputs": [],
   "source": [
    "# remove .0 from the end of the duns addresses ex: 012313.0 -> 012313\n",
    "best_matches.recipient_duns = best_matches.recipient_duns.astype('str').str.replace('.0$', '').replace('nan',np.nan)"
   ]
  },
  {
   "cell_type": "markdown",
   "metadata": {},
   "source": [
    "## Save Results"
   ]
  },
  {
   "cell_type": "code",
   "execution_count": 22,
   "metadata": {},
   "outputs": [
    {
     "name": "stdout",
     "output_type": "stream",
     "text": [
      "We managed to match 25961 matches out of 28816 company names.\n",
      "9792 of these pass the similarity score threshold of 0.8.\n"
     ]
    }
   ],
   "source": [
    "print(f'We managed to match { best_matches.score.dropna().shape[0]} matches out of { chair_df.shape[0] } company names.')\n",
    "print(f'{selections.shape[0]} of these pass the similarity score threshold of {QUALITY_THRES}.')"
   ]
  },
  {
   "cell_type": "code",
   "execution_count": 23,
   "metadata": {},
   "outputs": [],
   "source": [
    "best_matches.dropna(how='all').to_csv('../results/matching_table_v2.csv')\n",
    "selections.to_csv('../results/matching_table_with_threshold_v2.csv')"
   ]
  },
  {
   "cell_type": "markdown",
   "metadata": {},
   "source": [
    "## Load Results"
   ]
  },
  {
   "cell_type": "code",
   "execution_count": 9,
   "metadata": {},
   "outputs": [
    {
     "name": "stderr",
     "output_type": "stream",
     "text": [
      "/usr/local/lib/python3.6/dist-packages/IPython/core/interactiveshell.py:3058: DtypeWarning: Columns (36) have mixed types.Specify dtype option on import or set low_memory=False.\n",
      "  interactivity=interactivity, compiler=compiler, result=result)\n"
     ]
    }
   ],
   "source": [
    "best_matches = pd.read_csv('../results/matching_table_v2.csv')\n",
    "selections = pd.read_csv('../results/matching_table_with_threshold_v2.csv')"
   ]
  },
  {
   "cell_type": "markdown",
   "metadata": {},
   "source": [
    "## Cosine Similarity Scores Distribution of the Best Candidates"
   ]
  },
  {
   "cell_type": "code",
   "execution_count": 11,
   "metadata": {},
   "outputs": [
    {
     "data": {
      "image/png": "[encoded data removed]",
      "text/plain": [
       "<Figure size 432x288 with 1 Axes>"
      ]
     },
     "metadata": {},
     "output_type": "display_data"
    }
   ],
   "source": [
    "g = sns.distplot(list(best_matches.cos_sim.dropna()), kde=False,bins=np.arange(0, 1.41, 0.05))\n",
    "_ = g.set(ylim=(0, 4000), xlim=(0.4,1.4))"
   ]
  },
  {
   "cell_type": "markdown",
   "metadata": {},
   "source": [
    "## With Bonus Scores Distribution of the Best Candidates\n",
    "We see a shift in scores due to the bonus points given by geolocation similarities"
   ]
  },
  {
   "cell_type": "code",
   "execution_count": 12,
   "metadata": {},
   "outputs": [
    {
     "data": {
      "image/png": "[encoded data removed]",
      "text/plain": [
       "<Figure size 432x288 with 1 Axes>"
      ]
     },
     "metadata": {},
     "output_type": "display_data"
    }
   ],
   "source": [
    "g = sns.distplot(list(best_matches.score.dropna()), kde=False, bins=np.arange(0, 1.41, 0.05))\n",
    "_ = g.set(ylim=(0, 4000), xlim=(0.4,1.4))"
   ]
  },
  {
   "cell_type": "markdown",
   "metadata": {},
   "source": [
    "## Random Selection of the Best Candidates"
   ]
  },
  {
   "cell_type": "code",
   "execution_count": 27,
   "metadata": {},
   "outputs": [
    {
     "data": {
      "text/html": [
       "<div>\n",
       "<style scoped>\n",
       "    .dataframe tbody tr th:only-of-type {\n",
       "        vertical-align: middle;\n",
       "    }\n",
       "\n",
       "    .dataframe tbody tr th {\n",
       "        vertical-align: top;\n",
       "    }\n",
       "\n",
       "    .dataframe thead th {\n",
       "        text-align: right;\n",
       "    }\n",
       "</style>\n",
       "<table border=\"1\" class=\"dataframe\">\n",
       "  <thead>\n",
       "    <tr style=\"text-align: right;\">\n",
       "      <th></th>\n",
       "      <th>conm</th>\n",
       "      <th>recipient_name</th>\n",
       "      <th>recipient_parent_name</th>\n",
       "      <th>state_fixed</th>\n",
       "      <th>recipient_state_fixed</th>\n",
       "      <th>cos_sim</th>\n",
       "      <th>score</th>\n",
       "      <th>matched_by_parent_name</th>\n",
       "    </tr>\n",
       "  </thead>\n",
       "  <tbody>\n",
       "    <tr>\n",
       "      <th>12082</th>\n",
       "      <td>NV5 HOLDINGS INC</td>\n",
       "      <td>HOLDINGS INC</td>\n",
       "      <td>NaN</td>\n",
       "      <td>FLORIDA</td>\n",
       "      <td>MARYLAND</td>\n",
       "      <td>0.432001</td>\n",
       "      <td>0.000000</td>\n",
       "      <td>False</td>\n",
       "    </tr>\n",
       "    <tr>\n",
       "      <th>7839</th>\n",
       "      <td>TECHNICOM INTERNATIONAL INC</td>\n",
       "      <td>TECHNICOM</td>\n",
       "      <td>NaN</td>\n",
       "      <td>CONNECTICUT</td>\n",
       "      <td>NaN</td>\n",
       "      <td>0.914540</td>\n",
       "      <td>0.914540</td>\n",
       "      <td>False</td>\n",
       "    </tr>\n",
       "    <tr>\n",
       "      <th>4410</th>\n",
       "      <td>SEARS HOLDINGS CORP</td>\n",
       "      <td>SEARS HOLDINGS CORPORATION</td>\n",
       "      <td>SEARS HOLDINGS CORPORATION</td>\n",
       "      <td>ILLINOIS</td>\n",
       "      <td>ILLINOIS</td>\n",
       "      <td>1.000000</td>\n",
       "      <td>1.350000</td>\n",
       "      <td>False</td>\n",
       "    </tr>\n",
       "    <tr>\n",
       "      <th>19332</th>\n",
       "      <td>CELLU TISSUE HOLDINGS INC</td>\n",
       "      <td>BIO-TISSUE, INC.</td>\n",
       "      <td>BIO-TISSUE, INC.</td>\n",
       "      <td>GEORGIA</td>\n",
       "      <td>FLORIDA</td>\n",
       "      <td>0.456795</td>\n",
       "      <td>0.456795</td>\n",
       "      <td>True</td>\n",
       "    </tr>\n",
       "    <tr>\n",
       "      <th>988</th>\n",
       "      <td>BERG ENTERPRISES INC</td>\n",
       "      <td>BERG ENTERPRISES, INC.</td>\n",
       "      <td>BERG ENTERPRISES, INC.</td>\n",
       "      <td>NEW JERSEY</td>\n",
       "      <td>ARIZONA</td>\n",
       "      <td>1.000000</td>\n",
       "      <td>1.000000</td>\n",
       "      <td>True</td>\n",
       "    </tr>\n",
       "    <tr>\n",
       "      <th>7361</th>\n",
       "      <td>SONAR RADIO CORP</td>\n",
       "      <td>SONAR</td>\n",
       "      <td>SONAR ASSURANCES</td>\n",
       "      <td>FLORIDA</td>\n",
       "      <td>NaN</td>\n",
       "      <td>0.797931</td>\n",
       "      <td>0.797931</td>\n",
       "      <td>False</td>\n",
       "    </tr>\n",
       "    <tr>\n",
       "      <th>23605</th>\n",
       "      <td>SUPERMEDIA INC</td>\n",
       "      <td>SUPERMEDIA LLC</td>\n",
       "      <td>SUPERMEDIA LLC</td>\n",
       "      <td>TEXAS</td>\n",
       "      <td>TEXAS</td>\n",
       "      <td>0.968596</td>\n",
       "      <td>1.018596</td>\n",
       "      <td>False</td>\n",
       "    </tr>\n",
       "    <tr>\n",
       "      <th>11072</th>\n",
       "      <td>TEMPLETON GLOBAL INCOME FUND</td>\n",
       "      <td>TEMPLETON FIRE DEPARTMENT</td>\n",
       "      <td>NaN</td>\n",
       "      <td>CALIFORNIA</td>\n",
       "      <td>CALIFORNIA</td>\n",
       "      <td>0.512519</td>\n",
       "      <td>0.562519</td>\n",
       "      <td>False</td>\n",
       "    </tr>\n",
       "    <tr>\n",
       "      <th>17882</th>\n",
       "      <td>99 CENTS ONLY STORES</td>\n",
       "      <td>99 CENTS N UP GIFTS STORE</td>\n",
       "      <td>NaN</td>\n",
       "      <td>CALIFORNIA</td>\n",
       "      <td>CALIFORNIA</td>\n",
       "      <td>0.512078</td>\n",
       "      <td>0.562078</td>\n",
       "      <td>False</td>\n",
       "    </tr>\n",
       "    <tr>\n",
       "      <th>4039</th>\n",
       "      <td>ISSC INDL SOLID STATE CONTRL</td>\n",
       "      <td>I S S C INCORPORATED</td>\n",
       "      <td>I S S C INC</td>\n",
       "      <td>PENNSYLVANIA</td>\n",
       "      <td>WASHINGTON</td>\n",
       "      <td>0.534403</td>\n",
       "      <td>0.000000</td>\n",
       "      <td>False</td>\n",
       "    </tr>\n",
       "  </tbody>\n",
       "</table>\n",
       "</div>"
      ],
      "text/plain": [
       "                               conm              recipient_name  \\\n",
       "12082              NV5 HOLDINGS INC                HOLDINGS INC   \n",
       "7839    TECHNICOM INTERNATIONAL INC                   TECHNICOM   \n",
       "4410            SEARS HOLDINGS CORP  SEARS HOLDINGS CORPORATION   \n",
       "19332     CELLU TISSUE HOLDINGS INC            BIO-TISSUE, INC.   \n",
       "988            BERG ENTERPRISES INC      BERG ENTERPRISES, INC.   \n",
       "7361               SONAR RADIO CORP                       SONAR   \n",
       "23605                SUPERMEDIA INC              SUPERMEDIA LLC   \n",
       "11072  TEMPLETON GLOBAL INCOME FUND   TEMPLETON FIRE DEPARTMENT   \n",
       "17882          99 CENTS ONLY STORES   99 CENTS N UP GIFTS STORE   \n",
       "4039   ISSC INDL SOLID STATE CONTRL        I S S C INCORPORATED   \n",
       "\n",
       "            recipient_parent_name   state_fixed recipient_state_fixed  \\\n",
       "12082                         NaN       FLORIDA              MARYLAND   \n",
       "7839                          NaN   CONNECTICUT                   NaN   \n",
       "4410   SEARS HOLDINGS CORPORATION      ILLINOIS              ILLINOIS   \n",
       "19332            BIO-TISSUE, INC.       GEORGIA               FLORIDA   \n",
       "988        BERG ENTERPRISES, INC.    NEW JERSEY               ARIZONA   \n",
       "7361             SONAR ASSURANCES       FLORIDA                   NaN   \n",
       "23605              SUPERMEDIA LLC         TEXAS                 TEXAS   \n",
       "11072                         NaN    CALIFORNIA            CALIFORNIA   \n",
       "17882                         NaN    CALIFORNIA            CALIFORNIA   \n",
       "4039                  I S S C INC  PENNSYLVANIA            WASHINGTON   \n",
       "\n",
       "        cos_sim     score  matched_by_parent_name  \n",
       "12082  0.432001  0.000000                   False  \n",
       "7839   0.914540  0.914540                   False  \n",
       "4410   1.000000  1.350000                   False  \n",
       "19332  0.456795  0.456795                    True  \n",
       "988    1.000000  1.000000                    True  \n",
       "7361   0.797931  0.797931                   False  \n",
       "23605  0.968596  1.018596                   False  \n",
       "11072  0.512519  0.562519                   False  \n",
       "17882  0.512078  0.562078                   False  \n",
       "4039   0.534403  0.000000                   False  "
      ]
     },
     "execution_count": 27,
     "metadata": {},
     "output_type": "execute_result"
    }
   ],
   "source": [
    "columns = ['conm','recipient_name','recipient_parent_name','state_fixed',\n",
    "           'recipient_state_fixed','cos_sim','score','matched_by_parent_name']\n",
    "\n",
    "\n",
    "best_matches[columns].dropna(how='all').sample(10)"
   ]
  },
  {
   "cell_type": "markdown",
   "metadata": {},
   "source": [
    "## Random Selection of the Best Candidates with Score Threshold"
   ]
  },
  {
   "cell_type": "code",
   "execution_count": 29,
   "metadata": {},
   "outputs": [
    {
     "data": {
      "text/html": [
       "<div>\n",
       "<style scoped>\n",
       "    .dataframe tbody tr th:only-of-type {\n",
       "        vertical-align: middle;\n",
       "    }\n",
       "\n",
       "    .dataframe tbody tr th {\n",
       "        vertical-align: top;\n",
       "    }\n",
       "\n",
       "    .dataframe thead th {\n",
       "        text-align: right;\n",
       "    }\n",
       "</style>\n",
       "<table border=\"1\" class=\"dataframe\">\n",
       "  <thead>\n",
       "    <tr style=\"text-align: right;\">\n",
       "      <th></th>\n",
       "      <th>conm</th>\n",
       "      <th>recipient_name</th>\n",
       "      <th>recipient_parent_name</th>\n",
       "      <th>state_fixed</th>\n",
       "      <th>recipient_state_fixed</th>\n",
       "      <th>cos_sim</th>\n",
       "      <th>score</th>\n",
       "      <th>matched_by_parent_name</th>\n",
       "    </tr>\n",
       "  </thead>\n",
       "  <tbody>\n",
       "    <tr>\n",
       "      <th>4670</th>\n",
       "      <td>LEADER INTL INDUSTRIES INC</td>\n",
       "      <td>LEADER MANUFACTURING INCORPORATED</td>\n",
       "      <td>LEADER INTERNATIONAL CORPORATION</td>\n",
       "      <td>NaN</td>\n",
       "      <td>WASHINGTON</td>\n",
       "      <td>0.820623</td>\n",
       "      <td>0.820623</td>\n",
       "      <td>True</td>\n",
       "    </tr>\n",
       "    <tr>\n",
       "      <th>5472</th>\n",
       "      <td>VALUE PROPERTY TRUST</td>\n",
       "      <td>PROPERTY VALUE, INC.</td>\n",
       "      <td>PROPERTY VALUE  INC.</td>\n",
       "      <td>NEW JERSEY</td>\n",
       "      <td>UTAH</td>\n",
       "      <td>0.894945</td>\n",
       "      <td>0.894945</td>\n",
       "      <td>True</td>\n",
       "    </tr>\n",
       "    <tr>\n",
       "      <th>23055</th>\n",
       "      <td>CHIPOTLE MEXICAN GRILL INC</td>\n",
       "      <td>CHIPOTLE MEXICAN GRILL INCORPORATED</td>\n",
       "      <td>CHIPOTLE MEXICAN GRILL  INC.</td>\n",
       "      <td>COLORADO</td>\n",
       "      <td>CALIFORNIA</td>\n",
       "      <td>1.000000</td>\n",
       "      <td>1.000000</td>\n",
       "      <td>True</td>\n",
       "    </tr>\n",
       "    <tr>\n",
       "      <th>11585</th>\n",
       "      <td>GZA GEOENVIRONMENTAL TECH IN</td>\n",
       "      <td>GZA GEOENVIRONMENTAL INC</td>\n",
       "      <td>GZA GEOENVIRONMENTAL TECHNOLOGIES  INC.</td>\n",
       "      <td>MASSACHUSETTS</td>\n",
       "      <td>MASSACHUSETTS</td>\n",
       "      <td>0.893808</td>\n",
       "      <td>1.243808</td>\n",
       "      <td>False</td>\n",
       "    </tr>\n",
       "    <tr>\n",
       "      <th>16804</th>\n",
       "      <td>CONCENTRA CORP</td>\n",
       "      <td>CONCENTRA, INC</td>\n",
       "      <td>CONCENTRA, INC</td>\n",
       "      <td>MASSACHUSETTS</td>\n",
       "      <td>MASSACHUSETTS</td>\n",
       "      <td>0.927051</td>\n",
       "      <td>0.977051</td>\n",
       "      <td>False</td>\n",
       "    </tr>\n",
       "    <tr>\n",
       "      <th>20968</th>\n",
       "      <td>HANDSPRING INC</td>\n",
       "      <td>HANDSPRING, INC</td>\n",
       "      <td>HANDSPRING, INC</td>\n",
       "      <td>CALIFORNIA</td>\n",
       "      <td>CALIFORNIA</td>\n",
       "      <td>1.000000</td>\n",
       "      <td>1.350000</td>\n",
       "      <td>False</td>\n",
       "    </tr>\n",
       "    <tr>\n",
       "      <th>13982</th>\n",
       "      <td>PHILIP SERVICES CORP</td>\n",
       "      <td>PHILIP SERVICES CORPORATION</td>\n",
       "      <td>PSC  LLC</td>\n",
       "      <td>TEXAS</td>\n",
       "      <td>TEXAS</td>\n",
       "      <td>1.000000</td>\n",
       "      <td>1.050000</td>\n",
       "      <td>False</td>\n",
       "    </tr>\n",
       "    <tr>\n",
       "      <th>4906</th>\n",
       "      <td>MACANDREWS &amp; FORBES</td>\n",
       "      <td>AM GENERAL, LLC</td>\n",
       "      <td>MACANDREWS &amp; FORBES HOLDINGS INC.</td>\n",
       "      <td>NEW YORK</td>\n",
       "      <td>INDIANA</td>\n",
       "      <td>0.932824</td>\n",
       "      <td>0.932824</td>\n",
       "      <td>True</td>\n",
       "    </tr>\n",
       "    <tr>\n",
       "      <th>3527</th>\n",
       "      <td>GRACO INC</td>\n",
       "      <td>GRACO INC.</td>\n",
       "      <td>NaN</td>\n",
       "      <td>MINNESOTA</td>\n",
       "      <td>MINNESOTA</td>\n",
       "      <td>1.000000</td>\n",
       "      <td>1.050000</td>\n",
       "      <td>False</td>\n",
       "    </tr>\n",
       "    <tr>\n",
       "      <th>7165</th>\n",
       "      <td>SEARS INDUSTRIES INC</td>\n",
       "      <td>SEARS</td>\n",
       "      <td>NaN</td>\n",
       "      <td>GEORGIA</td>\n",
       "      <td>GEORGIA</td>\n",
       "      <td>0.854964</td>\n",
       "      <td>0.904964</td>\n",
       "      <td>False</td>\n",
       "    </tr>\n",
       "  </tbody>\n",
       "</table>\n",
       "</div>"
      ],
      "text/plain": [
       "                               conm                       recipient_name  \\\n",
       "4670     LEADER INTL INDUSTRIES INC    LEADER MANUFACTURING INCORPORATED   \n",
       "5472           VALUE PROPERTY TRUST                 PROPERTY VALUE, INC.   \n",
       "23055    CHIPOTLE MEXICAN GRILL INC  CHIPOTLE MEXICAN GRILL INCORPORATED   \n",
       "11585  GZA GEOENVIRONMENTAL TECH IN             GZA GEOENVIRONMENTAL INC   \n",
       "16804                CONCENTRA CORP                       CONCENTRA, INC   \n",
       "20968                HANDSPRING INC                      HANDSPRING, INC   \n",
       "13982          PHILIP SERVICES CORP          PHILIP SERVICES CORPORATION   \n",
       "4906            MACANDREWS & FORBES                      AM GENERAL, LLC   \n",
       "3527                      GRACO INC                           GRACO INC.   \n",
       "7165           SEARS INDUSTRIES INC                                SEARS   \n",
       "\n",
       "                         recipient_parent_name    state_fixed  \\\n",
       "4670          LEADER INTERNATIONAL CORPORATION            NaN   \n",
       "5472                      PROPERTY VALUE  INC.     NEW JERSEY   \n",
       "23055             CHIPOTLE MEXICAN GRILL  INC.       COLORADO   \n",
       "11585  GZA GEOENVIRONMENTAL TECHNOLOGIES  INC.  MASSACHUSETTS   \n",
       "16804                           CONCENTRA, INC  MASSACHUSETTS   \n",
       "20968                          HANDSPRING, INC     CALIFORNIA   \n",
       "13982                                 PSC  LLC          TEXAS   \n",
       "4906         MACANDREWS & FORBES HOLDINGS INC.       NEW YORK   \n",
       "3527                                       NaN      MINNESOTA   \n",
       "7165                                       NaN        GEORGIA   \n",
       "\n",
       "      recipient_state_fixed   cos_sim     score  matched_by_parent_name  \n",
       "4670             WASHINGTON  0.820623  0.820623                    True  \n",
       "5472                   UTAH  0.894945  0.894945                    True  \n",
       "23055            CALIFORNIA  1.000000  1.000000                    True  \n",
       "11585         MASSACHUSETTS  0.893808  1.243808                   False  \n",
       "16804         MASSACHUSETTS  0.927051  0.977051                   False  \n",
       "20968            CALIFORNIA  1.000000  1.350000                   False  \n",
       "13982                 TEXAS  1.000000  1.050000                   False  \n",
       "4906                INDIANA  0.932824  0.932824                    True  \n",
       "3527              MINNESOTA  1.000000  1.050000                   False  \n",
       "7165                GEORGIA  0.854964  0.904964                   False  "
      ]
     },
     "execution_count": 29,
     "metadata": {},
     "output_type": "execute_result"
    }
   ],
   "source": [
    "QUALITY_THRES = 0.8\n",
    "selections = best_matches[best_matches.score>QUALITY_THRES]\n",
    "selections[columns].sample(10)"
   ]
  },
  {
   "cell_type": "code",
   "execution_count": 25,
   "metadata": {},
   "outputs": [
    {
     "data": {
      "image/png": "[encoded data removed]",
      "text/plain": [
       "<Figure size 720x720 with 3 Axes>"
      ]
     },
     "metadata": {},
     "output_type": "display_data"
    }
   ],
   "source": [
    "fig_data = best_matches[best_matches.cos_sim<1]\n",
    "\n",
    "with sns.axes_style(\"white\"):\n",
    "    sns.jointplot(x=fig_data.cos_sim, y=fig_data.score, kind=\"hex\", color=\"k\", height = 10);"
   ]
  }
 ],
 "metadata": {
  "kernelspec": {
   "display_name": "Python 3",
   "language": "python",
   "name": "python3"
  },
  "language_info": {
   "codemirror_mode": {
    "name": "ipython",
    "version": 3
   },
   "file_extension": ".py",
   "mimetype": "text/x-python",
   "name": "python",
   "nbconvert_exporter": "python",
   "pygments_lexer": "ipython3",
   "version": "3.6.8"
  }
 },
 "nbformat": 4,
 "nbformat_minor": 1
}
