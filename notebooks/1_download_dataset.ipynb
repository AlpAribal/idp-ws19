{
 "cells": [
  {
   "cell_type": "code",
   "execution_count": 1,
   "metadata": {},
   "outputs": [],
   "source": [
    "%load_ext autoreload\n",
    "%autoreload 2\n",
    "import sys; import os\n",
    "sys.path.append(os.path.abspath('../'))\n",
    "\n",
    "from src import csv_handlers, data_retrieval"
   ]
  },
  {
   "cell_type": "markdown",
   "metadata": {},
   "source": [
    "# USA Spending Data\n",
    "This notebook downloads the US Government Spending data using the publicly available API at https://api.usaspending.gov/.\n",
    "For our project, we use the collective data from 2000-01-01 to 2020-01-01.\n",
    "\n",
    "In our API requests, we use batches of 12 weeks and we collect all award types that are available in the __USASPENDING API__.\n",
    "\n",
    "To download 20 years of data, disk space around __30 GB__ is needed."
   ]
  },
  {
   "cell_type": "code",
   "execution_count": 2,
   "metadata": {
    "scrolled": true
   },
   "outputs": [
    {
     "name": "stderr",
     "output_type": "stream",
     "text": [
      "\r",
      "  0%|          | 0/86 [00:00<?, ?it/s]"
     ]
    },
    {
     "name": "stdout",
     "output_type": "stream",
     "text": [
      "Starting bulk download. Progress will be logged in download.log.\n"
     ]
    },
    {
     "name": "stderr",
     "output_type": "stream",
     "text": [
      "100%|██████████| 86/86 [7:34:12<00:00, 300.45s/it]   "
     ]
    }
   ],
   "source": [
    "data_retrieval.download_bulk_in_batches(\"2000-01-01\", \"2020-01-01\", \"../data\", \n",
    "                                              award_types=[\"contracts\", \"direct_payments\", \"grants\",\n",
    "                                                           \"idvs\", \"loans\", \"other_financial_assistance\"],\n",
    "                                              batch_size=12)"
   ]
  },
  {
   "cell_type": "markdown",
   "metadata": {},
   "source": [
    "## Merge downloaded data to a single CSV\n",
    "\n",
    "Here we merge the downloaded zip files to a single csv file under the given folder path, e.g. data/all_recipients.csv.\n",
    "\n",
    "\n",
    "For space efficiency, we extract only the fields related to the award recipient in each .zip file. After, dropping duplicates we have a .csv file with 7 million unique rows, which takes around 1 GB of disk space.\n",
    "\n",
    "Opening all fields in all .zip files would need space in the order of hundreds of gigabytes."
   ]
  },
  {
   "cell_type": "code",
   "execution_count": 3,
   "metadata": {},
   "outputs": [
    {
     "name": "stdout",
     "output_type": "stream",
     "text": [
      "Starting extraction. Progress will be logged in extraction.log.\n"
     ]
    }
   ],
   "source": [
    "csv_handlers.extract_all_recipients(\"../data\")"
   ]
  },
  {
   "cell_type": "markdown",
   "metadata": {},
   "source": [
    "Now we are ready to [process our data](./2_data_manipulation.ipynb)."
   ]
  }
 ],
 "metadata": {
  "kernelspec": {
   "display_name": "Python 3",
   "language": "python",
   "name": "python3"
  },
  "language_info": {
   "codemirror_mode": {
    "name": "ipython",
    "version": 3
   },
   "file_extension": ".py",
   "mimetype": "text/x-python",
   "name": "python",
   "nbconvert_exporter": "python",
   "pygments_lexer": "ipython3",
   "version": "3.6.8"
  }
 },
 "nbformat": 4,
 "nbformat_minor": 1
}
