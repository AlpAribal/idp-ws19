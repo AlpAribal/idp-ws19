{
 "cells": [
  {
   "cell_type": "code",
   "execution_count": 1,
   "metadata": {},
   "outputs": [],
   "source": [
    "from src import csv_handlers, data_retrieval\n",
    "import asyncio"
   ]
  },
  {
   "cell_type": "markdown",
   "metadata": {},
   "source": [
    "# USA Spending Data\n",
    "This notebook downloads the US Government Spending data using the publicly available api https://api.usaspending.gov/.\n",
    "In our experiments we used the collective data from 2000-01-01 to 2020-01-01.\n",
    "\n",
    "In our API requests we used batches of 16 week and we collected the all award types that is available in the __USASPENDING API__. \n",
    "\n",
    "To download 20 years of data disc space around __30gb__ is needed."
   ]
  },
  {
   "cell_type": "code",
   "execution_count": null,
   "metadata": {
    "scrolled": true
   },
   "outputs": [],
   "source": [
    "data_retrieval.download_bulk_in_batches(\"2000-01-01\", \"2020-01-01\", \"data\", \n",
    "                                              award_types=[\"contracts\", \"direct_payments\", \"grants\",\n",
    "                                                           \"idvs\", \"loans\", \"other_financial_assistance\"],\n",
    "                                              batch_size=12)"
   ]
  },
  {
   "cell_type": "markdown",
   "metadata": {},
   "source": [
    "## Merge downloaded data to a single CSV\n",
    "\n",
    "Here we merge the downloaded zip files to a single csv file under the given folder path. __ex:__ data/all_recipients.csv \n",
    "\n",
    "\n",
    "For space efficency we collect only the fields related to the recipient in each zip and after dropping duplicates we have a csv with 7 million unique rows that consumes around 1 gb of disc space.\n",
    "\n",
    "Opening the all zip files would need space in the order of 100s of gigabytes."
   ]
  },
  {
   "cell_type": "code",
   "execution_count": null,
   "metadata": {},
   "outputs": [],
   "source": [
    "csv_handlers.extract_all_recipients(\"data\")"
   ]
  }
 ],
 "metadata": {
  "kernelspec": {
   "display_name": "Python 3",
   "language": "python",
   "name": "python3"
  },
  "language_info": {
   "codemirror_mode": {
    "name": "ipython",
    "version": 3
   },
   "file_extension": ".py",
   "mimetype": "text/x-python",
   "name": "python",
   "nbconvert_exporter": "python",
   "pygments_lexer": "ipython3",
   "version": "3.7.3"
  }
 },
 "nbformat": 4,
 "nbformat_minor": 1
}
